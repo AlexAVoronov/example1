{
 "cells": [
  {
   "cell_type": "markdown",
   "id": "89e75257",
   "metadata": {},
   "source": [
    "<h1> Как рассказать историю с помощью данных"
   ]
  },
  {
   "cell_type": "markdown",
   "id": "17edda9d",
   "metadata": {},
   "source": [
    "<h2>Описание проекта"
   ]
  },
  {
   "cell_type": "markdown",
   "id": "31757cf8",
   "metadata": {},
   "source": [
    "Вы решили открыть небольшое кафе в Москве. Оно оригинальное — гостей должны обслуживать роботы. Проект многообещающий, но дорогой. Вместе с партнёрами вы решились обратиться к инвесторам. Их интересует текущее положение дел на рынке — сможете ли вы снискать популярность на долгое время, когда все зеваки насмотрятся на роботов-официантов?\n",
    "Вы — гуру аналитики, и партнёры просят вас подготовить исследование рынка. У вас есть открытые данные о заведениях общественного питания в Москве."
   ]
  },
  {
   "cell_type": "markdown",
   "id": "d1038927",
   "metadata": {},
   "source": [
    "## Список заданий"
   ]
  },
  {
   "cell_type": "markdown",
   "id": "6904956b",
   "metadata": {},
   "source": [
    "1. Исследуйте соотношение видов объектов общественного питания по количеству. Постройте график.\n",
    "2. Исследуйте соотношение сетевых и несетевых заведений по количеству. Постройте график.\n",
    "3. Для какого вида объекта общественного питания характерно сетевое распространение?\n",
    "4. Что характерно для сетевых заведений: много заведений с небольшим числом посадочных мест в каждом или мало заведений с большим количеством посадочных мест?\n",
    "5. Для каждого вида объекта общественного питания опишите среднее количество посадочных мест. Какой вид предоставляет в среднем самое большое количество посадочных мест? Постройте графики.\n",
    "6. Выделите в отдельный столбец информацию об улице из столбца address .\n",
    "7. Постройте график топ-10 улиц по количеству объектов общественного питания. Воспользуйтесь внешней информацией и ответьте на вопрос — в каких районах Москвы находятся эти улицы?\n",
    "8. Найдите число улиц с одним объектом общественного питания. Воспользуйтесь внешней информацией и ответьте на вопрос — в каких районах Москвы находятся эти улицы?"
   ]
  },
  {
   "cell_type": "markdown",
   "id": "27517741",
   "metadata": {},
   "source": [
    "## Загрузка данных для обработки"
   ]
  },
  {
   "cell_type": "markdown",
   "id": "593045c4",
   "metadata": {},
   "source": [
    "Перед началом работы нужно загрузить необходимые библиотеки для обработки данных."
   ]
  },
  {
   "cell_type": "code",
   "execution_count": 1,
   "id": "3015245e",
   "metadata": {},
   "outputs": [],
   "source": [
    "import pandas as pd\n",
    "import numpy as np\n",
    "import seaborn as sns\n",
    "from matplotlib import pyplot as plt                      \n",
    "import requests\n",
    "from io import BytesIO                                    # Загрузка библиотек\n",
    "import warnings\n",
    "warnings.filterwarnings(\"ignore\")                         # Отключение предупреждений"
   ]
  },
  {
   "cell_type": "markdown",
   "id": "57076c39",
   "metadata": {},
   "source": [
    "Теперь загрузим данные и посмотрим базовую структуру."
   ]
  },
  {
   "cell_type": "code",
   "execution_count": 2,
   "id": "552390bc",
   "metadata": {},
   "outputs": [
    {
     "name": "stdout",
     "output_type": "stream",
     "text": [
      "<class 'pandas.core.frame.DataFrame'>\n",
      "RangeIndex: 15366 entries, 0 to 15365\n",
      "Data columns (total 6 columns):\n",
      " #   Column       Non-Null Count  Dtype \n",
      "---  ------       --------------  ----- \n",
      " 0   id           15366 non-null  int64 \n",
      " 1   object_name  15366 non-null  object\n",
      " 2   chain        15366 non-null  object\n",
      " 3   object_type  15366 non-null  object\n",
      " 4   address      15366 non-null  object\n",
      " 5   number       15366 non-null  int64 \n",
      "dtypes: int64(2), object(4)\n",
      "memory usage: 720.4+ KB\n"
     ]
    }
   ],
   "source": [
    "rest_df = pd.read_csv('https://code.s3.yandex.net/datasets/rest_data.csv')    # Чтение данных из файла с сервера\n",
    "rest_df.info()                                                                # Просмотр структуры"
   ]
  },
  {
   "cell_type": "markdown",
   "id": "654c4a28",
   "metadata": {},
   "source": [
    "В датафрейме обнаружены следующие столбцы:\n",
    "\n",
    "* `id` — идентификатор объекта;\n",
    "* `object_name` — название объекта общественного питания;\n",
    "* `chain` — сетевой ресторан;\n",
    "* `object_type` — тип объекта общественного питания;\n",
    "* `address` — адрес;\n",
    "* `number` — количество посадочных мест."
   ]
  },
  {
   "cell_type": "markdown",
   "id": "6e17ce72",
   "metadata": {},
   "source": [
    "Для того, чтобы определить районы города, в которых находятся заведения, было выполнено извлечение данных в виде файлов:\n",
    " * по улицам - источник (https://data.mos.ru/classifier/7710168515-obshchemoskovskiy-klassifikator-ulits-moskvy-omk-001-2013-razdel-1/passport?versionNumber=1&releaseNumber=52);\n",
    " * по районам - источник (https://data.mos.ru/classifier/7710168515-obshchemoskovskiy-klassifikator-territorialnyh-edinits-moskvy-omk-002-2013-razdel-1/passport?versionNumber=1&releaseNumber=5)."
   ]
  },
  {
   "cell_type": "markdown",
   "id": "341a2d49",
   "metadata": {},
   "source": [
    "Данные были извлечены в виде двух таблиц в формате `.csv`. Начнем с выгрузки данных по улицам из первого файла по ссылке."
   ]
  },
  {
   "cell_type": "code",
   "execution_count": 3,
   "id": "8c97af44",
   "metadata": {},
   "outputs": [
    {
     "name": "stdout",
     "output_type": "stream",
     "text": [
      "<class 'pandas.core.frame.DataFrame'>\n",
      "RangeIndex: 5325 entries, 0 to 5324\n",
      "Data columns (total 17 columns):\n",
      " #   Column       Non-Null Count  Dtype \n",
      "---  ------       --------------  ----- \n",
      " 0   UM_CODE      5325 non-null   object\n",
      " 1   UM_NAMEF     5325 non-null   object\n",
      " 2   UM_NAMES     5325 non-null   object\n",
      " 3   UM_TRANS     5325 non-null   object\n",
      " 4   UM_TYPE      5325 non-null   object\n",
      " 5   UM_TM        1319 non-null   object\n",
      " 6   UM_TE        5325 non-null   object\n",
      " 7   UM_KLADR     5089 non-null   object\n",
      " 8   global_id    5325 non-null   object\n",
      " 9   UM_CODE_en   1 non-null      object\n",
      " 10  UM_NAMEF_en  1 non-null      object\n",
      " 11  UM_NAMES_en  1 non-null      object\n",
      " 12  UM_TRANS_en  1 non-null      object\n",
      " 13  UM_TYPE_en   1 non-null      object\n",
      " 14  UM_TM_en     1 non-null      object\n",
      " 15  UM_TE_en     1 non-null      object\n",
      " 16  UM_KLADR_en  1 non-null      object\n",
      "dtypes: object(17)\n",
      "memory usage: 707.4+ KB\n"
     ]
    }
   ],
   "source": [
    "msk_streets = '1NKDQnzXNnlZIm4a5ihNAuWbP7M6OnFyx3Woo176L4fE'                                       # ID файла\n",
    "file_name1 = 'https://docs.google.com/spreadsheets/d/{}/export?format=csv'.format(msk_streets)     # Ссылка для загрузки\n",
    "rqst1 = requests.get(file_name1)                                                                   # Загрузка файла \n",
    "msk_st = pd.read_csv(BytesIO(rqst1.content))                               # Чтение данных из файла \n",
    "msk_st.info()                                                              # Просмотр структуры датафрейма"
   ]
  },
  {
   "cell_type": "markdown",
   "id": "da87cf3f",
   "metadata": {},
   "source": [
    "Теперь извлечем данные по районам из второго выгруженного файла в отдельный датафрейм. "
   ]
  },
  {
   "cell_type": "code",
   "execution_count": 4,
   "id": "ce99773a",
   "metadata": {},
   "outputs": [
    {
     "name": "stdout",
     "output_type": "stream",
     "text": [
      "<class 'pandas.core.frame.DataFrame'>\n",
      "RangeIndex: 158 entries, 0 to 157\n",
      "Data columns (total 6 columns):\n",
      " #   Column      Non-Null Count  Dtype \n",
      "---  ------      --------------  ----- \n",
      " 0   Kod         158 non-null    int64 \n",
      " 1   Name        158 non-null    object\n",
      " 2   global_id   158 non-null    int64 \n",
      " 3   Latin_name  158 non-null    object\n",
      " 4   Type        158 non-null    int64 \n",
      " 5   Kod_okato   158 non-null    int64 \n",
      "dtypes: int64(4), object(2)\n",
      "memory usage: 7.5+ KB\n"
     ]
    }
   ],
   "source": [
    "msk_districts = '1GD8QCD7vDN4suAEchg8JlyI37dFbbYPIHbQkSv-fTVA'                                      # ID файла\n",
    "file_name2 = 'https://docs.google.com/spreadsheets/d/{}/export?format=csv'.format(msk_districts)    # Ссылка для загрузки\n",
    "rqst2 = requests.get(file_name2)                                                                    # Загрузка файла\n",
    "msk_dst = pd.read_csv(BytesIO(rqst2.content))                              # Чтение данных из файла \n",
    "msk_dst.info()                                                             # Просмотр структуры датафрейма"
   ]
  },
  {
   "cell_type": "markdown",
   "id": "0781a67c",
   "metadata": {},
   "source": [
    "Загрузка данных завершена, переходим к предобработке данных."
   ]
  },
  {
   "cell_type": "markdown",
   "id": "0afd0fb0",
   "metadata": {},
   "source": [
    "## Предобработка данных"
   ]
  },
  {
   "cell_type": "markdown",
   "id": "ae7c50da",
   "metadata": {},
   "source": [
    "### Предобработка данных по адресам заведений"
   ]
  },
  {
   "cell_type": "markdown",
   "id": "2c7c6dbc",
   "metadata": {},
   "source": [
    "Проверим датафрейм на наличие пропусков, которые могут помешать обработке."
   ]
  },
  {
   "cell_type": "code",
   "execution_count": 5,
   "id": "0de23351",
   "metadata": {},
   "outputs": [
    {
     "data": {
      "text/plain": [
       "id             0\n",
       "object_name    0\n",
       "chain          0\n",
       "object_type    0\n",
       "address        0\n",
       "number         0\n",
       "dtype: int64"
      ]
     },
     "execution_count": 5,
     "metadata": {},
     "output_type": "execute_result"
    }
   ],
   "source": [
    "rest_df.isna().sum()                       # Просмотр количества пустых значений в столбцах"
   ]
  },
  {
   "cell_type": "markdown",
   "id": "6a425174",
   "metadata": {},
   "source": [
    "Пропусков в столбцах нет. Теперь проверим на наличие дубликатов."
   ]
  },
  {
   "cell_type": "code",
   "execution_count": 6,
   "id": "d2ac42f0",
   "metadata": {},
   "outputs": [
    {
     "data": {
      "text/plain": [
       "0"
      ]
     },
     "execution_count": 6,
     "metadata": {},
     "output_type": "execute_result"
    }
   ],
   "source": [
    "rest_df.duplicated().sum()                 # Определение количества явных дубликатов"
   ]
  },
  {
   "cell_type": "markdown",
   "id": "247f2e1c",
   "metadata": {},
   "source": [
    "Дубликаты не обнаружены. Можно переходить к поочередной проверке содержания столбцов, начиная со столбца с идентификаторами. "
   ]
  },
  {
   "cell_type": "code",
   "execution_count": 7,
   "id": "64a2736c",
   "metadata": {},
   "outputs": [
    {
     "data": {
      "text/plain": [
       "15366"
      ]
     },
     "metadata": {},
     "output_type": "display_data"
    }
   ],
   "source": [
    "display(len(rest_df['id'].unique()))                    # Просмотр количества уникальных заведений"
   ]
  },
  {
   "cell_type": "markdown",
   "id": "93b30621",
   "metadata": {},
   "source": [
    "Всего обнаружено 15366 уникальных объектов. Посмотрим по столбцу с названиями количество оригинальных названий."
   ]
  },
  {
   "cell_type": "code",
   "execution_count": 8,
   "id": "4b4e3c39",
   "metadata": {},
   "outputs": [
    {
     "data": {
      "text/plain": [
       "10393"
      ]
     },
     "metadata": {},
     "output_type": "display_data"
    }
   ],
   "source": [
    "names = list(rest_df['object_name'].unique())           # Формирование списка уникальных названий\n",
    "display(len(names))                                     # Просмотр количества названий"
   ]
  },
  {
   "cell_type": "markdown",
   "id": "f287a2de",
   "metadata": {},
   "source": [
    "Всего обнаружено 10393 уникальных названия. Поскольку количество названий меньше, чем общее количество объектов, это означает, что у сетевых ресторанов разные идентификаторы, но общее название заведения. Просмотрим список уникальных признаков сетевого ресторана на наличие необычных значений."
   ]
  },
  {
   "cell_type": "code",
   "execution_count": 9,
   "id": "e57d5b18",
   "metadata": {},
   "outputs": [
    {
     "data": {
      "text/plain": [
       "['нет', 'да']"
      ]
     },
     "metadata": {},
     "output_type": "display_data"
    }
   ],
   "source": [
    "chain_list = list(rest_df['chain'].unique())            # Список с уникальными признаками сетевого ресторана\n",
    "display((chain_list))                                   # Просмотр списка признаков"
   ]
  },
  {
   "cell_type": "markdown",
   "id": "c01a873b",
   "metadata": {},
   "source": [
    "Необычных статусов нет, только \"да\" или \"нет\". Определим уникальные типы заведений в датафрейме."
   ]
  },
  {
   "cell_type": "code",
   "execution_count": 10,
   "id": "12c47c5d",
   "metadata": {},
   "outputs": [
    {
     "data": {
      "text/plain": [
       "['кафе',\n",
       " 'столовая',\n",
       " 'закусочная',\n",
       " 'предприятие быстрого обслуживания',\n",
       " 'ресторан',\n",
       " 'кафетерий',\n",
       " 'буфет',\n",
       " 'бар',\n",
       " 'магазин (отдел кулинарии)']"
      ]
     },
     "metadata": {},
     "output_type": "display_data"
    }
   ],
   "source": [
    "rest_types = list(rest_df['object_type'].unique())      # Формирование списка уникальных типов заведений\n",
    "display(rest_types)                                     # Просмотр списка типов"
   ]
  },
  {
   "cell_type": "markdown",
   "id": "da7e6951",
   "metadata": {},
   "source": [
    "Всего 9 разных типов заведений. Осталось определить минимальное и максимальное количество мест в заведении. "
   ]
  },
  {
   "cell_type": "code",
   "execution_count": 11,
   "id": "f22b2c4b",
   "metadata": {},
   "outputs": [
    {
     "data": {
      "text/plain": [
       "'Минимальное количество мест: 0'"
      ]
     },
     "metadata": {},
     "output_type": "display_data"
    },
    {
     "data": {
      "text/plain": [
       "'Максимальное количество мест: 1700'"
      ]
     },
     "metadata": {},
     "output_type": "display_data"
    }
   ],
   "source": [
    "seat_cap = pd.Series(rest_df['number'].unique()).sort_values()        # Сортированный список с количеством мест в нем\n",
    "display('Минимальное количество мест: {}'.format(seat_cap.min()))     # Минимальное значение\n",
    "display('Максимальное количество мест: {}'.format(seat_cap.max()))    # Максимальное значение"
   ]
  },
  {
   "cell_type": "markdown",
   "id": "5f05f978",
   "metadata": {},
   "source": [
    "Скорее всего, нулевое значение вместимости характерно для магазинов, где просто не было предусмотрено место для приема пищи, а максимальная вместимость будет находиться в одной из столовых."
   ]
  },
  {
   "cell_type": "markdown",
   "id": "288adedd",
   "metadata": {},
   "source": [
    "### Предобработка данных по улицам Москвы"
   ]
  },
  {
   "cell_type": "markdown",
   "id": "ee327687",
   "metadata": {},
   "source": [
    "Посмотрим первые строки датафрейма, чтобы найти нужные нам столбцы с данными, предварительно изменив регистр названий столбцов в нем."
   ]
  },
  {
   "cell_type": "code",
   "execution_count": 12,
   "id": "302fe97a",
   "metadata": {},
   "outputs": [
    {
     "data": {
      "text/html": [
       "<div>\n",
       "<style scoped>\n",
       "    .dataframe tbody tr th:only-of-type {\n",
       "        vertical-align: middle;\n",
       "    }\n",
       "\n",
       "    .dataframe tbody tr th {\n",
       "        vertical-align: top;\n",
       "    }\n",
       "\n",
       "    .dataframe thead th {\n",
       "        text-align: right;\n",
       "    }\n",
       "</style>\n",
       "<table border=\"1\" class=\"dataframe\">\n",
       "  <thead>\n",
       "    <tr style=\"text-align: right;\">\n",
       "      <th></th>\n",
       "      <th>um_code</th>\n",
       "      <th>um_namef</th>\n",
       "      <th>um_names</th>\n",
       "      <th>um_trans</th>\n",
       "      <th>um_type</th>\n",
       "      <th>um_tm</th>\n",
       "      <th>um_te</th>\n",
       "      <th>um_kladr</th>\n",
       "      <th>global_id</th>\n",
       "      <th>um_code_en</th>\n",
       "      <th>um_namef_en</th>\n",
       "      <th>um_names_en</th>\n",
       "      <th>um_trans_en</th>\n",
       "      <th>um_type_en</th>\n",
       "      <th>um_tm_en</th>\n",
       "      <th>um_te_en</th>\n",
       "      <th>um_kladr_en</th>\n",
       "    </tr>\n",
       "  </thead>\n",
       "  <tbody>\n",
       "    <tr>\n",
       "      <th>0</th>\n",
       "      <td>Код</td>\n",
       "      <td>Полное наименование</td>\n",
       "      <td>Сокращённое наименование</td>\n",
       "      <td>Транслитерация</td>\n",
       "      <td>Код вида</td>\n",
       "      <td>Код ОМК ТМ</td>\n",
       "      <td>Код ОМК ТЕ</td>\n",
       "      <td>Код КЛАДР</td>\n",
       "      <td>global_id</td>\n",
       "      <td>UM_CODE_en</td>\n",
       "      <td>UM_NAMEF_en</td>\n",
       "      <td>UM_NAMES_en</td>\n",
       "      <td>UM_TRANS_en</td>\n",
       "      <td>UM_TYPE_en</td>\n",
       "      <td>UM_TM_en</td>\n",
       "      <td>UM_TE_en</td>\n",
       "      <td>UM_KLADR_en</td>\n",
       "    </tr>\n",
       "    <tr>\n",
       "      <th>1</th>\n",
       "      <td>8880</td>\n",
       "      <td>1-й Ирининский переулок</td>\n",
       "      <td>1-й Ирининский пер.</td>\n",
       "      <td>Pervy'j Irininskij pereulok</td>\n",
       "      <td>2</td>\n",
       "      <td>NaN</td>\n",
       "      <td>102</td>\n",
       "      <td>7,7E+16</td>\n",
       "      <td>58481065</td>\n",
       "      <td>NaN</td>\n",
       "      <td>NaN</td>\n",
       "      <td>NaN</td>\n",
       "      <td>NaN</td>\n",
       "      <td>NaN</td>\n",
       "      <td>NaN</td>\n",
       "      <td>NaN</td>\n",
       "      <td>NaN</td>\n",
       "    </tr>\n",
       "    <tr>\n",
       "      <th>2</th>\n",
       "      <td>8890</td>\n",
       "      <td>2-й Ирининский переулок</td>\n",
       "      <td>2-й Ирининский пер.</td>\n",
       "      <td>Vtoroj Irininskij pereulok</td>\n",
       "      <td>2</td>\n",
       "      <td>NaN</td>\n",
       "      <td>102</td>\n",
       "      <td>7,7E+16</td>\n",
       "      <td>58481066</td>\n",
       "      <td>NaN</td>\n",
       "      <td>NaN</td>\n",
       "      <td>NaN</td>\n",
       "      <td>NaN</td>\n",
       "      <td>NaN</td>\n",
       "      <td>NaN</td>\n",
       "      <td>NaN</td>\n",
       "      <td>NaN</td>\n",
       "    </tr>\n",
       "    <tr>\n",
       "      <th>3</th>\n",
       "      <td>8891</td>\n",
       "      <td>3-й Ирининский переулок</td>\n",
       "      <td>3-й Ирининский пер.</td>\n",
       "      <td>Tretij Irininskij pereulok</td>\n",
       "      <td>2</td>\n",
       "      <td>NaN</td>\n",
       "      <td>102</td>\n",
       "      <td>7,7E+16</td>\n",
       "      <td>58481067</td>\n",
       "      <td>NaN</td>\n",
       "      <td>NaN</td>\n",
       "      <td>NaN</td>\n",
       "      <td>NaN</td>\n",
       "      <td>NaN</td>\n",
       "      <td>NaN</td>\n",
       "      <td>NaN</td>\n",
       "      <td>NaN</td>\n",
       "    </tr>\n",
       "    <tr>\n",
       "      <th>4</th>\n",
       "      <td>8910</td>\n",
       "      <td>Иркутская улица</td>\n",
       "      <td>Иркутская ул.</td>\n",
       "      <td>Irkutskaya ulicza</td>\n",
       "      <td>1</td>\n",
       "      <td>NaN</td>\n",
       "      <td>406</td>\n",
       "      <td>7,7E+16</td>\n",
       "      <td>58481068</td>\n",
       "      <td>NaN</td>\n",
       "      <td>NaN</td>\n",
       "      <td>NaN</td>\n",
       "      <td>NaN</td>\n",
       "      <td>NaN</td>\n",
       "      <td>NaN</td>\n",
       "      <td>NaN</td>\n",
       "      <td>NaN</td>\n",
       "    </tr>\n",
       "  </tbody>\n",
       "</table>\n",
       "</div>"
      ],
      "text/plain": [
       "  um_code                 um_namef                  um_names  \\\n",
       "0     Код      Полное наименование  Сокращённое наименование   \n",
       "1    8880  1-й Ирининский переулок       1-й Ирининский пер.   \n",
       "2    8890  2-й Ирининский переулок       2-й Ирининский пер.   \n",
       "3    8891  3-й Ирининский переулок       3-й Ирининский пер.   \n",
       "4    8910          Иркутская улица             Иркутская ул.   \n",
       "\n",
       "                      um_trans   um_type       um_tm       um_te   um_kladr  \\\n",
       "0               Транслитерация  Код вида  Код ОМК ТМ  Код ОМК ТЕ  Код КЛАДР   \n",
       "1  Pervy'j Irininskij pereulok         2         NaN         102    7,7E+16   \n",
       "2   Vtoroj Irininskij pereulok         2         NaN         102    7,7E+16   \n",
       "3   Tretij Irininskij pereulok         2         NaN         102    7,7E+16   \n",
       "4            Irkutskaya ulicza         1         NaN         406    7,7E+16   \n",
       "\n",
       "   global_id  um_code_en  um_namef_en  um_names_en  um_trans_en  um_type_en  \\\n",
       "0  global_id  UM_CODE_en  UM_NAMEF_en  UM_NAMES_en  UM_TRANS_en  UM_TYPE_en   \n",
       "1   58481065         NaN          NaN          NaN          NaN         NaN   \n",
       "2   58481066         NaN          NaN          NaN          NaN         NaN   \n",
       "3   58481067         NaN          NaN          NaN          NaN         NaN   \n",
       "4   58481068         NaN          NaN          NaN          NaN         NaN   \n",
       "\n",
       "   um_tm_en  um_te_en  um_kladr_en  \n",
       "0  UM_TM_en  UM_TE_en  UM_KLADR_en  \n",
       "1       NaN       NaN          NaN  \n",
       "2       NaN       NaN          NaN  \n",
       "3       NaN       NaN          NaN  \n",
       "4       NaN       NaN          NaN  "
      ]
     },
     "execution_count": 12,
     "metadata": {},
     "output_type": "execute_result"
    }
   ],
   "source": [
    "msk_st.columns = msk_st.columns.str.lower()           # Приведение названий столбцов к нижнему регистру\n",
    "msk_st.head()                                         # Просмотр первых 5 строк"
   ]
  },
  {
   "cell_type": "markdown",
   "id": "5458ff61",
   "metadata": {},
   "source": [
    "В датафрейме есть нулевая строка с русскими наименованиям столбцов, она нам не потребуется. Из всех столбцов нам будут нужны только название улицы и код округа."
   ]
  },
  {
   "cell_type": "code",
   "execution_count": 13,
   "id": "dcee76f8",
   "metadata": {},
   "outputs": [
    {
     "data": {
      "text/html": [
       "<div>\n",
       "<style scoped>\n",
       "    .dataframe tbody tr th:only-of-type {\n",
       "        vertical-align: middle;\n",
       "    }\n",
       "\n",
       "    .dataframe tbody tr th {\n",
       "        vertical-align: top;\n",
       "    }\n",
       "\n",
       "    .dataframe thead th {\n",
       "        text-align: right;\n",
       "    }\n",
       "</style>\n",
       "<table border=\"1\" class=\"dataframe\">\n",
       "  <thead>\n",
       "    <tr style=\"text-align: right;\">\n",
       "      <th></th>\n",
       "      <th>street</th>\n",
       "      <th>district_code</th>\n",
       "    </tr>\n",
       "  </thead>\n",
       "  <tbody>\n",
       "    <tr>\n",
       "      <th>1</th>\n",
       "      <td>1-й Ирининский переулок</td>\n",
       "      <td>102</td>\n",
       "    </tr>\n",
       "    <tr>\n",
       "      <th>2</th>\n",
       "      <td>2-й Ирининский переулок</td>\n",
       "      <td>102</td>\n",
       "    </tr>\n",
       "    <tr>\n",
       "      <th>3</th>\n",
       "      <td>3-й Ирининский переулок</td>\n",
       "      <td>102</td>\n",
       "    </tr>\n",
       "    <tr>\n",
       "      <th>4</th>\n",
       "      <td>Иркутская улица</td>\n",
       "      <td>406</td>\n",
       "    </tr>\n",
       "    <tr>\n",
       "      <th>5</th>\n",
       "      <td>1-й Иртышский проезд</td>\n",
       "      <td>406</td>\n",
       "    </tr>\n",
       "  </tbody>\n",
       "</table>\n",
       "</div>"
      ],
      "text/plain": [
       "                    street district_code\n",
       "1  1-й Ирининский переулок           102\n",
       "2  2-й Ирининский переулок           102\n",
       "3  3-й Ирининский переулок           102\n",
       "4          Иркутская улица           406\n",
       "5     1-й Иртышский проезд           406"
      ]
     },
     "execution_count": 13,
     "metadata": {},
     "output_type": "execute_result"
    }
   ],
   "source": [
    "streets = msk_st[1:][['um_namef','um_te']]                    # Срез по столбцам без нулевой строки\n",
    "streets.columns = ['street','district_code']                  # Переименование столбцов\n",
    "streets.head()                                                # Просмотр первых 5 строк"
   ]
  },
  {
   "cell_type": "markdown",
   "id": "312b01c2",
   "metadata": {},
   "source": [
    "Проверим созданный срез на наличие пропусков."
   ]
  },
  {
   "cell_type": "code",
   "execution_count": 14,
   "id": "6cdb1c01",
   "metadata": {},
   "outputs": [
    {
     "data": {
      "text/plain": [
       "street           0\n",
       "district_code    0\n",
       "dtype: int64"
      ]
     },
     "execution_count": 14,
     "metadata": {},
     "output_type": "execute_result"
    }
   ],
   "source": [
    "streets.isna().sum()                     # Проверка на наличие пропусков"
   ]
  },
  {
   "cell_type": "markdown",
   "id": "201cc1c3",
   "metadata": {},
   "source": [
    "Улицы и коды районов выделены, пропусков в них нет. Переходим к следующему файлу."
   ]
  },
  {
   "cell_type": "markdown",
   "id": "0e9e1435",
   "metadata": {},
   "source": [
    "### Предобработка данных по районам Москвы"
   ]
  },
  {
   "cell_type": "markdown",
   "id": "3db39ddd",
   "metadata": {},
   "source": [
    "Как и в датафрейме по улицам, изменим регистры названий столбцов и посмотрим первые строки для определения необходимых столбцов."
   ]
  },
  {
   "cell_type": "code",
   "execution_count": 15,
   "id": "8aab41ed",
   "metadata": {},
   "outputs": [
    {
     "data": {
      "text/html": [
       "<div>\n",
       "<style scoped>\n",
       "    .dataframe tbody tr th:only-of-type {\n",
       "        vertical-align: middle;\n",
       "    }\n",
       "\n",
       "    .dataframe tbody tr th {\n",
       "        vertical-align: top;\n",
       "    }\n",
       "\n",
       "    .dataframe thead th {\n",
       "        text-align: right;\n",
       "    }\n",
       "</style>\n",
       "<table border=\"1\" class=\"dataframe\">\n",
       "  <thead>\n",
       "    <tr style=\"text-align: right;\">\n",
       "      <th></th>\n",
       "      <th>kod</th>\n",
       "      <th>name</th>\n",
       "      <th>global_id</th>\n",
       "      <th>latin_name</th>\n",
       "      <th>type</th>\n",
       "      <th>kod_okato</th>\n",
       "    </tr>\n",
       "  </thead>\n",
       "  <tbody>\n",
       "    <tr>\n",
       "      <th>0</th>\n",
       "      <td>100</td>\n",
       "      <td>Центральный административный округ</td>\n",
       "      <td>58703558</td>\n",
       "      <td>Czentral`ny'j administrativny'j okrug</td>\n",
       "      <td>2</td>\n",
       "      <td>45286000</td>\n",
       "    </tr>\n",
       "    <tr>\n",
       "      <th>1</th>\n",
       "      <td>101</td>\n",
       "      <td>район Арбат</td>\n",
       "      <td>58703559</td>\n",
       "      <td>rajon Arbat</td>\n",
       "      <td>3</td>\n",
       "      <td>45286552</td>\n",
       "    </tr>\n",
       "    <tr>\n",
       "      <th>2</th>\n",
       "      <td>102</td>\n",
       "      <td>Басманный район</td>\n",
       "      <td>58703560</td>\n",
       "      <td>Basmanny'j rajon</td>\n",
       "      <td>3</td>\n",
       "      <td>45286555</td>\n",
       "    </tr>\n",
       "    <tr>\n",
       "      <th>3</th>\n",
       "      <td>103</td>\n",
       "      <td>район Замоскворечье</td>\n",
       "      <td>58703561</td>\n",
       "      <td>rajon Zamoskvorech`e</td>\n",
       "      <td>3</td>\n",
       "      <td>45286560</td>\n",
       "    </tr>\n",
       "    <tr>\n",
       "      <th>4</th>\n",
       "      <td>104</td>\n",
       "      <td>Красносельский район</td>\n",
       "      <td>58703562</td>\n",
       "      <td>Krasnosel`skij rajon</td>\n",
       "      <td>3</td>\n",
       "      <td>45286565</td>\n",
       "    </tr>\n",
       "  </tbody>\n",
       "</table>\n",
       "</div>"
      ],
      "text/plain": [
       "   kod                                name  global_id  \\\n",
       "0  100  Центральный административный округ   58703558   \n",
       "1  101                         район Арбат   58703559   \n",
       "2  102                     Басманный район   58703560   \n",
       "3  103                 район Замоскворечье   58703561   \n",
       "4  104                Красносельский район   58703562   \n",
       "\n",
       "                              latin_name  type  kod_okato  \n",
       "0  Czentral`ny'j administrativny'j okrug     2   45286000  \n",
       "1                            rajon Arbat     3   45286552  \n",
       "2                       Basmanny'j rajon     3   45286555  \n",
       "3                   rajon Zamoskvorech`e     3   45286560  \n",
       "4                   Krasnosel`skij rajon     3   45286565  "
      ]
     },
     "execution_count": 15,
     "metadata": {},
     "output_type": "execute_result"
    }
   ],
   "source": [
    "msk_dst.columns = msk_dst.columns.str.lower()            # Приведение названий столбцов к нижнему регистру\n",
    "msk_dst.head()                                           # Просмотр первых 5 строк"
   ]
  },
  {
   "cell_type": "markdown",
   "id": "497009c4",
   "metadata": {},
   "source": [
    "В этом датафрейме нам понадобится срез данных по двум столбцам: код территориальной единицы и наименование района или округа. Дополнительно определим различные типы территориальных единиц, для чего просмотрим только часть датафрейма, выбрав из него каждую 8 строку в нем. "
   ]
  },
  {
   "cell_type": "code",
   "execution_count": 16,
   "id": "c4f65f88",
   "metadata": {},
   "outputs": [
    {
     "data": {
      "text/html": [
       "<div>\n",
       "<style scoped>\n",
       "    .dataframe tbody tr th:only-of-type {\n",
       "        vertical-align: middle;\n",
       "    }\n",
       "\n",
       "    .dataframe tbody tr th {\n",
       "        vertical-align: top;\n",
       "    }\n",
       "\n",
       "    .dataframe thead th {\n",
       "        text-align: right;\n",
       "    }\n",
       "</style>\n",
       "<table border=\"1\" class=\"dataframe\">\n",
       "  <thead>\n",
       "    <tr style=\"text-align: right;\">\n",
       "      <th></th>\n",
       "      <th>district_code</th>\n",
       "      <th>district_name</th>\n",
       "    </tr>\n",
       "  </thead>\n",
       "  <tbody>\n",
       "    <tr>\n",
       "      <th>0</th>\n",
       "      <td>100</td>\n",
       "      <td>Центральный административный округ</td>\n",
       "    </tr>\n",
       "    <tr>\n",
       "      <th>8</th>\n",
       "      <td>108</td>\n",
       "      <td>Тверской район</td>\n",
       "    </tr>\n",
       "    <tr>\n",
       "      <th>16</th>\n",
       "      <td>206</td>\n",
       "      <td>район Восточное Дегунино</td>\n",
       "    </tr>\n",
       "    <tr>\n",
       "      <th>24</th>\n",
       "      <td>214</td>\n",
       "      <td>район Сокол</td>\n",
       "    </tr>\n",
       "    <tr>\n",
       "      <th>32</th>\n",
       "      <td>304</td>\n",
       "      <td>район Бибирево</td>\n",
       "    </tr>\n",
       "    <tr>\n",
       "      <th>40</th>\n",
       "      <td>312</td>\n",
       "      <td>район Ростокино</td>\n",
       "    </tr>\n",
       "    <tr>\n",
       "      <th>48</th>\n",
       "      <td>404</td>\n",
       "      <td>район Вешняки</td>\n",
       "    </tr>\n",
       "    <tr>\n",
       "      <th>56</th>\n",
       "      <td>412</td>\n",
       "      <td>район Новокосино</td>\n",
       "    </tr>\n",
       "    <tr>\n",
       "      <th>64</th>\n",
       "      <td>504</td>\n",
       "      <td>район Выхино-Жулебино</td>\n",
       "    </tr>\n",
       "    <tr>\n",
       "      <th>72</th>\n",
       "      <td>512</td>\n",
       "      <td>район Некрасовка</td>\n",
       "    </tr>\n",
       "    <tr>\n",
       "      <th>80</th>\n",
       "      <td>609</td>\n",
       "      <td>Даниловский район</td>\n",
       "    </tr>\n",
       "    <tr>\n",
       "      <th>88</th>\n",
       "      <td>617</td>\n",
       "      <td>район Орехово-Борисово Южное</td>\n",
       "    </tr>\n",
       "    <tr>\n",
       "      <th>96</th>\n",
       "      <td>703</td>\n",
       "      <td>район Зюзино</td>\n",
       "    </tr>\n",
       "    <tr>\n",
       "      <th>104</th>\n",
       "      <td>711</td>\n",
       "      <td>район Южное Бутово</td>\n",
       "    </tr>\n",
       "    <tr>\n",
       "      <th>112</th>\n",
       "      <td>813</td>\n",
       "      <td>район Внуково</td>\n",
       "    </tr>\n",
       "    <tr>\n",
       "      <th>120</th>\n",
       "      <td>900</td>\n",
       "      <td>Северо-Западный административный округ</td>\n",
       "    </tr>\n",
       "    <tr>\n",
       "      <th>128</th>\n",
       "      <td>908</td>\n",
       "      <td>район Южное Тушино</td>\n",
       "    </tr>\n",
       "    <tr>\n",
       "      <th>136</th>\n",
       "      <td>1101</td>\n",
       "      <td>поселение Внуковское</td>\n",
       "    </tr>\n",
       "    <tr>\n",
       "      <th>144</th>\n",
       "      <td>1109</td>\n",
       "      <td>поселение Сосенское</td>\n",
       "    </tr>\n",
       "    <tr>\n",
       "      <th>152</th>\n",
       "      <td>1205</td>\n",
       "      <td>поселение Михайлово-Ярцевское</td>\n",
       "    </tr>\n",
       "  </tbody>\n",
       "</table>\n",
       "</div>"
      ],
      "text/plain": [
       "     district_code                           district_name\n",
       "0              100      Центральный административный округ\n",
       "8              108                          Тверской район\n",
       "16             206                район Восточное Дегунино\n",
       "24             214                             район Сокол\n",
       "32             304                          район Бибирево\n",
       "40             312                         район Ростокино\n",
       "48             404                           район Вешняки\n",
       "56             412                        район Новокосино\n",
       "64             504                   район Выхино-Жулебино\n",
       "72             512                        район Некрасовка\n",
       "80             609                       Даниловский район\n",
       "88             617            район Орехово-Борисово Южное\n",
       "96             703                            район Зюзино\n",
       "104            711                      район Южное Бутово\n",
       "112            813                           район Внуково\n",
       "120            900  Северо-Западный административный округ\n",
       "128            908                      район Южное Тушино\n",
       "136           1101                    поселение Внуковское\n",
       "144           1109                     поселение Сосенское\n",
       "152           1205           поселение Михайлово-Ярцевское"
      ]
     },
     "execution_count": 16,
     "metadata": {},
     "output_type": "execute_result"
    }
   ],
   "source": [
    "districts = msk_dst[['kod','name']]                            # Срез данных по столбцам\n",
    "districts.columns = ['district_code','district_name']          # Переименование столбцов\n",
    "districts[::8]                                                 # Просмотр каждой восьмой строки датафрейма"
   ]
  },
  {
   "cell_type": "markdown",
   "id": "5ef5bb0a",
   "metadata": {},
   "source": [
    "Проверим наличие пропусков в этом срезе данных."
   ]
  },
  {
   "cell_type": "code",
   "execution_count": 17,
   "id": "392ba9da",
   "metadata": {},
   "outputs": [
    {
     "data": {
      "text/plain": [
       "district_code    0\n",
       "district_name    0\n",
       "dtype: int64"
      ]
     },
     "execution_count": 17,
     "metadata": {},
     "output_type": "execute_result"
    }
   ],
   "source": [
    "districts.isna().sum()                 # Проверка на наличие пропусков"
   ]
  },
  {
   "cell_type": "markdown",
   "id": "6e46f22d",
   "metadata": {},
   "source": [
    "Пропусков в срезе нет. Но обратим внимание на то, что в списке есть такие типы территориальных единиц, как округ, район и поселение. Посмотрим сколько округов, районов и поселений присутствует в срезе."
   ]
  },
  {
   "cell_type": "code",
   "execution_count": 18,
   "id": "31af0f46",
   "metadata": {},
   "outputs": [
    {
     "name": "stdout",
     "output_type": "stream",
     "text": [
      "Количество округов: 12\n",
      "Количество районов: 125\n",
      "Количество поселений: 21\n"
     ]
    }
   ],
   "source": [
    "areas = []                                                    # Список для записи округов\n",
    "total_dst = []                                                # Список для записи районов\n",
    "total_stl = []                                                # Список с поселениями\n",
    "for c in range(len(districts)):                               # Цикл по датафрейму\n",
    "    if 'округ' in districts['district_name'][c]:              # Если округ в названии территории, то\n",
    "        areas.append(districts['district_name'][c])           # запишем в список округов\n",
    "    if 'район' in districts['district_name'][c]:              # Если район в названии территории, то\n",
    "        total_dst.append(districts['district_name'][c])       # запишем в список районов\n",
    "    if 'поселение' in districts['district_name'][c]:          # Если поселение в названии территории, то\n",
    "        total_stl.append(districts['district_name'][c])       # запишем в список районов\n",
    "print(\"Количество округов:\",len(areas))                       # Просмотр количества округов \n",
    "print(\"Количество районов:\",len(total_dst))                   # Просмотр количества районов\n",
    "print(\"Количество поселений:\",len(total_stl))                 # Просмотр количества районов"
   ]
  },
  {
   "cell_type": "markdown",
   "id": "f94c541b",
   "metadata": {},
   "source": [
    "Необходимые для объединения данные выделены. Согласно публичному источнику (https://ru.wikipedia.org/wiki/Административно-территориальное_деление_Москвы) административное деление соответствует актуальному."
   ]
  },
  {
   "cell_type": "markdown",
   "id": "7d705348",
   "metadata": {},
   "source": [
    "### Подготовка справочника по адресам и районам"
   ]
  },
  {
   "cell_type": "markdown",
   "id": "1f9e11a5",
   "metadata": {},
   "source": [
    "Просмотр типы данных перед объединением по очереди для разных датафреймов, начиная с датафрейма по улицам."
   ]
  },
  {
   "cell_type": "code",
   "execution_count": 19,
   "id": "5d2cb631",
   "metadata": {},
   "outputs": [
    {
     "data": {
      "text/plain": [
       "street           object\n",
       "district_code    object\n",
       "dtype: object"
      ]
     },
     "execution_count": 19,
     "metadata": {},
     "output_type": "execute_result"
    }
   ],
   "source": [
    "streets.dtypes                 # Просмотр типов данных в столбцах"
   ]
  },
  {
   "cell_type": "markdown",
   "id": "f3ceb52b",
   "metadata": {},
   "source": [
    "Здесь код района указан в текстовом виде. Посмотрим типы данных во датафрейме по районам."
   ]
  },
  {
   "cell_type": "code",
   "execution_count": 20,
   "id": "0ca63c4e",
   "metadata": {},
   "outputs": [
    {
     "data": {
      "text/plain": [
       "district_code     int64\n",
       "district_name    object\n",
       "dtype: object"
      ]
     },
     "execution_count": 20,
     "metadata": {},
     "output_type": "execute_result"
    }
   ],
   "source": [
    "districts.dtypes               # Просмотр типов данных в столбцах"
   ]
  },
  {
   "cell_type": "markdown",
   "id": "d62a8087",
   "metadata": {},
   "source": [
    "Во втором датафрейме коды района записаны в виде целого числа. Перед объединением проверим значения столбца с кодом района на наличие аномалий."
   ]
  },
  {
   "cell_type": "code",
   "execution_count": 21,
   "id": "b0783042",
   "metadata": {},
   "outputs": [
    {
     "data": {
      "text/plain": [
       "array(['102', '406', '905', '303', '108', '807', '507', '404', '618',\n",
       "       '0103;0110', '110', '312', '711', '513', '101', '104', '0101;0106',\n",
       "       '310', '107', '0107;0510', '610', '105', '306', '409',\n",
       "       '0612;0618;0615', '704', '702', '505', '106', '712', '906', '510',\n",
       "       '311', '208', '701', '813', '816', '301', '606', '0612;0618',\n",
       "       '0818;0819', '0703;0710', '308', '0612;0613',\n",
       "       '0612;0613;0616;0617', '213', '0704;0707', '206', '703', '805',\n",
       "       '214', '508', '0102;0104', '0619;0620;0621', '0621;0620', '621',\n",
       "       '417', '0107;0108', '614', '103', '216', '819', '608', '820',\n",
       "       '415', '416', '0103;0609', '609', '818', '0515;0609', '515', '809',\n",
       "       '201', '708', '612', '418', '613', '212', '0104;0105', '1012',\n",
       "       '1011', '0303;0313', '0303;0307', '0105;0108', '109', '207', '907',\n",
       "       '304', '0110;0610', '210', '0411;0413', '203', '0203;0208;0209',\n",
       "       '0308;0310;0215;0305', '0205;0210', '0302;0304', '215',\n",
       "       '0702;0815', '0814;0817', '0706;0814', '317', '0403;0415',\n",
       "       '0506;0508;0514', '209', '620', '0107;0515', '0701;0705', '615',\n",
       "       '706', '1005', '0107;0609', '0806;0807;0818;0905', '806', '403',\n",
       "       '0504;0506', '407', '901', '511', '413', '611', '0805;0819',\n",
       "       '0214;0217', '0207;0211;0216', '309', '811', '313', '815',\n",
       "       '0211;0216', '0201;0202;0214;0217',\n",
       "       '0205;0207;0211;0212;0214;1009;1010',\n",
       "       '0110;0610;0702;0706;0707;0709;0814;0817', '504', '1010', '616',\n",
       "       '903', '512', '0606;0618', '0814;0815;0820', '0104;0418', '908',\n",
       "       '0403;0410', '509', '0101;0109', '0508;0509;0514', '307', '217',\n",
       "       '0106;0217', '205', '514', '0509;0508', '0201;0213',\n",
       "       '0201;0202;0213', '707', '0511;0515', '0212;0901', '0415;0417',\n",
       "       '607', '0407;0411;0413', '305', '0805;0815;0818;0819',\n",
       "       '0105;0301;0309;0310;0312;0313;0317', '902', '0207;0210', '315',\n",
       "       '0814;0815;0817;0820', '0314;0316', '0406;0410', '408',\n",
       "       '0101;0108', '0103;0110;0609', '0613;0614', '705', '0707;0710',\n",
       "       '0407;0411', '0205;0207;0210', '0906;0907', '0608;0612', '710',\n",
       "       '0615;0701;0703;0705;0706;0710', '0106;0108', '0508;0509', '202',\n",
       "       '0408;0416', '0205;0903', '412', '0817;0820', '817', '0108;0213',\n",
       "       '0108;0309', '411', '0606;0616;0618', '0701;0710',\n",
       "       '0704;0707;0710', '0102;0107', '0305;0309', '1010;1012',\n",
       "       '0506;0513;0514', '0310;0311', '0207;0216', '0611;0616;0617',\n",
       "       '0510;0514', '0303;0307;0314', '0704;0707;0709', '0403;0410;0415',\n",
       "       '1005;1009;1011;1012', '0702;0706', '0405;0408;0416', '405',\n",
       "       '0405;0416', '0405;0408', '0507;0510', '0413;0510', '0310;0312',\n",
       "       '0706;0707', '904', '1009;1011', '0506;0513', '0202;0217',\n",
       "       '0708;0711', '314', '0302;0311', '0903;0908', '211', '0106;0906',\n",
       "       '0206;0208', '0701;0704;0707;0709;0710;0712', '0302;0306',\n",
       "       '0901;0902', '0904;0908', '0814;0815', '0105;0309', '0816;1106',\n",
       "       '0609;0610', '0806;0807;0818;0819', '0809;0820', '0504;0510;0513',\n",
       "       '0409;0412', '0513;0514', '0903;0904;0908',\n",
       "       '0610;0703;0704;0705;0710;0712', '0310;0311;0312;0313',\n",
       "       '0312;0313', '0102;0108', '0203;0311', '0107;0515;0609',\n",
       "       '0615;0703', '0504;0506;0513', '506', '0408;0417', '302',\n",
       "       '0819;0820', '0816;0811', '0412;0409', '619', '0105;0108;0309',\n",
       "       '617', '709', '0407;0413', '0908;0902', '0203;0209',\n",
       "       '0701;0702;0705', '0413;0417', '0807;0819', '0101;0108;0109',\n",
       "       '0105;0104', '0110;0609;0610', '414', '410', '1009;1010',\n",
       "       '0612;0616;0617;0606', '0611;0616', '0504;0508', '0406;0408;0416',\n",
       "       '0407;0408;0413;0417;0507', '1009', '0506;0514', '316',\n",
       "       '0701;0702', '1101', '1201', '1102', '1103', '1202', '1203',\n",
       "       '1104', '1204', '1204;1209', '1105', '1205', '1106', '1107',\n",
       "       '1206', '1207', '1208', '1108', '1109', '1110', '1210', '1111',\n",
       "       '1111; 1102; 1108', '1209', '1109;1107;1106', '0109;0110',\n",
       "       '0109;0805', '0101;0106;0805', '1005;1011;1012', '0418;0415',\n",
       "       '0404;0412', '0404;0409;0412', '0404;0409', '0708;0712',\n",
       "       '0816;0817', '0816;0820', '0902;0903;0908', '0902;0908',\n",
       "       '0901;0904', '0208;0306', '0306;0315', '0307;0317', '0317;0410',\n",
       "       '0621;0712', '0109;0702', '0905;0907', '0905;0806',\n",
       "       '0819;0809;0820', '0106;0805', '0815;0109', '0608;0505',\n",
       "       '0418;0403', '0616;0612', '0815;0109;0101', '0418;0403;0415',\n",
       "       '0507;0102', '0820;0819', '0108;0109;0110', '0107;0103',\n",
       "       '0906;0806;0818', '0102;0507', '0805;0815;0109', '0109;0815;0702',\n",
       "       '0316;0303', '0316;0313;0303', '0108;0110', '0613;0609;0614',\n",
       "       '0107;0103;0609', '0301;0312', '0211;0904', '0110;0103',\n",
       "       '0818;0106', '0415;0418;0417', '0205;0210;0215',\n",
       "       '0302;0304;0306;0311', '0809;0819;0820', '0208;0209',\n",
       "       '0515;0609;0613;0614', '0303;0307;0313', '0615;0619;0703',\n",
       "       '0201;0214', '0805;0818', '0201;0202', '0616;0617', '0608;0611',\n",
       "       '0203;0206;0208', '0403;0418', '0615;0703;0710', '0108;0109',\n",
       "       '0811;0813;0816;1101;1105', '0308;0310', '0213;0215;0305',\n",
       "       '0610;0701;0702;0706', '0215;0305',\n",
       "       '0610;0613;0615;0619;0620;0621;0708;0711;1111',\n",
       "       '0702;0706;0814;0815;0817', '0505;0508;0509', '0706;0707;0710',\n",
       "       '0606;0616', '0107;0504;0506;0510;0511;0514;0515',\n",
       "       '0214;0902;0903;0907', '0107;0507', '0504;0513', '0610;0702',\n",
       "       '0415;0403', '1005;1012', '0101;0106;0108', '0205;0207',\n",
       "       '0203;0206', '0310;0311;0313',\n",
       "       '0203;0206;0208;0209;0215;0306;0315', '0619;0620', '0616;0618',\n",
       "       '0607;0620;0621', '0611;0617', '0506;0508', '0417;0415',\n",
       "       '0711;1111', '814', '0509;0511', '0815;0820', '1109;1107'],\n",
       "      dtype=object)"
      ]
     },
     "metadata": {},
     "output_type": "display_data"
    }
   ],
   "source": [
    "d_codes = streets['district_code'].unique()               # Список уникальных значений кода в столбце\n",
    "display(d_codes)                                          # Просмотр списка"
   ]
  },
  {
   "cell_type": "markdown",
   "id": "5aa91aef",
   "metadata": {},
   "source": [
    "По этому списку получается, что одна улица вполне может проходить по территории нескольких районов. Обычное объединение здесь не подойдет, поэтому создадим функцию `set_district` для формирования списка районов для конкретной улицы."
   ]
  },
  {
   "cell_type": "code",
   "execution_count": 22,
   "id": "ff13e73e",
   "metadata": {},
   "outputs": [],
   "source": [
    "def set_district (strt_code):                                  # Объявление функции\n",
    "    district_list = ''                                         # Пустая строка для записи названий районов\n",
    "    codes = strt_code.split(';')                               # Разделение строки с кодами на отдельные коды\n",
    "    for code in codes:                                         # Цикл по кодам\n",
    "        aim = int(code)                                        # Преобразование кода перед сравнением в целое число\n",
    "        aim_dst = 'Not found!'                                 # Контрольная строка с надписью \"Не найдено!\"\n",
    "        for i in range(len(districts)):                        # Цикл по кодам районов\n",
    "            if districts['district_code'][i] == aim:           # Если код соответствует искомому, то\n",
    "                aim_dst = districts['district_name'][i]        # записываем название района в контрольную строку\n",
    "        if len(district_list) == 0:                            # Если строка с районами пуста, то\n",
    "            district_list+=aim_dst                             # добавляем переименованную строку\n",
    "        else: district_list=district_list + '; ' + aim_dst     # Если район уже записан, \n",
    "                                                               # то добавляем следующий с разделителем\n",
    "    return district_list                                       # Возвращение списка с районами"
   ]
  },
  {
   "cell_type": "markdown",
   "id": "202c1c88",
   "metadata": {},
   "source": [
    "Применим в датафрейме с улицами новую функцию к столбцу с кодами для формирования нового столбца с районами. "
   ]
  },
  {
   "cell_type": "code",
   "execution_count": 23,
   "id": "1ba3a5bc",
   "metadata": {},
   "outputs": [
    {
     "data": {
      "text/html": [
       "<div>\n",
       "<style scoped>\n",
       "    .dataframe tbody tr th:only-of-type {\n",
       "        vertical-align: middle;\n",
       "    }\n",
       "\n",
       "    .dataframe tbody tr th {\n",
       "        vertical-align: top;\n",
       "    }\n",
       "\n",
       "    .dataframe thead th {\n",
       "        text-align: right;\n",
       "    }\n",
       "</style>\n",
       "<table border=\"1\" class=\"dataframe\">\n",
       "  <thead>\n",
       "    <tr style=\"text-align: right;\">\n",
       "      <th></th>\n",
       "      <th>street</th>\n",
       "      <th>district_code</th>\n",
       "      <th>districts</th>\n",
       "    </tr>\n",
       "  </thead>\n",
       "  <tbody>\n",
       "    <tr>\n",
       "      <th>1</th>\n",
       "      <td>1-й Ирининский переулок</td>\n",
       "      <td>102</td>\n",
       "      <td>Басманный район</td>\n",
       "    </tr>\n",
       "    <tr>\n",
       "      <th>2</th>\n",
       "      <td>2-й Ирининский переулок</td>\n",
       "      <td>102</td>\n",
       "      <td>Басманный район</td>\n",
       "    </tr>\n",
       "    <tr>\n",
       "      <th>3</th>\n",
       "      <td>3-й Ирининский переулок</td>\n",
       "      <td>102</td>\n",
       "      <td>Басманный район</td>\n",
       "    </tr>\n",
       "    <tr>\n",
       "      <th>4</th>\n",
       "      <td>Иркутская улица</td>\n",
       "      <td>406</td>\n",
       "      <td>район Гольяново</td>\n",
       "    </tr>\n",
       "    <tr>\n",
       "      <th>5</th>\n",
       "      <td>1-й Иртышский проезд</td>\n",
       "      <td>406</td>\n",
       "      <td>район Гольяново</td>\n",
       "    </tr>\n",
       "  </tbody>\n",
       "</table>\n",
       "</div>"
      ],
      "text/plain": [
       "                    street district_code        districts\n",
       "1  1-й Ирининский переулок           102  Басманный район\n",
       "2  2-й Ирининский переулок           102  Басманный район\n",
       "3  3-й Ирининский переулок           102  Басманный район\n",
       "4          Иркутская улица           406  район Гольяново\n",
       "5     1-й Иртышский проезд           406  район Гольяново"
      ]
     },
     "execution_count": 23,
     "metadata": {},
     "output_type": "execute_result"
    }
   ],
   "source": [
    "streets['districts'] = streets['district_code'].apply(lambda x: set_district(x))   # Применение функции к столбцу\n",
    "streets.head()                                                                     # Просмотр первых 5 строк"
   ]
  },
  {
   "cell_type": "markdown",
   "id": "c90fd51c",
   "metadata": {},
   "source": [
    "Теперь проверим по контрольной строке из функции наличие ошибочных заполнений."
   ]
  },
  {
   "cell_type": "code",
   "execution_count": 24,
   "id": "eeff0a60",
   "metadata": {},
   "outputs": [
    {
     "data": {
      "text/plain": [
       "0"
      ]
     },
     "metadata": {},
     "output_type": "display_data"
    }
   ],
   "source": [
    "nf_streets = streets.query('\"Not found!\" in districts')        # Запрос по значению контрольной строки\n",
    "display(len(nf_streets))                                       # Просмотр длины датафрейма по результату запроса"
   ]
  },
  {
   "cell_type": "markdown",
   "id": "cd44d066",
   "metadata": {},
   "source": [
    "Запрос ошибочных заполнений пуст. Датафрейм (который теперь представляет собой в некотором роде справочник) для определения района города по улице готов. "
   ]
  },
  {
   "cell_type": "markdown",
   "id": "76a8f53e",
   "metadata": {},
   "source": [
    "### Задание 1"
   ]
  },
  {
   "cell_type": "markdown",
   "id": "b1a635cd",
   "metadata": {},
   "source": [
    "<i>Исследуйте соотношение видов объектов общественного питания по количеству. Постройте график."
   ]
  },
  {
   "cell_type": "markdown",
   "id": "ae43f360",
   "metadata": {},
   "source": [
    "Сформируем через группировку по типам заведения таблицу с количеством объектов по всему датафрейму."
   ]
  },
  {
   "cell_type": "code",
   "execution_count": 25,
   "id": "4ef3f90f",
   "metadata": {},
   "outputs": [
    {
     "data": {
      "text/html": [
       "<div>\n",
       "<style scoped>\n",
       "    .dataframe tbody tr th:only-of-type {\n",
       "        vertical-align: middle;\n",
       "    }\n",
       "\n",
       "    .dataframe tbody tr th {\n",
       "        vertical-align: top;\n",
       "    }\n",
       "\n",
       "    .dataframe thead th {\n",
       "        text-align: right;\n",
       "    }\n",
       "</style>\n",
       "<table border=\"1\" class=\"dataframe\">\n",
       "  <thead>\n",
       "    <tr style=\"text-align: right;\">\n",
       "      <th></th>\n",
       "      <th>object_type</th>\n",
       "      <th>id</th>\n",
       "    </tr>\n",
       "  </thead>\n",
       "  <tbody>\n",
       "    <tr>\n",
       "      <th>0</th>\n",
       "      <td>кафе</td>\n",
       "      <td>6099</td>\n",
       "    </tr>\n",
       "    <tr>\n",
       "      <th>1</th>\n",
       "      <td>столовая</td>\n",
       "      <td>2587</td>\n",
       "    </tr>\n",
       "    <tr>\n",
       "      <th>2</th>\n",
       "      <td>ресторан</td>\n",
       "      <td>2285</td>\n",
       "    </tr>\n",
       "    <tr>\n",
       "      <th>3</th>\n",
       "      <td>предприятие быстрого обслуживания</td>\n",
       "      <td>1923</td>\n",
       "    </tr>\n",
       "    <tr>\n",
       "      <th>4</th>\n",
       "      <td>бар</td>\n",
       "      <td>856</td>\n",
       "    </tr>\n",
       "    <tr>\n",
       "      <th>5</th>\n",
       "      <td>буфет</td>\n",
       "      <td>585</td>\n",
       "    </tr>\n",
       "    <tr>\n",
       "      <th>6</th>\n",
       "      <td>кафетерий</td>\n",
       "      <td>398</td>\n",
       "    </tr>\n",
       "    <tr>\n",
       "      <th>7</th>\n",
       "      <td>закусочная</td>\n",
       "      <td>360</td>\n",
       "    </tr>\n",
       "    <tr>\n",
       "      <th>8</th>\n",
       "      <td>магазин (отдел кулинарии)</td>\n",
       "      <td>273</td>\n",
       "    </tr>\n",
       "  </tbody>\n",
       "</table>\n",
       "</div>"
      ],
      "text/plain": [
       "                         object_type    id\n",
       "0                               кафе  6099\n",
       "1                           столовая  2587\n",
       "2                           ресторан  2285\n",
       "3  предприятие быстрого обслуживания  1923\n",
       "4                                бар   856\n",
       "5                              буфет   585\n",
       "6                          кафетерий   398\n",
       "7                         закусочная   360\n",
       "8          магазин (отдел кулинарии)   273"
      ]
     },
     "metadata": {},
     "output_type": "display_data"
    }
   ],
   "source": [
    "type_grouped = rest_df.groupby('object_type').agg(              # Группировка по типам объекта\n",
    "    {'id':'nunique'}).sort_values(\n",
    "    by='id',ascending=False).reset_index()                      # с сортировкой по количеству\n",
    "display(type_grouped)                                           # Просмотр таблицы"
   ]
  },
  {
   "cell_type": "markdown",
   "id": "974d735a",
   "metadata": {},
   "source": [
    "Больше всего в Москве кафе (свыше шести тысяч), меньше всего отделов кулинарии в магазинах (их меньше 300). На основе этих данных построим график."
   ]
  },
  {
   "cell_type": "code",
   "execution_count": 26,
   "id": "f19e7f14",
   "metadata": {},
   "outputs": [
    {
     "data": {
      "image/png": "[encoded data removed]",
      "text/plain": [
       "<Figure size 1080x504 with 1 Axes>"
      ]
     },
     "metadata": {
      "needs_background": "light"
     },
     "output_type": "display_data"
    }
   ],
   "source": [
    "plt.figure(figsize=(15,7))                                     # Размер диаграммы\n",
    "plt.style.use('seaborn-pastel')                                # Стиль фона\n",
    "plt.xlabel('Количество заведений')                             # Подпись по оси Х\n",
    "plt.ylabel('Тип заведения')                                    # Подпись по оси Y\n",
    "plt.title('Диаграмма по типам объектов и их количество')       # Название диаграммы\n",
    "plt.barh(type_grouped['object_type'],type_grouped['id'])       # Горизонтальная столбчатая диаграмма\n",
    "plt.show()                                                     # Просмотр количества заведения"
   ]
  },
  {
   "cell_type": "markdown",
   "id": "47c4d195",
   "metadata": {},
   "source": [
    "Теперь определим процент по типам заведений от общего числа."
   ]
  },
  {
   "cell_type": "code",
   "execution_count": 27,
   "id": "03475df0",
   "metadata": {},
   "outputs": [
    {
     "data": {
      "image/png": "[encoded data removed]",
      "text/plain": [
       "<Figure size 648x648 with 1 Axes>"
      ]
     },
     "metadata": {},
     "output_type": "display_data"
    }
   ],
   "source": [
    "plt.figure(figsize=(9,9))                               # Размер круговой диаграммы\n",
    "values = type_grouped['id']                             # Количество объектов каждого типа\n",
    "labels = type_grouped['object_type']                    # Название типа по каждому сектору\n",
    "plt.pie(values,labels = labels,autopct='%.2f%%')        # Построение круговой диаграммы\n",
    "plt.title('Соотношение типов заведений в процентах')    # Название круговой диаграммы\n",
    "plt.show()                                              # Отображение диаграммы"
   ]
  },
  {
   "cell_type": "markdown",
   "id": "e23ca2be",
   "metadata": {},
   "source": [
    "Таким образом, на графиках можно увидеть как количество заведений, так и процентное соотношение от общего числа."
   ]
  },
  {
   "cell_type": "markdown",
   "id": "9a956a56",
   "metadata": {},
   "source": [
    "### Задание 2"
   ]
  },
  {
   "cell_type": "markdown",
   "id": "9d674a77",
   "metadata": {},
   "source": [
    "<i>Исследуйте соотношение сетевых и несетевых заведений по количеству. Постройте график. "
   ]
  },
  {
   "cell_type": "markdown",
   "id": "c2536b85",
   "metadata": {},
   "source": [
    "Сгруппируем заведения по признаку сетевого заведения в новый датафрейм."
   ]
  },
  {
   "cell_type": "code",
   "execution_count": 28,
   "id": "cebec658",
   "metadata": {},
   "outputs": [
    {
     "data": {
      "text/html": [
       "<div>\n",
       "<style scoped>\n",
       "    .dataframe tbody tr th:only-of-type {\n",
       "        vertical-align: middle;\n",
       "    }\n",
       "\n",
       "    .dataframe tbody tr th {\n",
       "        vertical-align: top;\n",
       "    }\n",
       "\n",
       "    .dataframe thead th {\n",
       "        text-align: right;\n",
       "    }\n",
       "</style>\n",
       "<table border=\"1\" class=\"dataframe\">\n",
       "  <thead>\n",
       "    <tr style=\"text-align: right;\">\n",
       "      <th></th>\n",
       "      <th>chain</th>\n",
       "      <th>id</th>\n",
       "    </tr>\n",
       "  </thead>\n",
       "  <tbody>\n",
       "    <tr>\n",
       "      <th>0</th>\n",
       "      <td>да</td>\n",
       "      <td>2968</td>\n",
       "    </tr>\n",
       "    <tr>\n",
       "      <th>1</th>\n",
       "      <td>нет</td>\n",
       "      <td>12398</td>\n",
       "    </tr>\n",
       "  </tbody>\n",
       "</table>\n",
       "</div>"
      ],
      "text/plain": [
       "  chain     id\n",
       "0    да   2968\n",
       "1   нет  12398"
      ]
     },
     "metadata": {},
     "output_type": "display_data"
    }
   ],
   "source": [
    "chain_grouped = rest_df.groupby('chain').agg(          # Групировка по признаку включения в сеть\n",
    "    {'id':'nunique'}).reset_index()                    # с количеством заведений\n",
    "display(chain_grouped)                                 # Просмотр таблицы"
   ]
  },
  {
   "cell_type": "markdown",
   "id": "b1fb5c20",
   "metadata": {},
   "source": [
    "Дополним картину круговой диаграммой с отображением процентного соотношения."
   ]
  },
  {
   "cell_type": "code",
   "execution_count": 29,
   "id": "06ab121d",
   "metadata": {},
   "outputs": [
    {
     "data": {
      "image/png": "[encoded data removed]",
      "text/plain": [
       "<Figure size 504x504 with 1 Axes>"
      ]
     },
     "metadata": {},
     "output_type": "display_data"
    }
   ],
   "source": [
    "plt.figure(figsize=(7,7))                                        # Размер диаграммы\n",
    "values1 = chain_grouped['id']                                    # Количество заведений каждого типа\n",
    "chain_labels = ['сетевые заведения','несетевые заведения']       # Добавление названий секторов к описанию\n",
    "plt.pie(values1,labels=chain_labels,autopct='%.2f%%')            # Построение круговой диагаммы\n",
    "plt.title('Процент сетевых и несетевых заведений')               # Название диаграммы\n",
    "plt.legend()                                                     # Отображение легенды\n",
    "plt.show()                                                       # Просмотр диаграммы"
   ]
  },
  {
   "cell_type": "markdown",
   "id": "0f65f9b6",
   "metadata": {},
   "source": [
    "Согласно данным, менее 20 процентов заведений входят в какую-либо из сетей."
   ]
  },
  {
   "cell_type": "markdown",
   "id": "bf5fe95d",
   "metadata": {},
   "source": [
    "### Задание 3"
   ]
  },
  {
   "cell_type": "markdown",
   "id": "a7f1d6a0",
   "metadata": {},
   "source": [
    "<i>Для какого вида объекта общественного питания характерно сетевое распространение?   "
   ]
  },
  {
   "cell_type": "markdown",
   "id": "50d29268",
   "metadata": {},
   "source": [
    "Чтобы ответить на этот вопрос, сначала определим среди сетевых объектов количество заведений разного типа."
   ]
  },
  {
   "cell_type": "code",
   "execution_count": 30,
   "id": "41e9a7e2",
   "metadata": {},
   "outputs": [
    {
     "data": {
      "text/html": [
       "<div>\n",
       "<style scoped>\n",
       "    .dataframe tbody tr th:only-of-type {\n",
       "        vertical-align: middle;\n",
       "    }\n",
       "\n",
       "    .dataframe tbody tr th {\n",
       "        vertical-align: top;\n",
       "    }\n",
       "\n",
       "    .dataframe thead th {\n",
       "        text-align: right;\n",
       "    }\n",
       "</style>\n",
       "<table border=\"1\" class=\"dataframe\">\n",
       "  <thead>\n",
       "    <tr style=\"text-align: right;\">\n",
       "      <th></th>\n",
       "      <th>object_type</th>\n",
       "      <th>id</th>\n",
       "    </tr>\n",
       "  </thead>\n",
       "  <tbody>\n",
       "    <tr>\n",
       "      <th>3</th>\n",
       "      <td>кафе</td>\n",
       "      <td>1396</td>\n",
       "    </tr>\n",
       "    <tr>\n",
       "      <th>6</th>\n",
       "      <td>предприятие быстрого обслуживания</td>\n",
       "      <td>791</td>\n",
       "    </tr>\n",
       "    <tr>\n",
       "      <th>7</th>\n",
       "      <td>ресторан</td>\n",
       "      <td>544</td>\n",
       "    </tr>\n",
       "    <tr>\n",
       "      <th>5</th>\n",
       "      <td>магазин (отдел кулинарии)</td>\n",
       "      <td>78</td>\n",
       "    </tr>\n",
       "    <tr>\n",
       "      <th>2</th>\n",
       "      <td>закусочная</td>\n",
       "      <td>56</td>\n",
       "    </tr>\n",
       "    <tr>\n",
       "      <th>4</th>\n",
       "      <td>кафетерий</td>\n",
       "      <td>52</td>\n",
       "    </tr>\n",
       "    <tr>\n",
       "      <th>0</th>\n",
       "      <td>бар</td>\n",
       "      <td>37</td>\n",
       "    </tr>\n",
       "    <tr>\n",
       "      <th>1</th>\n",
       "      <td>буфет</td>\n",
       "      <td>11</td>\n",
       "    </tr>\n",
       "    <tr>\n",
       "      <th>8</th>\n",
       "      <td>столовая</td>\n",
       "      <td>3</td>\n",
       "    </tr>\n",
       "  </tbody>\n",
       "</table>\n",
       "</div>"
      ],
      "text/plain": [
       "                         object_type    id\n",
       "3                               кафе  1396\n",
       "6  предприятие быстрого обслуживания   791\n",
       "7                           ресторан   544\n",
       "5          магазин (отдел кулинарии)    78\n",
       "2                         закусочная    56\n",
       "4                          кафетерий    52\n",
       "0                                бар    37\n",
       "1                              буфет    11\n",
       "8                           столовая     3"
      ]
     },
     "metadata": {},
     "output_type": "display_data"
    }
   ],
   "source": [
    "chained_grouped = rest_df[rest_df['chain']=='да'].groupby(           # Группировка по типу сетевых заведений\n",
    "    'object_type',as_index=False).agg(                               # с указанием количества\n",
    "    {'id':'nunique'}).sort_values(by='id',ascending=False)           # и сортировкой по убыванию\n",
    "display(chained_grouped)                                             # Просмотр таблицы"
   ]
  },
  {
   "cell_type": "markdown",
   "id": "069114ed",
   "metadata": {},
   "source": [
    "Больше всего сетевых заведений имеют тип объекта `кафе`,`предприятие быстрого обслуживания` и `ресторан`. Построим на основе этих данных график."
   ]
  },
  {
   "cell_type": "code",
   "execution_count": 31,
   "id": "10587855",
   "metadata": {},
   "outputs": [
    {
     "data": {
      "image/png": "[encoded data removed]",
      "text/plain": [
       "<Figure size 1080x504 with 1 Axes>"
      ]
     },
     "metadata": {
      "needs_background": "light"
     },
     "output_type": "display_data"
    }
   ],
   "source": [
    "plt.figure(figsize=(15,7))                                        # Размер графика\n",
    "plt.style.use('ggplot')                                           # Стиль фона\n",
    "plt.title('Количество заведений по типам среди сетей')            # Название графика\n",
    "plt.xlabel('Количество заведений')                                # Подпись по оси Х\n",
    "plt.ylabel('Тип заведения')                                       # Подпись по оси Y\n",
    "plt.barh(chained_grouped['object_type'],chained_grouped['id'])    # Горизонтальная столбчатая диаграмма\n",
    "plt.show()                                                        # Просмотр количества заведения"
   ]
  },
  {
   "cell_type": "markdown",
   "id": "f11eb908",
   "metadata": {},
   "source": [
    "Поскольку мы изучаем сетевые заведения, у заведений, находящихся в одной сети будут одинаковые названия. Определим количество сетей на наиболее распространенным типам и среднее количество заведений в сети."
   ]
  },
  {
   "cell_type": "code",
   "execution_count": 32,
   "id": "177421bc",
   "metadata": {},
   "outputs": [
    {
     "data": {
      "text/html": [
       "<div>\n",
       "<style scoped>\n",
       "    .dataframe tbody tr th:only-of-type {\n",
       "        vertical-align: middle;\n",
       "    }\n",
       "\n",
       "    .dataframe tbody tr th {\n",
       "        vertical-align: top;\n",
       "    }\n",
       "\n",
       "    .dataframe thead th {\n",
       "        text-align: right;\n",
       "    }\n",
       "</style>\n",
       "<table border=\"1\" class=\"dataframe\">\n",
       "  <thead>\n",
       "    <tr style=\"text-align: right;\">\n",
       "      <th></th>\n",
       "      <th>object_type</th>\n",
       "      <th>id</th>\n",
       "      <th>object_name</th>\n",
       "      <th>average</th>\n",
       "    </tr>\n",
       "  </thead>\n",
       "  <tbody>\n",
       "    <tr>\n",
       "      <th>3</th>\n",
       "      <td>кафе</td>\n",
       "      <td>1396</td>\n",
       "      <td>428</td>\n",
       "      <td>3</td>\n",
       "    </tr>\n",
       "    <tr>\n",
       "      <th>6</th>\n",
       "      <td>предприятие быстрого обслуживания</td>\n",
       "      <td>791</td>\n",
       "      <td>158</td>\n",
       "      <td>5</td>\n",
       "    </tr>\n",
       "    <tr>\n",
       "      <th>7</th>\n",
       "      <td>ресторан</td>\n",
       "      <td>544</td>\n",
       "      <td>247</td>\n",
       "      <td>2</td>\n",
       "    </tr>\n",
       "  </tbody>\n",
       "</table>\n",
       "</div>"
      ],
      "text/plain": [
       "                         object_type    id  object_name  average\n",
       "3                               кафе  1396          428        3\n",
       "6  предприятие быстрого обслуживания   791          158        5\n",
       "7                           ресторан   544          247        2"
      ]
     },
     "metadata": {},
     "output_type": "display_data"
    }
   ],
   "source": [
    "chained_div = rest_df[rest_df['chain']=='да'].groupby(\n",
    "    'object_type').agg({\n",
    "    'id':'nunique','object_name':'nunique'}).reset_index()              # Группировка по типам заведения\n",
    "pop_type = ['ресторан','предприятие быстрого обслуживания','кафе']      # Список самых часто встречающихся типов объектов\n",
    "sel_div = chained_div.query('object_type in @pop_type')                 # Запрос по списку\n",
    "sel_div['average'] = (\n",
    "    sel_div['id'] / sel_div['object_name']).astype(int)                 # Расчет среднего числа заведений в сети\n",
    "display(sel_div)                                                        # Просмотр результата"
   ]
  },
  {
   "cell_type": "markdown",
   "id": "a024b014",
   "metadata": {},
   "source": [
    "Согласно расчетам, сетевое распространение среди самых распространенных типов заведений более характерно для предприятий быстрого питания: в среднем в каждой сети такого типа насчитывается 5 объектов."
   ]
  },
  {
   "cell_type": "markdown",
   "id": "62125b77",
   "metadata": {},
   "source": [
    "### Задание 4"
   ]
  },
  {
   "cell_type": "markdown",
   "id": "057cc2d7",
   "metadata": {},
   "source": [
    "<i>Что характерно для сетевых заведений: много заведений с небольшим числом посадочных мест в каждом или мало заведений с большим количеством посадочных мест?"
   ]
  },
  {
   "cell_type": "markdown",
   "id": "5715a793",
   "metadata": {},
   "source": [
    "Чтобы охарактеризовать распределение количества мест в заведениях среди сетевых заведений, сформируем диаграмму рассеяния по результатy запроса с соответствующим признаком. Сначала сформируем датафрейм с данными по сетевым заведениям. "
   ]
  },
  {
   "cell_type": "code",
   "execution_count": 33,
   "id": "1833ccb6",
   "metadata": {},
   "outputs": [
    {
     "data": {
      "text/plain": [
       "2968"
      ]
     },
     "metadata": {},
     "output_type": "display_data"
    }
   ],
   "source": [
    "chained_df = rest_df.query(\n",
    "    'chain == \"да\"').reset_index(drop=True)                  # Запрос по сетевых заведениям со сбросом индекса\n",
    "display(len(chained_df))                                     # Просмотр количества строк"
   ]
  },
  {
   "cell_type": "markdown",
   "id": "79a6c9bb",
   "metadata": {},
   "source": [
    "Всего среди сетевых заведений нашлось 2968 объектов. Сформируем статистическое описание по столбцу с количеством мест по запросу."
   ]
  },
  {
   "cell_type": "code",
   "execution_count": 34,
   "id": "775e7a94",
   "metadata": {},
   "outputs": [
    {
     "data": {
      "text/plain": [
       "count    2968.000000\n",
       "mean       52.919811\n",
       "std        57.140644\n",
       "min         0.000000\n",
       "25%        15.000000\n",
       "50%        40.000000\n",
       "75%        72.000000\n",
       "max       580.000000\n",
       "Name: number, dtype: float64"
      ]
     },
     "execution_count": 34,
     "metadata": {},
     "output_type": "execute_result"
    }
   ],
   "source": [
    "chained_df['number'].describe()                 # Статистическое описание по количеству мест"
   ]
  },
  {
   "cell_type": "markdown",
   "id": "55e038cb",
   "metadata": {},
   "source": [
    "Поскольку по описанию минимальным значением количества мест является 0, узнаем количество объектов, где нет мест для посетителей, разделим их по типам и узнаем сколько сетей имеют такие объекты."
   ]
  },
  {
   "cell_type": "code",
   "execution_count": 35,
   "id": "d6b1eb53",
   "metadata": {},
   "outputs": [
    {
     "data": {
      "text/html": [
       "<div>\n",
       "<style scoped>\n",
       "    .dataframe tbody tr th:only-of-type {\n",
       "        vertical-align: middle;\n",
       "    }\n",
       "\n",
       "    .dataframe tbody tr th {\n",
       "        vertical-align: top;\n",
       "    }\n",
       "\n",
       "    .dataframe thead th {\n",
       "        text-align: right;\n",
       "    }\n",
       "</style>\n",
       "<table border=\"1\" class=\"dataframe\">\n",
       "  <thead>\n",
       "    <tr style=\"text-align: right;\">\n",
       "      <th></th>\n",
       "      <th>Тип объекта</th>\n",
       "      <th>Кол-во заведений</th>\n",
       "      <th>Кол-во сетей</th>\n",
       "    </tr>\n",
       "  </thead>\n",
       "  <tbody>\n",
       "    <tr>\n",
       "      <th>0</th>\n",
       "      <td>бар</td>\n",
       "      <td>1</td>\n",
       "      <td>1</td>\n",
       "    </tr>\n",
       "    <tr>\n",
       "      <th>1</th>\n",
       "      <td>буфет</td>\n",
       "      <td>8</td>\n",
       "      <td>5</td>\n",
       "    </tr>\n",
       "    <tr>\n",
       "      <th>2</th>\n",
       "      <td>закусочная</td>\n",
       "      <td>18</td>\n",
       "      <td>14</td>\n",
       "    </tr>\n",
       "    <tr>\n",
       "      <th>3</th>\n",
       "      <td>кафе</td>\n",
       "      <td>55</td>\n",
       "      <td>32</td>\n",
       "    </tr>\n",
       "    <tr>\n",
       "      <th>4</th>\n",
       "      <td>кафетерий</td>\n",
       "      <td>15</td>\n",
       "      <td>5</td>\n",
       "    </tr>\n",
       "    <tr>\n",
       "      <th>5</th>\n",
       "      <td>магазин (отдел кулинарии)</td>\n",
       "      <td>33</td>\n",
       "      <td>9</td>\n",
       "    </tr>\n",
       "    <tr>\n",
       "      <th>6</th>\n",
       "      <td>предприятие быстрого обслуживания</td>\n",
       "      <td>120</td>\n",
       "      <td>41</td>\n",
       "    </tr>\n",
       "    <tr>\n",
       "      <th>7</th>\n",
       "      <td>ресторан</td>\n",
       "      <td>18</td>\n",
       "      <td>9</td>\n",
       "    </tr>\n",
       "  </tbody>\n",
       "</table>\n",
       "</div>"
      ],
      "text/plain": [
       "                         Тип объекта  Кол-во заведений  Кол-во сетей\n",
       "0                                бар                 1             1\n",
       "1                              буфет                 8             5\n",
       "2                         закусочная                18            14\n",
       "3                               кафе                55            32\n",
       "4                          кафетерий                15             5\n",
       "5          магазин (отдел кулинарии)                33             9\n",
       "6  предприятие быстрого обслуживания               120            41\n",
       "7                           ресторан                18             9"
      ]
     },
     "metadata": {},
     "output_type": "display_data"
    }
   ],
   "source": [
    "zero_num = chained_df.query(                                    # Запрос по сетевым заведениям,\n",
    "    'number == 0').reset_index(                                 # гдк количество мест для посетителей равно 0\n",
    "    drop=True).groupby('object_type',                           # Группировка по типам объекта\n",
    "                       as_index=False).agg({                    # с переназначением индекса\n",
    "    'id':'count','object_name':'nunique'                        # Добавление количества объектов и количества сетей\n",
    "}).rename(columns={'object_type':'Тип объекта',                 \n",
    "                   'id':'Кол-во заведений',\n",
    "                   'object_name':'Кол-во сетей'})               # Переименование столбцов\n",
    "display(zero_num)                                               # Просмотр результата"
   ]
  },
  {
   "cell_type": "markdown",
   "id": "851148ee",
   "metadata": {},
   "source": [
    "Таким образом, мы получили количество заведений, где персонал работает только на вынос. Теперь выполним запрос по объектам, где количество мест больше нуля и посмотрим статистическое описание. "
   ]
  },
  {
   "cell_type": "code",
   "execution_count": 36,
   "id": "62060b02",
   "metadata": {},
   "outputs": [
    {
     "data": {
      "text/plain": [
       "count    2700.000000\n",
       "mean       58.172593\n",
       "std        57.302521\n",
       "min         1.000000\n",
       "25%        20.000000\n",
       "50%        43.000000\n",
       "75%        80.000000\n",
       "max       580.000000\n",
       "Name: number, dtype: float64"
      ]
     },
     "execution_count": 36,
     "metadata": {},
     "output_type": "execute_result"
    }
   ],
   "source": [
    "chained_df.query('number > 0')['number'].describe()     # Статистическое описание по количеству мест"
   ]
  },
  {
   "cell_type": "markdown",
   "id": "c44edb19",
   "metadata": {},
   "source": [
    "После исключения осталось всего 2700 заведений, где по основной статистике три четверти объектов имеют до 80 сидячих мест в помещении. Сформируем статистику по количеству мест, где установим в качестве порога общее среднее значение количества мест, равное 58."
   ]
  },
  {
   "cell_type": "code",
   "execution_count": 37,
   "id": "6300779f",
   "metadata": {},
   "outputs": [
    {
     "data": {
      "text/html": [
       "<div>\n",
       "<style scoped>\n",
       "    .dataframe tbody tr th:only-of-type {\n",
       "        vertical-align: middle;\n",
       "    }\n",
       "\n",
       "    .dataframe tbody tr th {\n",
       "        vertical-align: top;\n",
       "    }\n",
       "\n",
       "    .dataframe thead th {\n",
       "        text-align: right;\n",
       "    }\n",
       "</style>\n",
       "<table border=\"1\" class=\"dataframe\">\n",
       "  <thead>\n",
       "    <tr style=\"text-align: right;\">\n",
       "      <th></th>\n",
       "      <th>Тип объекта</th>\n",
       "      <th>Общее количество</th>\n",
       "      <th>Меньше среднего</th>\n",
       "      <th>Больше среднего</th>\n",
       "    </tr>\n",
       "  </thead>\n",
       "  <tbody>\n",
       "    <tr>\n",
       "      <th>0</th>\n",
       "      <td>кафе</td>\n",
       "      <td>1341</td>\n",
       "      <td>952</td>\n",
       "      <td>385</td>\n",
       "    </tr>\n",
       "    <tr>\n",
       "      <th>1</th>\n",
       "      <td>предприятие быстрого обслуживания</td>\n",
       "      <td>671</td>\n",
       "      <td>486</td>\n",
       "      <td>182</td>\n",
       "    </tr>\n",
       "    <tr>\n",
       "      <th>2</th>\n",
       "      <td>ресторан</td>\n",
       "      <td>526</td>\n",
       "      <td>153</td>\n",
       "      <td>373</td>\n",
       "    </tr>\n",
       "    <tr>\n",
       "      <th>3</th>\n",
       "      <td>магазин (отдел кулинарии)</td>\n",
       "      <td>45</td>\n",
       "      <td>45</td>\n",
       "      <td>0</td>\n",
       "    </tr>\n",
       "    <tr>\n",
       "      <th>4</th>\n",
       "      <td>кафетерий</td>\n",
       "      <td>37</td>\n",
       "      <td>35</td>\n",
       "      <td>2</td>\n",
       "    </tr>\n",
       "    <tr>\n",
       "      <th>5</th>\n",
       "      <td>закусочная</td>\n",
       "      <td>38</td>\n",
       "      <td>36</td>\n",
       "      <td>2</td>\n",
       "    </tr>\n",
       "    <tr>\n",
       "      <th>6</th>\n",
       "      <td>бар</td>\n",
       "      <td>36</td>\n",
       "      <td>23</td>\n",
       "      <td>13</td>\n",
       "    </tr>\n",
       "    <tr>\n",
       "      <th>7</th>\n",
       "      <td>столовая</td>\n",
       "      <td>3</td>\n",
       "      <td>1</td>\n",
       "      <td>2</td>\n",
       "    </tr>\n",
       "    <tr>\n",
       "      <th>8</th>\n",
       "      <td>буфет</td>\n",
       "      <td>3</td>\n",
       "      <td>2</td>\n",
       "      <td>1</td>\n",
       "    </tr>\n",
       "  </tbody>\n",
       "</table>\n",
       "</div>"
      ],
      "text/plain": [
       "                         Тип объекта  Общее количество  Меньше среднего  \\\n",
       "0                               кафе              1341              952   \n",
       "1  предприятие быстрого обслуживания               671              486   \n",
       "2                           ресторан               526              153   \n",
       "3          магазин (отдел кулинарии)                45               45   \n",
       "4                          кафетерий                37               35   \n",
       "5                         закусочная                38               36   \n",
       "6                                бар                36               23   \n",
       "7                           столовая                 3                1   \n",
       "8                              буфет                 3                2   \n",
       "\n",
       "   Больше среднего  \n",
       "0              385  \n",
       "1              182  \n",
       "2              373  \n",
       "3                0  \n",
       "4                2  \n",
       "5                2  \n",
       "6               13  \n",
       "7                2  \n",
       "8                1  "
      ]
     },
     "metadata": {},
     "output_type": "display_data"
    }
   ],
   "source": [
    "std_seats = int(np.mean(chained_df.query('number > 0')['number']))         # Выделение общего среднего количества мест\n",
    "sp_df = chained_df.query('number > 0')                                     # Запрос по сетевым заведениям с местами\n",
    "std_type_stat = []                                                         # Список для статистики\n",
    "for obn in sp_df['object_type'].unique():                                  # Цикл по типам объектов\n",
    "    obn_df = sp_df.query('object_type == @obn')                            # Запрос по типу объекта\n",
    "    stat=[obn, len(obn_df),                                                # Запись типа, длины запроса, \n",
    "          len(obn_df.query('number < @std_seats')),            # количества объектов с вместимостью меньше среднего,\n",
    "          len(obn_df.query('number > @std_seats'))]            # и количества объектов с вместимостью больше среднего\n",
    "    std_type_stat.append(stat)                                 # Добавление списка с данными в список для сбора \n",
    "obj_places = pd.DataFrame(data=std_type_stat,\n",
    "                          columns=['Тип объекта','Общее количество',\n",
    "                                   'Меньше среднего','Больше среднего'])   # Формирование датафрейма\n",
    "display(obj_places)                                                        # Просмотр датафрейма"
   ]
  },
  {
   "cell_type": "markdown",
   "id": "5c93cf15",
   "metadata": {},
   "source": [
    "Сформируем таблицу по разным сетям со средним количеством мест в них и определим общее среднее занчение количества мест."
   ]
  },
  {
   "cell_type": "code",
   "execution_count": 38,
   "id": "79ad4008",
   "metadata": {},
   "outputs": [
    {
     "data": {
      "text/plain": [
       "63"
      ]
     },
     "execution_count": 38,
     "metadata": {},
     "output_type": "execute_result"
    }
   ],
   "source": [
    "nets_stat = chained_df.query('number > 0').groupby(\n",
    "    'object_name',as_index=False).agg({'number':'mean'})      # Группировка по разным сетям и среднее количество мест в них\n",
    "int(nets_stat['number'].mean())                               # Среднее значение количества мест по сетям"
   ]
  },
  {
   "cell_type": "markdown",
   "id": "0b49ce25",
   "metadata": {},
   "source": [
    "По данным из таблицы выходит, что по сетевым ресторанам и столовым вместимость чаще получается больше общей средней, а среди отделов кулинарии нет ни одного магазина с количеством мест больше общего среднего. Для полноты картины соберем общую статистику по разным типам."
   ]
  },
  {
   "cell_type": "code",
   "execution_count": 39,
   "id": "27a191fb",
   "metadata": {},
   "outputs": [
    {
     "data": {
      "text/html": [
       "<div>\n",
       "<style scoped>\n",
       "    .dataframe tbody tr th:only-of-type {\n",
       "        vertical-align: middle;\n",
       "    }\n",
       "\n",
       "    .dataframe tbody tr th {\n",
       "        vertical-align: top;\n",
       "    }\n",
       "\n",
       "    .dataframe thead th {\n",
       "        text-align: right;\n",
       "    }\n",
       "</style>\n",
       "<table border=\"1\" class=\"dataframe\">\n",
       "  <thead>\n",
       "    <tr style=\"text-align: right;\">\n",
       "      <th></th>\n",
       "      <th>object_type</th>\n",
       "      <th>count</th>\n",
       "      <th>mean</th>\n",
       "      <th>std</th>\n",
       "      <th>min</th>\n",
       "      <th>20%</th>\n",
       "      <th>50%</th>\n",
       "      <th>75%</th>\n",
       "      <th>max</th>\n",
       "    </tr>\n",
       "  </thead>\n",
       "  <tbody>\n",
       "    <tr>\n",
       "      <th>0</th>\n",
       "      <td>кафе</td>\n",
       "      <td>1341</td>\n",
       "      <td>49</td>\n",
       "      <td>44</td>\n",
       "      <td>2</td>\n",
       "      <td>20</td>\n",
       "      <td>40</td>\n",
       "      <td>63</td>\n",
       "      <td>456</td>\n",
       "    </tr>\n",
       "    <tr>\n",
       "      <th>1</th>\n",
       "      <td>предприятие быстрого обслуживания</td>\n",
       "      <td>671</td>\n",
       "      <td>47</td>\n",
       "      <td>51</td>\n",
       "      <td>1</td>\n",
       "      <td>15</td>\n",
       "      <td>35</td>\n",
       "      <td>60</td>\n",
       "      <td>580</td>\n",
       "    </tr>\n",
       "    <tr>\n",
       "      <th>2</th>\n",
       "      <td>ресторан</td>\n",
       "      <td>526</td>\n",
       "      <td>103</td>\n",
       "      <td>73</td>\n",
       "      <td>4</td>\n",
       "      <td>50</td>\n",
       "      <td>90</td>\n",
       "      <td>140</td>\n",
       "      <td>500</td>\n",
       "    </tr>\n",
       "    <tr>\n",
       "      <th>3</th>\n",
       "      <td>магазин (отдел кулинарии)</td>\n",
       "      <td>45</td>\n",
       "      <td>15</td>\n",
       "      <td>13</td>\n",
       "      <td>1</td>\n",
       "      <td>5</td>\n",
       "      <td>10</td>\n",
       "      <td>20</td>\n",
       "      <td>48</td>\n",
       "    </tr>\n",
       "    <tr>\n",
       "      <th>4</th>\n",
       "      <td>кафетерий</td>\n",
       "      <td>37</td>\n",
       "      <td>17</td>\n",
       "      <td>17</td>\n",
       "      <td>1</td>\n",
       "      <td>8</td>\n",
       "      <td>10</td>\n",
       "      <td>20</td>\n",
       "      <td>85</td>\n",
       "    </tr>\n",
       "    <tr>\n",
       "      <th>5</th>\n",
       "      <td>закусочная</td>\n",
       "      <td>38</td>\n",
       "      <td>21</td>\n",
       "      <td>18</td>\n",
       "      <td>2</td>\n",
       "      <td>8</td>\n",
       "      <td>18</td>\n",
       "      <td>33</td>\n",
       "      <td>91</td>\n",
       "    </tr>\n",
       "    <tr>\n",
       "      <th>6</th>\n",
       "      <td>бар</td>\n",
       "      <td>36</td>\n",
       "      <td>54</td>\n",
       "      <td>40</td>\n",
       "      <td>3</td>\n",
       "      <td>26</td>\n",
       "      <td>45</td>\n",
       "      <td>82</td>\n",
       "      <td>150</td>\n",
       "    </tr>\n",
       "    <tr>\n",
       "      <th>7</th>\n",
       "      <td>столовая</td>\n",
       "      <td>3</td>\n",
       "      <td>112</td>\n",
       "      <td>53</td>\n",
       "      <td>55</td>\n",
       "      <td>87</td>\n",
       "      <td>120</td>\n",
       "      <td>141</td>\n",
       "      <td>162</td>\n",
       "    </tr>\n",
       "    <tr>\n",
       "      <th>8</th>\n",
       "      <td>буфет</td>\n",
       "      <td>3</td>\n",
       "      <td>46</td>\n",
       "      <td>25</td>\n",
       "      <td>20</td>\n",
       "      <td>35</td>\n",
       "      <td>50</td>\n",
       "      <td>60</td>\n",
       "      <td>70</td>\n",
       "    </tr>\n",
       "  </tbody>\n",
       "</table>\n",
       "</div>"
      ],
      "text/plain": [
       "                         object_type  count  mean  std  min  20%  50%  75%  \\\n",
       "0                               кафе   1341    49   44    2   20   40   63   \n",
       "1  предприятие быстрого обслуживания    671    47   51    1   15   35   60   \n",
       "2                           ресторан    526   103   73    4   50   90  140   \n",
       "3          магазин (отдел кулинарии)     45    15   13    1    5   10   20   \n",
       "4                          кафетерий     37    17   17    1    8   10   20   \n",
       "5                         закусочная     38    21   18    2    8   18   33   \n",
       "6                                бар     36    54   40    3   26   45   82   \n",
       "7                           столовая      3   112   53   55   87  120  141   \n",
       "8                              буфет      3    46   25   20   35   50   60   \n",
       "\n",
       "   max  \n",
       "0  456  \n",
       "1  580  \n",
       "2  500  \n",
       "3   48  \n",
       "4   85  \n",
       "5   91  \n",
       "6  150  \n",
       "7  162  \n",
       "8   70  "
      ]
     },
     "metadata": {},
     "output_type": "display_data"
    }
   ],
   "source": [
    "type_ind_stat = []                                           # Список для сбора статистики\n",
    "ti_names = ['object_type','count','mean','std',\n",
    "            'min','20%','50%','75%','max']                   # Наименования столбцов\n",
    "for to in sp_df['object_type'].unique():                           # Цикл по типам\n",
    "    to_list = [to]                                                 # Список для статистики с названием типа объекта\n",
    "    temp_df = sp_df.query('object_type == @to')                    # Запрос по типу объекта\n",
    "    to_list+=list(temp_df['number'].describe().astype(int))        # Добавление к списку данных из описания с округлением\n",
    "    type_ind_stat.append(to_list)                            # Добавление списка с данными в список для статистики\n",
    "places_stat = pd.DataFrame(data=type_ind_stat,\n",
    "                           columns=ti_names)                 # Формирование таблицы\n",
    "display(places_stat)                                         # Просмотр таблицы   "
   ]
  },
  {
   "cell_type": "markdown",
   "id": "6e3b3f22",
   "metadata": {},
   "source": [
    "Из-за разницы между размерами выборок и количеством мест в них выделим медиану по 20 процентам значений для разных типов заведений."
   ]
  },
  {
   "cell_type": "code",
   "execution_count": 40,
   "id": "c38636c2",
   "metadata": {},
   "outputs": [
    {
     "data": {
      "text/plain": [
       "20.0"
      ]
     },
     "metadata": {},
     "output_type": "display_data"
    }
   ],
   "source": [
    "display(places_stat['20%'].median())                    # Медиана по пятой части помещений"
   ]
  },
  {
   "cell_type": "markdown",
   "id": "ab305774",
   "metadata": {},
   "source": [
    "Затем определим медиану по разным типам объектов для 75% значений."
   ]
  },
  {
   "cell_type": "code",
   "execution_count": 41,
   "id": "fa2869d3",
   "metadata": {},
   "outputs": [
    {
     "data": {
      "text/plain": [
       "60.0"
      ]
     },
     "metadata": {},
     "output_type": "display_data"
    }
   ],
   "source": [
    "display(places_stat['75%'].median())                    # Медиана по трем четвертям помещений"
   ]
  },
  {
   "cell_type": "markdown",
   "id": "b44d0bbc",
   "metadata": {},
   "source": [
    "Посмотрим на столбчатую диаграмму на основе значений в столбце `75%` с установленной по медиане визуальной границей."
   ]
  },
  {
   "cell_type": "code",
   "execution_count": 42,
   "id": "9cb4f662",
   "metadata": {},
   "outputs": [
    {
     "data": {
      "image/png": "[encoded data removed]",
      "text/plain": [
       "<Figure size 1008x360 with 1 Axes>"
      ]
     },
     "metadata": {},
     "output_type": "display_data"
    }
   ],
   "source": [
    "places_stat['object_type'][1] = 'фастфуд'                               # Переименование длинных наименований\n",
    "places_stat['object_type'][3] = 'кулинария'\n",
    "plt.figure(figsize=(14,5))                                                   # Размер диаграммы\n",
    "plt.bar(places_stat['object_type'],places_stat['75%'])                       # Построение столбчатой диаграмы\n",
    "plt.axhline(y=places_stat['75%'].median(),linestyle='--',color='green')      # Горизонтальная линия диаграммы\n",
    "plt.title('Медианное количество мест в 3/4 помещений разного типа')          # Название диаграммы\n",
    "plt.xlabel('Типы заведений')                                                 # Подпись по оси X\n",
    "plt.ylabel('Количество мест')                                                # Подпись по оси Y\n",
    "plt.show()                                                                   # Просмотр диаграммы"
   ]
  },
  {
   "cell_type": "markdown",
   "id": "2469ba93",
   "metadata": {},
   "source": [
    "Поскольку для большинства объектов медиана очень близка к среднему значению количества мест в сетях и общему среднему числу мест в заведении выберем медиану как оптимальное количество мест в планируемом заведении. Осталось построить диаграмму рассеяния по различным сетям с указанием количества мест и заведений в ней, для чего сформируем специальный датафрейм с указанием типа заведений в сети."
   ]
  },
  {
   "cell_type": "code",
   "execution_count": 43,
   "id": "60def39a",
   "metadata": {},
   "outputs": [
    {
     "data": {
      "text/html": [
       "<div>\n",
       "<style scoped>\n",
       "    .dataframe tbody tr th:only-of-type {\n",
       "        vertical-align: middle;\n",
       "    }\n",
       "\n",
       "    .dataframe tbody tr th {\n",
       "        vertical-align: top;\n",
       "    }\n",
       "\n",
       "    .dataframe thead th {\n",
       "        text-align: right;\n",
       "    }\n",
       "</style>\n",
       "<table border=\"1\" class=\"dataframe\">\n",
       "  <thead>\n",
       "    <tr style=\"text-align: right;\">\n",
       "      <th></th>\n",
       "      <th>object_name</th>\n",
       "      <th>object_type</th>\n",
       "      <th>id</th>\n",
       "      <th>number</th>\n",
       "    </tr>\n",
       "  </thead>\n",
       "  <tbody>\n",
       "    <tr>\n",
       "      <th>962</th>\n",
       "      <td>Бургер Кинг</td>\n",
       "      <td>предприятие быстрого обслуживания</td>\n",
       "      <td>83</td>\n",
       "      <td>3851</td>\n",
       "    </tr>\n",
       "    <tr>\n",
       "      <th>963</th>\n",
       "      <td>Чайхона №1</td>\n",
       "      <td>ресторан</td>\n",
       "      <td>36</td>\n",
       "      <td>5850</td>\n",
       "    </tr>\n",
       "    <tr>\n",
       "      <th>964</th>\n",
       "      <td>KFC</td>\n",
       "      <td>предприятие быстрого обслуживания</td>\n",
       "      <td>99</td>\n",
       "      <td>5926</td>\n",
       "    </tr>\n",
       "    <tr>\n",
       "      <th>965</th>\n",
       "      <td>Макдоналдс</td>\n",
       "      <td>предприятие быстрого обслуживания</td>\n",
       "      <td>80</td>\n",
       "      <td>6948</td>\n",
       "    </tr>\n",
       "    <tr>\n",
       "      <th>966</th>\n",
       "      <td>Шоколадница</td>\n",
       "      <td>кафе</td>\n",
       "      <td>134</td>\n",
       "      <td>7390</td>\n",
       "    </tr>\n",
       "  </tbody>\n",
       "</table>\n",
       "</div>"
      ],
      "text/plain": [
       "     object_name                        object_type   id  number\n",
       "962  Бургер Кинг  предприятие быстрого обслуживания   83    3851\n",
       "963   Чайхона №1                           ресторан   36    5850\n",
       "964          KFC  предприятие быстрого обслуживания   99    5926\n",
       "965   Макдоналдс  предприятие быстрого обслуживания   80    6948\n",
       "966  Шоколадница                               кафе  134    7390"
      ]
     },
     "execution_count": 43,
     "metadata": {},
     "output_type": "execute_result"
    }
   ],
   "source": [
    "type_ncap = chained_df.groupby(\n",
    "    ['object_name','object_type'],as_index=False).agg(    # Группировка по названию и типу сети\n",
    "    {'id':'count','number':'sum'}).sort_values(           # с количеством заведений в ней и суммой мест\n",
    "    by='number').reset_index(drop=True)                   # и сортировкой по сумме мест по возрастанию\n",
    "type_ncap.tail()                                          # Просмотр последних 5 строк"
   ]
  },
  {
   "cell_type": "markdown",
   "id": "0b9bd491",
   "metadata": {},
   "source": [
    "Последние 5 строк указывают на самые большие сети среди всех как по сумме мест, так и по количеству объектов. Построим диаграмму рассеяния по полученным данным."
   ]
  },
  {
   "cell_type": "code",
   "execution_count": 44,
   "id": "7bc2ba68",
   "metadata": {},
   "outputs": [
    {
     "data": {
      "image/png": "[encoded data removed]",
      "text/plain": [
       "<Figure size 1080x504 with 1 Axes>"
      ]
     },
     "metadata": {},
     "output_type": "display_data"
    }
   ],
   "source": [
    "plt.figure(figsize=(15,7))                                        # Размер диаграммы\n",
    "sns.scatterplot(type_ncap['number'],type_ncap['id'],\n",
    "                hue=type_ncap['object_type'],alpha=0.5)           # Диаграмма по количеству объектов в сети и сумме мест\n",
    "plt.title('Диаграмма рассеяния по количеству мест в сетях')       # Название диаграммы\n",
    "plt.xlabel('Сумма мест по различным сетям')                       # Подпись по оси X\n",
    "plt.ylabel('Количество заведений в сети')                         # Подпись по оси Y\n",
    "plt.legend()                                                      # Отображение легенды\n",
    "plt.show()                                                        # Просмотр диаграммы"
   ]
  },
  {
   "cell_type": "markdown",
   "id": "1741cb19",
   "metadata": {},
   "source": [
    "После этого рассчитаем среднее количество мест в сетях и по этим данным построим новую диаграмму рассеяния. "
   ]
  },
  {
   "cell_type": "code",
   "execution_count": 45,
   "id": "7298e4ef",
   "metadata": {},
   "outputs": [
    {
     "data": {
      "image/png": "[encoded data removed]",
      "text/plain": [
       "<Figure size 1080x504 with 1 Axes>"
      ]
     },
     "metadata": {},
     "output_type": "display_data"
    }
   ],
   "source": [
    "type_ncap['mean'] = (type_ncap['number'] / type_ncap['id']).astype(int)    # Столбец со средним количеством мест\n",
    "plt.figure(figsize=(15,7))                                                 # Размер диаграммы\n",
    "sns.scatterplot(type_ncap['mean'],type_ncap['id'],                         # Диаграмма по количеству объектов\n",
    "                hue=type_ncap['object_type'],alpha=0.5)                    # в сети и сумме мест\n",
    "plt.title('Диаграмма рассеяния по среднему количеству мест в сетях')       # Название диаграммы\n",
    "plt.xlabel('Среднее количество мест по различным сетям')                   # Подпись по оси X\n",
    "plt.ylabel('Количество заведений в сети')                                  # Подпись по оси Y\n",
    "plt.legend()                                                               # Отображение легенды\n",
    "plt.show()                                                                 # Просмотр диаграммы"
   ]
  },
  {
   "cell_type": "markdown",
   "id": "7446659a",
   "metadata": {},
   "source": [
    "Получается, что большинство сетей имеют малое количество объектов и малое количество мест в них. Дополним картину просмотром статистики по значениям общего количества мест в сети."
   ]
  },
  {
   "cell_type": "code",
   "execution_count": 46,
   "id": "3bb650aa",
   "metadata": {},
   "outputs": [
    {
     "data": {
      "text/plain": [
       "count     967.000000\n",
       "mean      162.426060\n",
       "std       504.130811\n",
       "min         0.000000\n",
       "25%        23.000000\n",
       "50%        60.000000\n",
       "75%       125.000000\n",
       "max      7390.000000\n",
       "Name: number, dtype: float64"
      ]
     },
     "execution_count": 46,
     "metadata": {},
     "output_type": "execute_result"
    }
   ],
   "source": [
    "type_ncap['number'].describe()                   # Статистическое описание по сумме мест в разных сетях"
   ]
  },
  {
   "cell_type": "markdown",
   "id": "df0b7ba4",
   "metadata": {},
   "source": [
    "И заодно посмотрим общую статистику по количеству объектов в различных сетях."
   ]
  },
  {
   "cell_type": "code",
   "execution_count": 47,
   "id": "60bda55a",
   "metadata": {},
   "outputs": [
    {
     "data": {
      "text/plain": [
       "count    967.000000\n",
       "mean       3.069286\n",
       "std        8.045057\n",
       "min        1.000000\n",
       "25%        1.000000\n",
       "50%        1.000000\n",
       "75%        2.000000\n",
       "max      134.000000\n",
       "Name: id, dtype: float64"
      ]
     },
     "execution_count": 47,
     "metadata": {},
     "output_type": "execute_result"
    }
   ],
   "source": [
    "type_ncap['id'].describe()                       # Статистическое описание по количеству объектов в разных сетях"
   ]
  },
  {
   "cell_type": "markdown",
   "id": "6091ec95",
   "metadata": {},
   "source": [
    "Так и есть: в большинстве сетей обычно до 2 объектов и до 125 мест для посетителей. "
   ]
  },
  {
   "cell_type": "markdown",
   "id": "d30dac77",
   "metadata": {},
   "source": [
    "### Задание 5"
   ]
  },
  {
   "cell_type": "markdown",
   "id": "65fac805",
   "metadata": {},
   "source": [
    "<i>Для каждого вида объекта общественного питания опишите среднее количество посадочных мест. Какой вид предоставляет в среднем самое большое количество посадочных мест? Постройте графики."
   ]
  },
  {
   "cell_type": "markdown",
   "id": "270c3a99",
   "metadata": {},
   "source": [
    "Для получения статистики по типам заведений выделим вместимость по каждому объекту и распределим в разные списки."
   ]
  },
  {
   "cell_type": "code",
   "execution_count": 48,
   "id": "50246ea0",
   "metadata": {},
   "outputs": [
    {
     "data": {
      "text/plain": [
       "9"
      ]
     },
     "metadata": {},
     "output_type": "display_data"
    }
   ],
   "source": [
    "num_df = []                                                  # Пустой список со списками\n",
    "for obj_type in rest_types:                                  # Цикл по типам заведения\n",
    "    num_list = []                                            # Пустой список для сбора значений\n",
    "    for i in range(len(chained_df)):                         # Внутренний цикл по строкам\n",
    "        if chained_df['object_type'][i] == obj_type:         # Если в строке типы заведения совпадают,\n",
    "            num_list.append(chained_df['number'][i])         # то добавим количество мест в заведении в список для сбора \n",
    "    num_df.append(num_list)                                  # По окончанию списка добавить его в первый список\n",
    "display(len(num_df))                                         # Просмотр количества списков"
   ]
  },
  {
   "cell_type": "markdown",
   "id": "53196005",
   "metadata": {},
   "source": [
    "У нас получился список списков, который неудобно читать и анализировать. Для удобства расчета статистики по количеству мест для каждого типа заведения создадим специальную функцию `capacity_stat`, в которой будут указаны тип заведения, количество, сумма мест по типу, а также минимальное, максимальное и среднее значения количества мест по типу. "
   ]
  },
  {
   "cell_type": "code",
   "execution_count": 49,
   "id": "129ca46d",
   "metadata": {},
   "outputs": [],
   "source": [
    "def capacity_stat(names,lists):                                    # Объявление функции\n",
    "    full_stat = []                                                 # Пустой список для списков с данными\n",
    "    cols = ['name','count','total','min','max','average']          # Список с названиями столбцов\n",
    "    for j in range(len(lists)):                                    # Цикл по указанным спискам\n",
    "        stat_list = [names[j]]                                     # Добавление названия\n",
    "        stat_list.append(len(lists[j]))                            # Добавление количества значений\n",
    "        stat_list.append(sum(lists[j]))                            # Добавление суммы значений\n",
    "        stat_list.append(min(lists[j]))                            # Добавление минимального значения\n",
    "        stat_list.append(max(lists[j]))                            # Добавление максимального значения\n",
    "        stat_list.append(int(np.mean(lists[j])))                   # Добавление среднего значения\n",
    "        full_stat.append(stat_list)                                # Добавление готового списка в основной список\n",
    "    stat_df = pd.DataFrame(data=full_stat,columns=cols)            # Преобразование списка списков в датафрейм\n",
    "    return stat_df                                                 # Возвращение датафрейма"
   ]
  },
  {
   "cell_type": "markdown",
   "id": "42dc15d7",
   "metadata": {},
   "source": [
    "А также функцию `capacity_stat_v2` с дополнительными столбцами, где будет отображаться количество объектов с количеством мест меньше и больше среднего количества."
   ]
  },
  {
   "cell_type": "code",
   "execution_count": 50,
   "id": "d25bd3aa",
   "metadata": {},
   "outputs": [],
   "source": [
    "def capacity_stat_v2(df):                                          # Объявление функции\n",
    "    obj_types = df['object_type'].unique()                         # Наименование столбцов\n",
    "    stat_names = ['object_type','total','min','max','average',\n",
    "                  'median','less_avg','more_avg']\n",
    "    stat_list = []                                                 # Пустой список для сбора данных\n",
    "    for ot in obj_types:                                           # Цикл по типам объектов\n",
    "        ot_df = chained_df.query('object_type == @ot')             # Запрос по исходному датафрейму с указанием типа\n",
    "        ot_list = [ot, len(ot_df), min(ot_df['number']),\n",
    "                   max(ot_df['number']),\n",
    "                   int(np.mean(ot_df['number'])),\n",
    "                   int(np.median(ot_df['number']))]                # Список со стандартными значениями\n",
    "        less_df = ot_df.query('number < @ot_list[4]')              # Запрос по числу мест в заведении меньше среднего\n",
    "        ot_list.append(len(less_df))                               # Добавление числа таких мест в список\n",
    "        more_df = ot_df.query('number > @ot_list[4]')              # Запрос по числу мест в заведении больше среднего\n",
    "        ot_list.append(len(more_df))                               # Добавление числа мест\n",
    "        stat_list.append(ot_list)                                  # Добавление списка после выполнения расчетов\n",
    "    sp_stat = pd.DataFrame(data=stat_list,columns=stat_names)      # Формирование датафрейма\n",
    "    return sp_stat                                                 # Возвращение датафрейма"
   ]
  },
  {
   "cell_type": "markdown",
   "id": "a4747008",
   "metadata": {},
   "source": [
    "Вызовем эту функцию, чтобы посмотреть распределение числа объектов относительно среднего значения."
   ]
  },
  {
   "cell_type": "code",
   "execution_count": 51,
   "id": "2a5621bd",
   "metadata": {},
   "outputs": [
    {
     "data": {
      "text/html": [
       "<div>\n",
       "<style scoped>\n",
       "    .dataframe tbody tr th:only-of-type {\n",
       "        vertical-align: middle;\n",
       "    }\n",
       "\n",
       "    .dataframe tbody tr th {\n",
       "        vertical-align: top;\n",
       "    }\n",
       "\n",
       "    .dataframe thead th {\n",
       "        text-align: right;\n",
       "    }\n",
       "</style>\n",
       "<table border=\"1\" class=\"dataframe\">\n",
       "  <thead>\n",
       "    <tr style=\"text-align: right;\">\n",
       "      <th></th>\n",
       "      <th>object_type</th>\n",
       "      <th>total</th>\n",
       "      <th>min</th>\n",
       "      <th>max</th>\n",
       "      <th>average</th>\n",
       "      <th>median</th>\n",
       "      <th>less_avg</th>\n",
       "      <th>more_avg</th>\n",
       "    </tr>\n",
       "  </thead>\n",
       "  <tbody>\n",
       "    <tr>\n",
       "      <th>0</th>\n",
       "      <td>кафе</td>\n",
       "      <td>1396</td>\n",
       "      <td>0</td>\n",
       "      <td>456</td>\n",
       "      <td>47</td>\n",
       "      <td>40</td>\n",
       "      <td>842</td>\n",
       "      <td>552</td>\n",
       "    </tr>\n",
       "    <tr>\n",
       "      <th>1</th>\n",
       "      <td>предприятие быстрого обслуживания</td>\n",
       "      <td>791</td>\n",
       "      <td>0</td>\n",
       "      <td>580</td>\n",
       "      <td>40</td>\n",
       "      <td>25</td>\n",
       "      <td>477</td>\n",
       "      <td>273</td>\n",
       "    </tr>\n",
       "    <tr>\n",
       "      <th>2</th>\n",
       "      <td>ресторан</td>\n",
       "      <td>544</td>\n",
       "      <td>0</td>\n",
       "      <td>500</td>\n",
       "      <td>100</td>\n",
       "      <td>88</td>\n",
       "      <td>344</td>\n",
       "      <td>181</td>\n",
       "    </tr>\n",
       "    <tr>\n",
       "      <th>3</th>\n",
       "      <td>магазин (отдел кулинарии)</td>\n",
       "      <td>78</td>\n",
       "      <td>0</td>\n",
       "      <td>48</td>\n",
       "      <td>8</td>\n",
       "      <td>3</td>\n",
       "      <td>49</td>\n",
       "      <td>27</td>\n",
       "    </tr>\n",
       "    <tr>\n",
       "      <th>4</th>\n",
       "      <td>кафетерий</td>\n",
       "      <td>52</td>\n",
       "      <td>0</td>\n",
       "      <td>85</td>\n",
       "      <td>12</td>\n",
       "      <td>8</td>\n",
       "      <td>37</td>\n",
       "      <td>15</td>\n",
       "    </tr>\n",
       "    <tr>\n",
       "      <th>5</th>\n",
       "      <td>закусочная</td>\n",
       "      <td>56</td>\n",
       "      <td>0</td>\n",
       "      <td>91</td>\n",
       "      <td>14</td>\n",
       "      <td>8</td>\n",
       "      <td>34</td>\n",
       "      <td>22</td>\n",
       "    </tr>\n",
       "    <tr>\n",
       "      <th>6</th>\n",
       "      <td>бар</td>\n",
       "      <td>37</td>\n",
       "      <td>0</td>\n",
       "      <td>150</td>\n",
       "      <td>53</td>\n",
       "      <td>45</td>\n",
       "      <td>23</td>\n",
       "      <td>13</td>\n",
       "    </tr>\n",
       "    <tr>\n",
       "      <th>7</th>\n",
       "      <td>буфет</td>\n",
       "      <td>11</td>\n",
       "      <td>0</td>\n",
       "      <td>70</td>\n",
       "      <td>12</td>\n",
       "      <td>0</td>\n",
       "      <td>8</td>\n",
       "      <td>3</td>\n",
       "    </tr>\n",
       "    <tr>\n",
       "      <th>8</th>\n",
       "      <td>столовая</td>\n",
       "      <td>3</td>\n",
       "      <td>55</td>\n",
       "      <td>162</td>\n",
       "      <td>112</td>\n",
       "      <td>120</td>\n",
       "      <td>1</td>\n",
       "      <td>2</td>\n",
       "    </tr>\n",
       "  </tbody>\n",
       "</table>\n",
       "</div>"
      ],
      "text/plain": [
       "                         object_type  total  min  max  average  median  \\\n",
       "0                               кафе   1396    0  456       47      40   \n",
       "1  предприятие быстрого обслуживания    791    0  580       40      25   \n",
       "2                           ресторан    544    0  500      100      88   \n",
       "3          магазин (отдел кулинарии)     78    0   48        8       3   \n",
       "4                          кафетерий     52    0   85       12       8   \n",
       "5                         закусочная     56    0   91       14       8   \n",
       "6                                бар     37    0  150       53      45   \n",
       "7                              буфет     11    0   70       12       0   \n",
       "8                           столовая      3   55  162      112     120   \n",
       "\n",
       "   less_avg  more_avg  \n",
       "0       842       552  \n",
       "1       477       273  \n",
       "2       344       181  \n",
       "3        49        27  \n",
       "4        37        15  \n",
       "5        34        22  \n",
       "6        23        13  \n",
       "7         8         3  \n",
       "8         1         2  "
      ]
     },
     "metadata": {},
     "output_type": "display_data"
    }
   ],
   "source": [
    "test_sp = capacity_stat_v2(chained_df)                             # Вызов функции\n",
    "display(test_sp)                                                   # Просмотр датафрейма со статистикой"
   ]
  },
  {
   "cell_type": "markdown",
   "id": "50526bcb",
   "metadata": {},
   "source": [
    "Вызовем функцию и сформируем из данных датафрейм со статистикой вместимости."
   ]
  },
  {
   "cell_type": "code",
   "execution_count": 52,
   "id": "3fb40a16",
   "metadata": {},
   "outputs": [
    {
     "data": {
      "text/html": [
       "<div>\n",
       "<style scoped>\n",
       "    .dataframe tbody tr th:only-of-type {\n",
       "        vertical-align: middle;\n",
       "    }\n",
       "\n",
       "    .dataframe tbody tr th {\n",
       "        vertical-align: top;\n",
       "    }\n",
       "\n",
       "    .dataframe thead th {\n",
       "        text-align: right;\n",
       "    }\n",
       "</style>\n",
       "<table border=\"1\" class=\"dataframe\">\n",
       "  <thead>\n",
       "    <tr style=\"text-align: right;\">\n",
       "      <th></th>\n",
       "      <th>name</th>\n",
       "      <th>count</th>\n",
       "      <th>total</th>\n",
       "      <th>min</th>\n",
       "      <th>max</th>\n",
       "      <th>average</th>\n",
       "    </tr>\n",
       "  </thead>\n",
       "  <tbody>\n",
       "    <tr>\n",
       "      <th>0</th>\n",
       "      <td>кафе</td>\n",
       "      <td>1396</td>\n",
       "      <td>66208</td>\n",
       "      <td>0</td>\n",
       "      <td>456</td>\n",
       "      <td>47</td>\n",
       "    </tr>\n",
       "    <tr>\n",
       "      <th>1</th>\n",
       "      <td>столовая</td>\n",
       "      <td>3</td>\n",
       "      <td>337</td>\n",
       "      <td>55</td>\n",
       "      <td>162</td>\n",
       "      <td>112</td>\n",
       "    </tr>\n",
       "    <tr>\n",
       "      <th>2</th>\n",
       "      <td>закусочная</td>\n",
       "      <td>56</td>\n",
       "      <td>805</td>\n",
       "      <td>0</td>\n",
       "      <td>91</td>\n",
       "      <td>14</td>\n",
       "    </tr>\n",
       "    <tr>\n",
       "      <th>3</th>\n",
       "      <td>предприятие быстрого обслуживания</td>\n",
       "      <td>791</td>\n",
       "      <td>31772</td>\n",
       "      <td>0</td>\n",
       "      <td>580</td>\n",
       "      <td>40</td>\n",
       "    </tr>\n",
       "    <tr>\n",
       "      <th>4</th>\n",
       "      <td>ресторан</td>\n",
       "      <td>544</td>\n",
       "      <td>54527</td>\n",
       "      <td>0</td>\n",
       "      <td>500</td>\n",
       "      <td>100</td>\n",
       "    </tr>\n",
       "    <tr>\n",
       "      <th>5</th>\n",
       "      <td>кафетерий</td>\n",
       "      <td>52</td>\n",
       "      <td>638</td>\n",
       "      <td>0</td>\n",
       "      <td>85</td>\n",
       "      <td>12</td>\n",
       "    </tr>\n",
       "    <tr>\n",
       "      <th>6</th>\n",
       "      <td>буфет</td>\n",
       "      <td>11</td>\n",
       "      <td>140</td>\n",
       "      <td>0</td>\n",
       "      <td>70</td>\n",
       "      <td>12</td>\n",
       "    </tr>\n",
       "    <tr>\n",
       "      <th>7</th>\n",
       "      <td>бар</td>\n",
       "      <td>37</td>\n",
       "      <td>1962</td>\n",
       "      <td>0</td>\n",
       "      <td>150</td>\n",
       "      <td>53</td>\n",
       "    </tr>\n",
       "    <tr>\n",
       "      <th>8</th>\n",
       "      <td>магазин (отдел кулинарии)</td>\n",
       "      <td>78</td>\n",
       "      <td>677</td>\n",
       "      <td>0</td>\n",
       "      <td>48</td>\n",
       "      <td>8</td>\n",
       "    </tr>\n",
       "  </tbody>\n",
       "</table>\n",
       "</div>"
      ],
      "text/plain": [
       "                                name  count  total  min  max  average\n",
       "0                               кафе   1396  66208    0  456       47\n",
       "1                           столовая      3    337   55  162      112\n",
       "2                         закусочная     56    805    0   91       14\n",
       "3  предприятие быстрого обслуживания    791  31772    0  580       40\n",
       "4                           ресторан    544  54527    0  500      100\n",
       "5                          кафетерий     52    638    0   85       12\n",
       "6                              буфет     11    140    0   70       12\n",
       "7                                бар     37   1962    0  150       53\n",
       "8          магазин (отдел кулинарии)     78    677    0   48        8"
      ]
     },
     "metadata": {},
     "output_type": "display_data"
    }
   ],
   "source": [
    "cap_df = capacity_stat(rest_types,num_df)                   # Формирование датафрейма со статистикой\n",
    "display(cap_df)                                             # Просмотр датафрейма"
   ]
  },
  {
   "cell_type": "markdown",
   "id": "77be155f",
   "metadata": {},
   "source": [
    "Установим краткие наименования типов объектов в датафрейме со статистикой."
   ]
  },
  {
   "cell_type": "code",
   "execution_count": 53,
   "id": "64f6730b",
   "metadata": {},
   "outputs": [
    {
     "data": {
      "text/html": [
       "<div>\n",
       "<style scoped>\n",
       "    .dataframe tbody tr th:only-of-type {\n",
       "        vertical-align: middle;\n",
       "    }\n",
       "\n",
       "    .dataframe tbody tr th {\n",
       "        vertical-align: top;\n",
       "    }\n",
       "\n",
       "    .dataframe thead th {\n",
       "        text-align: right;\n",
       "    }\n",
       "</style>\n",
       "<table border=\"1\" class=\"dataframe\">\n",
       "  <thead>\n",
       "    <tr style=\"text-align: right;\">\n",
       "      <th></th>\n",
       "      <th>name</th>\n",
       "      <th>count</th>\n",
       "      <th>total</th>\n",
       "      <th>min</th>\n",
       "      <th>max</th>\n",
       "      <th>average</th>\n",
       "    </tr>\n",
       "  </thead>\n",
       "  <tbody>\n",
       "    <tr>\n",
       "      <th>0</th>\n",
       "      <td>кафе</td>\n",
       "      <td>1396</td>\n",
       "      <td>66208</td>\n",
       "      <td>0</td>\n",
       "      <td>456</td>\n",
       "      <td>47</td>\n",
       "    </tr>\n",
       "    <tr>\n",
       "      <th>1</th>\n",
       "      <td>столовая</td>\n",
       "      <td>3</td>\n",
       "      <td>337</td>\n",
       "      <td>55</td>\n",
       "      <td>162</td>\n",
       "      <td>112</td>\n",
       "    </tr>\n",
       "    <tr>\n",
       "      <th>2</th>\n",
       "      <td>закусочная</td>\n",
       "      <td>56</td>\n",
       "      <td>805</td>\n",
       "      <td>0</td>\n",
       "      <td>91</td>\n",
       "      <td>14</td>\n",
       "    </tr>\n",
       "    <tr>\n",
       "      <th>3</th>\n",
       "      <td>предприятие БО</td>\n",
       "      <td>791</td>\n",
       "      <td>31772</td>\n",
       "      <td>0</td>\n",
       "      <td>580</td>\n",
       "      <td>40</td>\n",
       "    </tr>\n",
       "    <tr>\n",
       "      <th>4</th>\n",
       "      <td>ресторан</td>\n",
       "      <td>544</td>\n",
       "      <td>54527</td>\n",
       "      <td>0</td>\n",
       "      <td>500</td>\n",
       "      <td>100</td>\n",
       "    </tr>\n",
       "    <tr>\n",
       "      <th>5</th>\n",
       "      <td>кафетерий</td>\n",
       "      <td>52</td>\n",
       "      <td>638</td>\n",
       "      <td>0</td>\n",
       "      <td>85</td>\n",
       "      <td>12</td>\n",
       "    </tr>\n",
       "    <tr>\n",
       "      <th>6</th>\n",
       "      <td>буфет</td>\n",
       "      <td>11</td>\n",
       "      <td>140</td>\n",
       "      <td>0</td>\n",
       "      <td>70</td>\n",
       "      <td>12</td>\n",
       "    </tr>\n",
       "    <tr>\n",
       "      <th>7</th>\n",
       "      <td>бар</td>\n",
       "      <td>37</td>\n",
       "      <td>1962</td>\n",
       "      <td>0</td>\n",
       "      <td>150</td>\n",
       "      <td>53</td>\n",
       "    </tr>\n",
       "    <tr>\n",
       "      <th>8</th>\n",
       "      <td>отдел кулинарии</td>\n",
       "      <td>78</td>\n",
       "      <td>677</td>\n",
       "      <td>0</td>\n",
       "      <td>48</td>\n",
       "      <td>8</td>\n",
       "    </tr>\n",
       "  </tbody>\n",
       "</table>\n",
       "</div>"
      ],
      "text/plain": [
       "              name  count  total  min  max  average\n",
       "0             кафе   1396  66208    0  456       47\n",
       "1         столовая      3    337   55  162      112\n",
       "2       закусочная     56    805    0   91       14\n",
       "3   предприятие БО    791  31772    0  580       40\n",
       "4         ресторан    544  54527    0  500      100\n",
       "5        кафетерий     52    638    0   85       12\n",
       "6            буфет     11    140    0   70       12\n",
       "7              бар     37   1962    0  150       53\n",
       "8  отдел кулинарии     78    677    0   48        8"
      ]
     },
     "metadata": {},
     "output_type": "display_data"
    }
   ],
   "source": [
    "cap_df['name'][3] = 'предприятие БО'                      # Переименование типа объекта в строке 3\n",
    "cap_df['name'][8] = 'отдел кулинарии'                     # Переименование типа объекта в строке 8\n",
    "display(cap_df)                                           # Просмотр после изменений"
   ]
  },
  {
   "cell_type": "markdown",
   "id": "73cf1e55",
   "metadata": {},
   "source": [
    "Выделим срез данных (тип заведения и среднее количество мест) для построения столбчатой диаграммы и отсортируем его."
   ]
  },
  {
   "cell_type": "code",
   "execution_count": 54,
   "id": "b02efca1",
   "metadata": {},
   "outputs": [
    {
     "data": {
      "text/html": [
       "<div>\n",
       "<style scoped>\n",
       "    .dataframe tbody tr th:only-of-type {\n",
       "        vertical-align: middle;\n",
       "    }\n",
       "\n",
       "    .dataframe tbody tr th {\n",
       "        vertical-align: top;\n",
       "    }\n",
       "\n",
       "    .dataframe thead th {\n",
       "        text-align: right;\n",
       "    }\n",
       "</style>\n",
       "<table border=\"1\" class=\"dataframe\">\n",
       "  <thead>\n",
       "    <tr style=\"text-align: right;\">\n",
       "      <th></th>\n",
       "      <th>name</th>\n",
       "      <th>average</th>\n",
       "    </tr>\n",
       "  </thead>\n",
       "  <tbody>\n",
       "    <tr>\n",
       "      <th>1</th>\n",
       "      <td>столовая</td>\n",
       "      <td>112</td>\n",
       "    </tr>\n",
       "    <tr>\n",
       "      <th>4</th>\n",
       "      <td>ресторан</td>\n",
       "      <td>100</td>\n",
       "    </tr>\n",
       "    <tr>\n",
       "      <th>7</th>\n",
       "      <td>бар</td>\n",
       "      <td>53</td>\n",
       "    </tr>\n",
       "    <tr>\n",
       "      <th>0</th>\n",
       "      <td>кафе</td>\n",
       "      <td>47</td>\n",
       "    </tr>\n",
       "    <tr>\n",
       "      <th>3</th>\n",
       "      <td>предприятие БО</td>\n",
       "      <td>40</td>\n",
       "    </tr>\n",
       "    <tr>\n",
       "      <th>2</th>\n",
       "      <td>закусочная</td>\n",
       "      <td>14</td>\n",
       "    </tr>\n",
       "    <tr>\n",
       "      <th>5</th>\n",
       "      <td>кафетерий</td>\n",
       "      <td>12</td>\n",
       "    </tr>\n",
       "    <tr>\n",
       "      <th>6</th>\n",
       "      <td>буфет</td>\n",
       "      <td>12</td>\n",
       "    </tr>\n",
       "    <tr>\n",
       "      <th>8</th>\n",
       "      <td>отдел кулинарии</td>\n",
       "      <td>8</td>\n",
       "    </tr>\n",
       "  </tbody>\n",
       "</table>\n",
       "</div>"
      ],
      "text/plain": [
       "              name  average\n",
       "1         столовая      112\n",
       "4         ресторан      100\n",
       "7              бар       53\n",
       "0             кафе       47\n",
       "3   предприятие БО       40\n",
       "2       закусочная       14\n",
       "5        кафетерий       12\n",
       "6            буфет       12\n",
       "8  отдел кулинарии        8"
      ]
     },
     "metadata": {},
     "output_type": "display_data"
    }
   ],
   "source": [
    "cap_sorted = cap_df[['name','average']].sort_values(\n",
    "                    by='average',ascending=False)           # Срез и сортировка по значению среднего числа\n",
    "display(cap_sorted)                                         # Просмотр после выполнения"
   ]
  },
  {
   "cell_type": "markdown",
   "id": "87deab06",
   "metadata": {},
   "source": [
    "На основе сортированного среза данных с типами заведений и среднего числа мест построим столбчатой диаграммы."
   ]
  },
  {
   "cell_type": "code",
   "execution_count": 55,
   "id": "1dd97789",
   "metadata": {},
   "outputs": [
    {
     "data": {
      "image/png": "[encoded data removed]",
      "text/plain": [
       "<Figure size 1080x432 with 1 Axes>"
      ]
     },
     "metadata": {},
     "output_type": "display_data"
    }
   ],
   "source": [
    "plt.figure(figsize=(15,6))                                  # Размер диаграммы\n",
    "plt.style.use('seaborn')                                    # Стиль диаграммы\n",
    "plt.bar(cap_sorted['name'],cap_sorted['average'])           # Исходные данные для построения\n",
    "plt.title('Среднее количество мест по типам заведения')     # Название диаграммы\n",
    "plt.xlabel('Типы заведения')                                # Подпись по оси X\n",
    "plt.ylabel('Среднее количество мест')                       # Подпись по оси Y\n",
    "plt.show()                                                  # Просмотр диаграммы"
   ]
  },
  {
   "cell_type": "markdown",
   "id": "c06f0660",
   "metadata": {},
   "source": [
    "По этой статистике выходит, что для разных типов заведения характерно разное количество мест. Если для отделов кулинарии, закусочных, кафетериев и буфетов в среднем меньше 20 мест, то для столовых, ресторанов, баров, предприятий быстрого обслуживания и кафе приходится на объект в среднем от 40 мест и более. Больше всего мест в среднем приходится на столовые."
   ]
  },
  {
   "cell_type": "markdown",
   "id": "f09131f9",
   "metadata": {},
   "source": [
    "### Задание 6"
   ]
  },
  {
   "cell_type": "markdown",
   "id": "89400f4d",
   "metadata": {},
   "source": [
    "<i>Выделите в отдельный столбец информацию об улице из столбца address."
   ]
  },
  {
   "cell_type": "markdown",
   "id": "c195f14c",
   "metadata": {},
   "source": [
    "Сначала выделим количество уникальных адресов объектов по целому датафрейму."
   ]
  },
  {
   "cell_type": "code",
   "execution_count": 56,
   "id": "07272667",
   "metadata": {},
   "outputs": [
    {
     "data": {
      "text/plain": [
       "9108"
      ]
     },
     "metadata": {},
     "output_type": "display_data"
    }
   ],
   "source": [
    "places = list(rest_df['address'].unique())                  # Выделение уникальных адресов\n",
    "display(len(places))                                        # Просмотр числа уникальных адресов"
   ]
  },
  {
   "cell_type": "markdown",
   "id": "7c63a33e",
   "metadata": {},
   "source": [
    "Всего обнаружено 9108 уникальных адресов, это значит, что часть заведений может находиться в одном и том же здании."
   ]
  },
  {
   "cell_type": "markdown",
   "id": "2648ecb9",
   "metadata": {},
   "source": [
    "Чтобы определить безошибочно все типы улиц, площадей, переулков и прочих разнообразных видов образований, был придуман алгоритм, который позволит выделить разнообразные названия улиц по списку уникальных адресов, не пропуская ни одного уникального типа улицы, чтобы потом произвести корректную фильтрацию с выбором улицы для создания дополнительного столбца. Суть алгоритма: чтобы не разглядывать обозначения улиц, изначально выделил улицы, бульвары, проспекты и иные типы, отмечая количество таковых с отображением списка незатронутых адресов, а затем добавляя к условиям совпадения типа улицы новые обнаруженные пункты, выполняя добавление новых типов улиц в фильтрацию до тех пор, пока список незатронутых адресов не опустеет."
   ]
  },
  {
   "cell_type": "code",
   "execution_count": 57,
   "id": "f9a4de58",
   "metadata": {},
   "outputs": [
    {
     "data": {
      "text/plain": [
       "[]"
      ]
     },
     "metadata": {},
     "output_type": "display_data"
    },
    {
     "name": "stdout",
     "output_type": "stream",
     "text": [
      "Обработано адресов: 9108\n"
     ]
    }
   ],
   "source": [
    "count = 0                                  # Счетчик затронутых адресов\n",
    "lost = []                                  # Список для пропущенных адресов\n",
    "for i in range(len(places)):               # Цикл по списку уникальных адресов\n",
    "    if 'улица' in places[i]:               # Условие 1\n",
    "        count+=1                           # Увеличение счетчика\n",
    "    elif 'бульвар' in places[i]:           # Условие 2\n",
    "        count+=1                           # Увеличение счетчика\n",
    "    elif 'проспект' in places[i]:          # Условие 3\n",
    "        count+=1                           # Увеличение счетчика\n",
    "    elif 'переулок' in places[i]:          # Условие 4\n",
    "        count+=1                           # Увеличение счетчика\n",
    "    elif 'проезд' in places[i]:            # Условие 5\n",
    "        count+=1                           # Увеличение счетчика\n",
    "    elif 'шоссе' in places[i]:             # Условие 6\n",
    "        count+=1                           # Увеличение счетчика\n",
    "    elif 'площадь' in places[i]:           # Условие 7\n",
    "        count+=1                           # Увеличение счетчика\n",
    "    elif 'набережная' in places[i]:        # Условие 8\n",
    "        count+=1                           # Увеличение счетчика\n",
    "    elif 'Автодор' in places[i]:           # Условие 9\n",
    "        count+=1                           # Увеличение счетчика\n",
    "    elif 'аллея' in places[i]:             # Условие 10\n",
    "        count+=1                           # Увеличение счетчика\n",
    "    elif 'поселение' in places[i]:         # Условие 11\n",
    "        count+=1                           # Увеличение счетчика\n",
    "    elif 'Зеленоград' in places[i]:        # Условие 12\n",
    "        count+=1                           # Увеличение счетчика\n",
    "    elif 'квартал' in places[i]:           # Условие 13\n",
    "        count+=1                           # Увеличение счетчика\n",
    "    elif 'линия' in places[i]:             # Условие 14\n",
    "        count+=1                           # Увеличение счетчика\n",
    "    elif 'микрорайон' in places[i]:        # Условие 15\n",
    "        count+=1                           # Увеличение счетчика\n",
    "    elif 'тупик' in places[i]:             # Условие 16\n",
    "        count+=1                           # Увеличение счетчика\n",
    "    elif 'посёлок' in places[i]:           # Условие 17\n",
    "        count+=1                           # Увеличение счетчика\n",
    "    elif 'просек' in places[i]:            # Условие 18\n",
    "        count+=1                           # Увеличение счетчика\n",
    "    elif 'территория' in places[i]:        # Условие 19\n",
    "        count+=1                           # Увеличение счетчика\n",
    "    else: lost.append(places[i])           # При несовпадении с условиями добавить в список с пропущенными адресами\n",
    "display(lost)                              # После выполнения полной фильтрации список должен быть пустым\n",
    "print('Обработано адресов:',count)         # Печать сообщения"
   ]
  },
  {
   "cell_type": "markdown",
   "id": "cadc34f3",
   "metadata": {},
   "source": [
    "Согласно сайту Зеленограда (https://www.zelenograd.ru/gid/kak-ustroen-zelenograd/), город образует отдельный административный округ, имеет нестандартную архитектуру и в нем могут не попадаться улицы в классическом понимании, поэтому он будет включен в фильтрацию целиком. Далее создадим список типов \"улиц\" без Зеленограда, который используем для поиска и сравнения со строкой, в которой содержится адрес."
   ]
  },
  {
   "cell_type": "code",
   "execution_count": 58,
   "id": "65c7e812",
   "metadata": {},
   "outputs": [
    {
     "data": {
      "text/plain": [
       "18"
      ]
     },
     "metadata": {},
     "output_type": "display_data"
    }
   ],
   "source": [
    "strt_types = ['Автодор','улица','бульвар','проспект','переулок',\n",
    "              'шоссе','площадь','набережная','проезд','аллея',\n",
    "              'поселение','квартал','линия','микрорайон','тупик',\n",
    "              'посёлок','просек','территория']                        # Список типов улиц (без Зеленограда)\n",
    "display(len(strt_types))                                              # Печать длины списка"
   ]
  },
  {
   "cell_type": "markdown",
   "id": "72300574",
   "metadata": {},
   "source": [
    "Затем, используя этот список, создадим функцию `address_street` для выделения улицы из адреса."
   ]
  },
  {
   "cell_type": "code",
   "execution_count": 59,
   "id": "e825f899",
   "metadata": {},
   "outputs": [],
   "source": [
    "def address_street(adrs):                                     # Объявление функции\n",
    "    text_block = adrs.split(', ')                             # Разделение строки с адресом на блоки\n",
    "    for i in range(len(text_block)):                          # Цикл по блокам\n",
    "        if 'Зеленоград' in text_block[i]:                     # Если есть в адресе Зеленоград, то\n",
    "            street = text_block[i] + ', '+ text_block[i+1]    # прибавим блок с названием города и домом из адреса\n",
    "        for kind in strt_types:                               # Цикл по типам улиц\n",
    "            if kind in text_block[i]:                         # Если тип улицы содержится в блоке, то\n",
    "                street = text_block[i]                        # запишем его в переменную улицы\n",
    "    return street                                             # Возвращение улицы из адреса"
   ]
  },
  {
   "cell_type": "markdown",
   "id": "5fe22ac1",
   "metadata": {},
   "source": [
    "Теперь применим эту функцию для создания нового столбца `street`."
   ]
  },
  {
   "cell_type": "code",
   "execution_count": 60,
   "id": "706981f8",
   "metadata": {},
   "outputs": [
    {
     "data": {
      "text/plain": [
       "id              int64\n",
       "object_name    object\n",
       "chain          object\n",
       "object_type    object\n",
       "address        object\n",
       "number          int64\n",
       "street         object\n",
       "dtype: object"
      ]
     },
     "execution_count": 60,
     "metadata": {},
     "output_type": "execute_result"
    }
   ],
   "source": [
    "rest_df['street'] = rest_df['address'].apply(lambda x: address_street(x))    # Применение функции\n",
    "rest_df.dtypes                                                               # Просмотр типов данных"
   ]
  },
  {
   "cell_type": "markdown",
   "id": "75617723",
   "metadata": {},
   "source": [
    "Посмотрим последние 10 строк после добавления нового столбца."
   ]
  },
  {
   "cell_type": "code",
   "execution_count": 61,
   "id": "29357cdd",
   "metadata": {},
   "outputs": [
    {
     "data": {
      "text/html": [
       "<div>\n",
       "<style scoped>\n",
       "    .dataframe tbody tr th:only-of-type {\n",
       "        vertical-align: middle;\n",
       "    }\n",
       "\n",
       "    .dataframe tbody tr th {\n",
       "        vertical-align: top;\n",
       "    }\n",
       "\n",
       "    .dataframe thead th {\n",
       "        text-align: right;\n",
       "    }\n",
       "</style>\n",
       "<table border=\"1\" class=\"dataframe\">\n",
       "  <thead>\n",
       "    <tr style=\"text-align: right;\">\n",
       "      <th></th>\n",
       "      <th>id</th>\n",
       "      <th>object_name</th>\n",
       "      <th>chain</th>\n",
       "      <th>object_type</th>\n",
       "      <th>address</th>\n",
       "      <th>number</th>\n",
       "      <th>street</th>\n",
       "    </tr>\n",
       "  </thead>\n",
       "  <tbody>\n",
       "    <tr>\n",
       "      <th>15356</th>\n",
       "      <td>220618</td>\n",
       "      <td>Шоколадница</td>\n",
       "      <td>да</td>\n",
       "      <td>кафе</td>\n",
       "      <td>город Москва, Митинская улица, дом 36, корпус 1</td>\n",
       "      <td>100</td>\n",
       "      <td>Митинская улица</td>\n",
       "    </tr>\n",
       "    <tr>\n",
       "      <th>15357</th>\n",
       "      <td>218692</td>\n",
       "      <td>Шоколадница</td>\n",
       "      <td>да</td>\n",
       "      <td>кафе</td>\n",
       "      <td>город Москва, площадь Джавахарлала Неру, дом 1</td>\n",
       "      <td>30</td>\n",
       "      <td>площадь Джавахарлала Неру</td>\n",
       "    </tr>\n",
       "    <tr>\n",
       "      <th>15358</th>\n",
       "      <td>213724</td>\n",
       "      <td>Шоколадница</td>\n",
       "      <td>да</td>\n",
       "      <td>кафе</td>\n",
       "      <td>город Москва, Варшавское шоссе, дом 87Б</td>\n",
       "      <td>54</td>\n",
       "      <td>Варшавское шоссе</td>\n",
       "    </tr>\n",
       "    <tr>\n",
       "      <th>15359</th>\n",
       "      <td>222077</td>\n",
       "      <td>Кофейня «Шоколадница»</td>\n",
       "      <td>да</td>\n",
       "      <td>кафе</td>\n",
       "      <td>город Москва, Кантемировская улица, дом 47</td>\n",
       "      <td>72</td>\n",
       "      <td>Кантемировская улица</td>\n",
       "    </tr>\n",
       "    <tr>\n",
       "      <th>15360</th>\n",
       "      <td>219759</td>\n",
       "      <td>Шоколадница</td>\n",
       "      <td>да</td>\n",
       "      <td>кафе</td>\n",
       "      <td>город Москва, улица Вавилова, дом 3</td>\n",
       "      <td>36</td>\n",
       "      <td>улица Вавилова</td>\n",
       "    </tr>\n",
       "    <tr>\n",
       "      <th>15361</th>\n",
       "      <td>208537</td>\n",
       "      <td>Шоколадница</td>\n",
       "      <td>да</td>\n",
       "      <td>кафе</td>\n",
       "      <td>город Москва, 3-й Крутицкий переулок, дом 18</td>\n",
       "      <td>50</td>\n",
       "      <td>3-й Крутицкий переулок</td>\n",
       "    </tr>\n",
       "    <tr>\n",
       "      <th>15362</th>\n",
       "      <td>209264</td>\n",
       "      <td>Шоколадница</td>\n",
       "      <td>да</td>\n",
       "      <td>кафе</td>\n",
       "      <td>город Москва, улица Земляной Вал, дом 33</td>\n",
       "      <td>10</td>\n",
       "      <td>улица Земляной Вал</td>\n",
       "    </tr>\n",
       "    <tr>\n",
       "      <th>15363</th>\n",
       "      <td>209186</td>\n",
       "      <td>Шоколадница</td>\n",
       "      <td>да</td>\n",
       "      <td>кафе</td>\n",
       "      <td>город Москва, улица Земляной Вал, дом 33</td>\n",
       "      <td>20</td>\n",
       "      <td>улица Земляной Вал</td>\n",
       "    </tr>\n",
       "    <tr>\n",
       "      <th>15364</th>\n",
       "      <td>221900</td>\n",
       "      <td>Шоколадница</td>\n",
       "      <td>да</td>\n",
       "      <td>кафе</td>\n",
       "      <td>город Москва, поселение Московский, Киевское ш...</td>\n",
       "      <td>36</td>\n",
       "      <td>Киевское шоссе</td>\n",
       "    </tr>\n",
       "    <tr>\n",
       "      <th>15365</th>\n",
       "      <td>222535</td>\n",
       "      <td>Шоколадница</td>\n",
       "      <td>да</td>\n",
       "      <td>кафе</td>\n",
       "      <td>город Москва, Ходынский бульвар, дом 4</td>\n",
       "      <td>10</td>\n",
       "      <td>Ходынский бульвар</td>\n",
       "    </tr>\n",
       "  </tbody>\n",
       "</table>\n",
       "</div>"
      ],
      "text/plain": [
       "           id            object_name chain object_type  \\\n",
       "15356  220618            Шоколадница    да        кафе   \n",
       "15357  218692            Шоколадница    да        кафе   \n",
       "15358  213724            Шоколадница    да        кафе   \n",
       "15359  222077  Кофейня «Шоколадница»    да        кафе   \n",
       "15360  219759            Шоколадница    да        кафе   \n",
       "15361  208537            Шоколадница    да        кафе   \n",
       "15362  209264            Шоколадница    да        кафе   \n",
       "15363  209186            Шоколадница    да        кафе   \n",
       "15364  221900            Шоколадница    да        кафе   \n",
       "15365  222535            Шоколадница    да        кафе   \n",
       "\n",
       "                                                 address  number  \\\n",
       "15356    город Москва, Митинская улица, дом 36, корпус 1     100   \n",
       "15357     город Москва, площадь Джавахарлала Неру, дом 1      30   \n",
       "15358            город Москва, Варшавское шоссе, дом 87Б      54   \n",
       "15359         город Москва, Кантемировская улица, дом 47      72   \n",
       "15360                город Москва, улица Вавилова, дом 3      36   \n",
       "15361       город Москва, 3-й Крутицкий переулок, дом 18      50   \n",
       "15362           город Москва, улица Земляной Вал, дом 33      10   \n",
       "15363           город Москва, улица Земляной Вал, дом 33      20   \n",
       "15364  город Москва, поселение Московский, Киевское ш...      36   \n",
       "15365             город Москва, Ходынский бульвар, дом 4      10   \n",
       "\n",
       "                          street  \n",
       "15356            Митинская улица  \n",
       "15357  площадь Джавахарлала Неру  \n",
       "15358           Варшавское шоссе  \n",
       "15359       Кантемировская улица  \n",
       "15360             улица Вавилова  \n",
       "15361     3-й Крутицкий переулок  \n",
       "15362         улица Земляной Вал  \n",
       "15363         улица Земляной Вал  \n",
       "15364             Киевское шоссе  \n",
       "15365          Ходынский бульвар  "
      ]
     },
     "execution_count": 61,
     "metadata": {},
     "output_type": "execute_result"
    }
   ],
   "source": [
    "rest_df.tail(10)                         # Последние 10 строк датафрейма"
   ]
  },
  {
   "cell_type": "markdown",
   "id": "6117b337",
   "metadata": {},
   "source": [
    "Новый столбец с улицами сформирован."
   ]
  },
  {
   "cell_type": "markdown",
   "id": "6753ca55",
   "metadata": {},
   "source": [
    "### Задание 7"
   ]
  },
  {
   "cell_type": "markdown",
   "id": "b3d4b9d5",
   "metadata": {},
   "source": [
    "<i>Постройте график топ-10 улиц по количеству объектов общественного питания. Воспользуйтесь внешней информацией и ответьте на вопрос — в каких районах Москвы находятся эти улицы?"
   ]
  },
  {
   "cell_type": "markdown",
   "id": "c30a6355",
   "metadata": {},
   "source": [
    "Создадим через группировку по улицам таблицу с количеством заведенией на ней."
   ]
  },
  {
   "cell_type": "code",
   "execution_count": 62,
   "id": "d4aafbc2",
   "metadata": {},
   "outputs": [
    {
     "data": {
      "text/html": [
       "<div>\n",
       "<style scoped>\n",
       "    .dataframe tbody tr th:only-of-type {\n",
       "        vertical-align: middle;\n",
       "    }\n",
       "\n",
       "    .dataframe tbody tr th {\n",
       "        vertical-align: top;\n",
       "    }\n",
       "\n",
       "    .dataframe thead th {\n",
       "        text-align: right;\n",
       "    }\n",
       "</style>\n",
       "<table border=\"1\" class=\"dataframe\">\n",
       "  <thead>\n",
       "    <tr style=\"text-align: right;\">\n",
       "      <th></th>\n",
       "      <th>street</th>\n",
       "      <th>id</th>\n",
       "    </tr>\n",
       "  </thead>\n",
       "  <tbody>\n",
       "    <tr>\n",
       "      <th>1590</th>\n",
       "      <td>проспект Мира</td>\n",
       "      <td>204</td>\n",
       "    </tr>\n",
       "    <tr>\n",
       "      <th>1038</th>\n",
       "      <td>Профсоюзная улица</td>\n",
       "      <td>183</td>\n",
       "    </tr>\n",
       "    <tr>\n",
       "      <th>711</th>\n",
       "      <td>Ленинградский проспект</td>\n",
       "      <td>173</td>\n",
       "    </tr>\n",
       "    <tr>\n",
       "      <th>1022</th>\n",
       "      <td>Пресненская набережная</td>\n",
       "      <td>167</td>\n",
       "    </tr>\n",
       "    <tr>\n",
       "      <th>424</th>\n",
       "      <td>Варшавское шоссе</td>\n",
       "      <td>165</td>\n",
       "    </tr>\n",
       "  </tbody>\n",
       "</table>\n",
       "</div>"
      ],
      "text/plain": [
       "                      street   id\n",
       "1590           проспект Мира  204\n",
       "1038       Профсоюзная улица  183\n",
       "711   Ленинградский проспект  173\n",
       "1022  Пресненская набережная  167\n",
       "424         Варшавское шоссе  165"
      ]
     },
     "execution_count": 62,
     "metadata": {},
     "output_type": "execute_result"
    }
   ],
   "source": [
    "st_grouped = rest_df.groupby('street',as_index=False).agg(       # Группировка по улице с указанием количества объектов\n",
    "    {'id':'count'}).sort_values(by='id',ascending=False)         # и сортировкой по убыванию\n",
    "st_grouped.head()                                                # Просмотр первых 5 строк"
   ]
  },
  {
   "cell_type": "markdown",
   "id": "f96e8a80",
   "metadata": {},
   "source": [
    "Выделим топ-10 улиц по количеству объектов."
   ]
  },
  {
   "cell_type": "code",
   "execution_count": 63,
   "id": "aad38ea4",
   "metadata": {},
   "outputs": [
    {
     "data": {
      "text/html": [
       "<div>\n",
       "<style scoped>\n",
       "    .dataframe tbody tr th:only-of-type {\n",
       "        vertical-align: middle;\n",
       "    }\n",
       "\n",
       "    .dataframe tbody tr th {\n",
       "        vertical-align: top;\n",
       "    }\n",
       "\n",
       "    .dataframe thead th {\n",
       "        text-align: right;\n",
       "    }\n",
       "</style>\n",
       "<table border=\"1\" class=\"dataframe\">\n",
       "  <thead>\n",
       "    <tr style=\"text-align: right;\">\n",
       "      <th></th>\n",
       "      <th>street</th>\n",
       "      <th>id</th>\n",
       "    </tr>\n",
       "  </thead>\n",
       "  <tbody>\n",
       "    <tr>\n",
       "      <th>0</th>\n",
       "      <td>проспект Мира</td>\n",
       "      <td>204</td>\n",
       "    </tr>\n",
       "    <tr>\n",
       "      <th>1</th>\n",
       "      <td>Профсоюзная улица</td>\n",
       "      <td>183</td>\n",
       "    </tr>\n",
       "    <tr>\n",
       "      <th>2</th>\n",
       "      <td>Ленинградский проспект</td>\n",
       "      <td>173</td>\n",
       "    </tr>\n",
       "    <tr>\n",
       "      <th>3</th>\n",
       "      <td>Пресненская набережная</td>\n",
       "      <td>167</td>\n",
       "    </tr>\n",
       "    <tr>\n",
       "      <th>4</th>\n",
       "      <td>Варшавское шоссе</td>\n",
       "      <td>165</td>\n",
       "    </tr>\n",
       "    <tr>\n",
       "      <th>5</th>\n",
       "      <td>Ленинский проспект</td>\n",
       "      <td>148</td>\n",
       "    </tr>\n",
       "    <tr>\n",
       "      <th>6</th>\n",
       "      <td>проспект Вернадского</td>\n",
       "      <td>132</td>\n",
       "    </tr>\n",
       "    <tr>\n",
       "      <th>7</th>\n",
       "      <td>Кутузовский проспект</td>\n",
       "      <td>114</td>\n",
       "    </tr>\n",
       "    <tr>\n",
       "      <th>8</th>\n",
       "      <td>Каширское шоссе</td>\n",
       "      <td>112</td>\n",
       "    </tr>\n",
       "    <tr>\n",
       "      <th>9</th>\n",
       "      <td>Кировоградская улица</td>\n",
       "      <td>110</td>\n",
       "    </tr>\n",
       "  </tbody>\n",
       "</table>\n",
       "</div>"
      ],
      "text/plain": [
       "                   street   id\n",
       "0           проспект Мира  204\n",
       "1       Профсоюзная улица  183\n",
       "2  Ленинградский проспект  173\n",
       "3  Пресненская набережная  167\n",
       "4        Варшавское шоссе  165\n",
       "5      Ленинский проспект  148\n",
       "6    проспект Вернадского  132\n",
       "7    Кутузовский проспект  114\n",
       "8         Каширское шоссе  112\n",
       "9    Кировоградская улица  110"
      ]
     },
     "metadata": {},
     "output_type": "display_data"
    }
   ],
   "source": [
    "top_st = st_grouped[:10].reset_index(drop=True)         # Срез по первым 10 названием улиц   \n",
    "display(top_st)                                         # Просмотр среза "
   ]
  },
  {
   "cell_type": "markdown",
   "id": "f88e80fa",
   "metadata": {},
   "source": [
    "Отобразим эти данные визуально с помощью горизонтальной столбчатой гистограммы."
   ]
  },
  {
   "cell_type": "code",
   "execution_count": 64,
   "id": "e434de9a",
   "metadata": {},
   "outputs": [
    {
     "data": {
      "image/png": "[encoded data removed]",
      "text/plain": [
       "<Figure size 1152x432 with 1 Axes>"
      ]
     },
     "metadata": {},
     "output_type": "display_data"
    }
   ],
   "source": [
    "plt.figure(figsize=(16,6))                                   # Размер столбчатой диаграммы\n",
    "plt.barh(top_st['street'],top_st['id'])                      # Построение гистограммы\n",
    "plt.title('Топ-10 улиц по количеству заведений на них')      # Название гистограммы\n",
    "plt.xlabel('Количество объектов на одной улице')             # Подпись по оси X\n",
    "plt.ylabel('Наименование улицы')                             # Подпись по оси Y\n",
    "plt.show()                                                   # Просмотр диаграммы"
   ]
  },
  {
   "cell_type": "markdown",
   "id": "7c93122a",
   "metadata": {},
   "source": [
    "Для того, чтобы определять районы по указанной улице нам понадобится еще одна функция - `define_district`, которая будет проводить сравнения по созданному справочнику."
   ]
  },
  {
   "cell_type": "code",
   "execution_count": 65,
   "id": "55d94bdc",
   "metadata": {},
   "outputs": [],
   "source": [
    "def define_district(street_name):                             # Объявление функции\n",
    "    selected = streets.query(\n",
    "        '@street_name in street').reset_index()               # Запрос по названию улицы\n",
    "    if len(selected) == 0:                                    # Если улица не будет найдена,\n",
    "            dstr = 'Не в Москве!'                             # в спискок районов запишем, что улица не в Москве\n",
    "    else: dstr = selected['districts'][0]                     # или запишем список районов\n",
    "    return dstr                                               # Возвращение списка районов"
   ]
  },
  {
   "cell_type": "markdown",
   "id": "b54f1189",
   "metadata": {},
   "source": [
    "Применим функцию к топ-10 популярным улицам."
   ]
  },
  {
   "cell_type": "code",
   "execution_count": 66,
   "id": "68f26429",
   "metadata": {},
   "outputs": [
    {
     "data": {
      "text/html": [
       "<div>\n",
       "<style scoped>\n",
       "    .dataframe tbody tr th:only-of-type {\n",
       "        vertical-align: middle;\n",
       "    }\n",
       "\n",
       "    .dataframe tbody tr th {\n",
       "        vertical-align: top;\n",
       "    }\n",
       "\n",
       "    .dataframe thead th {\n",
       "        text-align: right;\n",
       "    }\n",
       "</style>\n",
       "<table border=\"1\" class=\"dataframe\">\n",
       "  <thead>\n",
       "    <tr style=\"text-align: right;\">\n",
       "      <th></th>\n",
       "      <th>street</th>\n",
       "      <th>id</th>\n",
       "      <th>districts</th>\n",
       "    </tr>\n",
       "  </thead>\n",
       "  <tbody>\n",
       "    <tr>\n",
       "      <th>0</th>\n",
       "      <td>проспект Мира</td>\n",
       "      <td>204</td>\n",
       "      <td>Мещанский район; Алексеевский район; район Мар...</td>\n",
       "    </tr>\n",
       "    <tr>\n",
       "      <th>1</th>\n",
       "      <td>Профсоюзная улица</td>\n",
       "      <td>183</td>\n",
       "      <td>Академический район; район Коньково; Обручевск...</td>\n",
       "    </tr>\n",
       "    <tr>\n",
       "      <th>2</th>\n",
       "      <td>Ленинградский проспект</td>\n",
       "      <td>173</td>\n",
       "      <td>район Аэропорт; район Беговой; район Сокол; Хо...</td>\n",
       "    </tr>\n",
       "    <tr>\n",
       "      <th>3</th>\n",
       "      <td>Пресненская набережная</td>\n",
       "      <td>167</td>\n",
       "      <td>Пресненский район</td>\n",
       "    </tr>\n",
       "    <tr>\n",
       "      <th>4</th>\n",
       "      <td>Варшавское шоссе</td>\n",
       "      <td>165</td>\n",
       "      <td>Донской район; район Нагатино-Садовники; Нагор...</td>\n",
       "    </tr>\n",
       "    <tr>\n",
       "      <th>5</th>\n",
       "      <td>Ленинский проспект</td>\n",
       "      <td>148</td>\n",
       "      <td>район Якиманка; Донской район; Гагаринский рай...</td>\n",
       "    </tr>\n",
       "    <tr>\n",
       "      <th>6</th>\n",
       "      <td>проспект Вернадского</td>\n",
       "      <td>132</td>\n",
       "      <td>Гагаринский район; Ломоносовский район; район ...</td>\n",
       "    </tr>\n",
       "    <tr>\n",
       "      <th>7</th>\n",
       "      <td>Кутузовский проспект</td>\n",
       "      <td>114</td>\n",
       "      <td>район Дорогомилово; район Фили-Давыдково</td>\n",
       "    </tr>\n",
       "    <tr>\n",
       "      <th>8</th>\n",
       "      <td>Каширское шоссе</td>\n",
       "      <td>112</td>\n",
       "      <td>район Москворечье-Сабурово; район Нагатино-Сад...</td>\n",
       "    </tr>\n",
       "    <tr>\n",
       "      <th>9</th>\n",
       "      <td>Кировоградская улица</td>\n",
       "      <td>110</td>\n",
       "      <td>район Чертаново Северное; район Чертаново Цент...</td>\n",
       "    </tr>\n",
       "  </tbody>\n",
       "</table>\n",
       "</div>"
      ],
      "text/plain": [
       "                   street   id  \\\n",
       "0           проспект Мира  204   \n",
       "1       Профсоюзная улица  183   \n",
       "2  Ленинградский проспект  173   \n",
       "3  Пресненская набережная  167   \n",
       "4        Варшавское шоссе  165   \n",
       "5      Ленинский проспект  148   \n",
       "6    проспект Вернадского  132   \n",
       "7    Кутузовский проспект  114   \n",
       "8         Каширское шоссе  112   \n",
       "9    Кировоградская улица  110   \n",
       "\n",
       "                                           districts  \n",
       "0  Мещанский район; Алексеевский район; район Мар...  \n",
       "1  Академический район; район Коньково; Обручевск...  \n",
       "2  район Аэропорт; район Беговой; район Сокол; Хо...  \n",
       "3                                  Пресненский район  \n",
       "4  Донской район; район Нагатино-Садовники; Нагор...  \n",
       "5  район Якиманка; Донской район; Гагаринский рай...  \n",
       "6  Гагаринский район; Ломоносовский район; район ...  \n",
       "7           район Дорогомилово; район Фили-Давыдково  \n",
       "8  район Москворечье-Сабурово; район Нагатино-Сад...  \n",
       "9  район Чертаново Северное; район Чертаново Цент...  "
      ]
     },
     "metadata": {},
     "output_type": "display_data"
    }
   ],
   "source": [
    "top_st['districts'] = top_st['street'].apply(lambda x: define_district(x))    # Применение функции для определения районов\n",
    "display(top_st)                                                               # Просмотр датафрейма"
   ]
  },
  {
   "cell_type": "markdown",
   "id": "905ae756",
   "metadata": {},
   "source": [
    "Как и было сказано ранее, Зеленоград входит в отдельный административный округ, поэтому специально для него создадим функцию для заполнения района, для чего найдем и выделим название округа из списка округов. "
   ]
  },
  {
   "cell_type": "code",
   "execution_count": 67,
   "id": "08e11977",
   "metadata": {},
   "outputs": [
    {
     "data": {
      "text/plain": [
       "'Зеленоградский административный округ'"
      ]
     },
     "metadata": {},
     "output_type": "display_data"
    }
   ],
   "source": [
    "zgrad_area = ''                               # Пустая строка для названия округа\n",
    "for area in areas:                            # Цикл по названиям округов\n",
    "    if 'Зеленоград' in area:                  # Если в названии есть Зеленоград, то\n",
    "        zgrad_area = area                     # записать название округа\n",
    "display(zgrad_area)                           # Просмотр значения"
   ]
  },
  {
   "cell_type": "markdown",
   "id": "ee0a945c",
   "metadata": {},
   "source": [
    "Название округа выделено, создадим для заполнения столбца с районами функцию `zgrad_district`, если нам понадобится добавить округ в датафрейм."
   ]
  },
  {
   "cell_type": "code",
   "execution_count": 68,
   "id": "54fed7bd",
   "metadata": {},
   "outputs": [],
   "source": [
    "def zgrad_district(df):                                 # Объявление функции\n",
    "    for k in range(len(df)):                            # Цикл по строкам\n",
    "        text_block = df['street'][k].split(', ')        # Разделение строки адреса на блоки\n",
    "        for text in text_block:                         # Цикл по блокам\n",
    "            if 'Зеленоград' in text:                    # Если блок содержит название Зеленоград, то \n",
    "                df['districts'][k] = zgrad_area         # запишем название округа\n",
    "    return df                                           # Возвращение датафрейма"
   ]
  },
  {
   "cell_type": "markdown",
   "id": "9d5ff3d9",
   "metadata": {},
   "source": [
    "Теперь определим список затронутых районов города. Для этого создадим функцию под названием `list_of_districts`, которая выделит из датафрейма упомянутые в нем районы Москвы. "
   ]
  },
  {
   "cell_type": "code",
   "execution_count": 69,
   "id": "c42c54a4",
   "metadata": {},
   "outputs": [],
   "source": [
    "def list_of_districts(df):                                # Объявление функции\n",
    "    dst_unique = []                                       # Общий список с уникальными районами \n",
    "    for i in range(len(df)):                              # Цикл по длине датафрейма\n",
    "        dst_list = df['districts'][i].split('; ')         # Разделенный список с районами \n",
    "        for dst in dst_list:                              # Цикл для записи уникальных значений\n",
    "            if dst not in dst_unique:                     # Если нет в списке уникальных значений, то\n",
    "                dst_unique.append(dst)                    # добавим в список уникальных районов\n",
    "    return dst_unique                                     # Возвращение списка уникальных районов"
   ]
  },
  {
   "cell_type": "markdown",
   "id": "25d8e915",
   "metadata": {},
   "source": [
    "Применим эту функцию к топ-10 и посмотрим количество районов."
   ]
  },
  {
   "cell_type": "code",
   "execution_count": 70,
   "id": "ed6f8c80",
   "metadata": {},
   "outputs": [
    {
     "data": {
      "text/plain": [
       "38"
      ]
     },
     "metadata": {},
     "output_type": "display_data"
    }
   ],
   "source": [
    "top_dst = list_of_districts(top_st)                    # Применение функции для определения районов \n",
    "display(len(top_dst))                                  # Просмотр длины списка районов"
   ]
  },
  {
   "cell_type": "markdown",
   "id": "73f3d695",
   "metadata": {},
   "source": [
    "Получается, что улиц всего 10, но они проходят аж через 38 районов города. Посмотрим какие именно это районы."
   ]
  },
  {
   "cell_type": "code",
   "execution_count": 71,
   "id": "0a767ca4",
   "metadata": {},
   "outputs": [
    {
     "data": {
      "text/plain": [
       "['Мещанский район',\n",
       " 'Алексеевский район',\n",
       " 'район Марьина Роща',\n",
       " 'Останкинский район',\n",
       " 'район Ростокино',\n",
       " 'район Свиблово',\n",
       " 'Ярославский район',\n",
       " 'Академический район',\n",
       " 'район Коньково',\n",
       " 'Обручевский район',\n",
       " 'район Тёплый Стан',\n",
       " 'район Черёмушки',\n",
       " 'район Ясенево',\n",
       " 'район Аэропорт',\n",
       " 'район Беговой',\n",
       " 'район Сокол',\n",
       " 'Хорошёвский район',\n",
       " 'Пресненский район',\n",
       " 'Донской район',\n",
       " 'район Нагатино-Садовники',\n",
       " 'Нагорный район',\n",
       " 'район Чертаново Северное',\n",
       " 'район Чертаново Центральное',\n",
       " 'район Чертаново Южное',\n",
       " 'район Северное Бутово',\n",
       " 'район Южное Бутово',\n",
       " 'поселение Щербинка',\n",
       " 'район Якиманка',\n",
       " 'Гагаринский район',\n",
       " 'Ломоносовский район',\n",
       " 'район Проспект Вернадского',\n",
       " 'район Тропарёво-Никулино',\n",
       " 'район Раменки',\n",
       " 'район Дорогомилово',\n",
       " 'район Фили-Давыдково',\n",
       " 'район Москворечье-Сабурово',\n",
       " 'район Орехово-Борисово Северное',\n",
       " 'район Орехово-Борисово Южное']"
      ]
     },
     "metadata": {},
     "output_type": "display_data"
    }
   ],
   "source": [
    "display(top_dst)                 # Просмотр списка районов"
   ]
  },
  {
   "cell_type": "markdown",
   "id": "12e838c9",
   "metadata": {},
   "source": [
    "Таким образом, в результате анализа данных по самой большой плотности расположения объектов на одной улице были определены 38 районов с максимальной плотностью расположения заведений."
   ]
  },
  {
   "cell_type": "markdown",
   "id": "b41ed8ed",
   "metadata": {},
   "source": [
    "Предположим, что наибольшее количество заведений будет приходится на публичные места с высокой посещаемостью, например торговые центры. Выделим несколько адресов с наибольшим количеством объектов по ним."
   ]
  },
  {
   "cell_type": "code",
   "execution_count": 72,
   "id": "63737b4c",
   "metadata": {},
   "outputs": [
    {
     "name": "stdout",
     "output_type": "stream",
     "text": [
      "Обнаружено адресов с большой плотностью концентрации: 29\n"
     ]
    },
    {
     "data": {
      "text/html": [
       "<div>\n",
       "<style scoped>\n",
       "    .dataframe tbody tr th:only-of-type {\n",
       "        vertical-align: middle;\n",
       "    }\n",
       "\n",
       "    .dataframe tbody tr th {\n",
       "        vertical-align: top;\n",
       "    }\n",
       "\n",
       "    .dataframe thead th {\n",
       "        text-align: right;\n",
       "    }\n",
       "</style>\n",
       "<table border=\"1\" class=\"dataframe\">\n",
       "  <thead>\n",
       "    <tr style=\"text-align: right;\">\n",
       "      <th></th>\n",
       "      <th>address</th>\n",
       "      <th>id</th>\n",
       "    </tr>\n",
       "  </thead>\n",
       "  <tbody>\n",
       "    <tr>\n",
       "      <th>377</th>\n",
       "      <td>город Москва, Пресненская набережная, дом 2</td>\n",
       "      <td>63</td>\n",
       "    </tr>\n",
       "    <tr>\n",
       "      <th>542</th>\n",
       "      <td>город Москва, проспект Мира, дом 211, корпус 2</td>\n",
       "      <td>60</td>\n",
       "    </tr>\n",
       "    <tr>\n",
       "      <th>153</th>\n",
       "      <td>город Москва, Кировоградская улица, дом 13А</td>\n",
       "      <td>53</td>\n",
       "    </tr>\n",
       "    <tr>\n",
       "      <th>201</th>\n",
       "      <td>город Москва, Кутузовский проспект, дом 57</td>\n",
       "      <td>40</td>\n",
       "    </tr>\n",
       "    <tr>\n",
       "      <th>483</th>\n",
       "      <td>город Москва, проспект Вернадского, дом 6</td>\n",
       "      <td>30</td>\n",
       "    </tr>\n",
       "  </tbody>\n",
       "</table>\n",
       "</div>"
      ],
      "text/plain": [
       "                                            address  id\n",
       "377     город Москва, Пресненская набережная, дом 2  63\n",
       "542  город Москва, проспект Мира, дом 211, корпус 2  60\n",
       "153     город Москва, Кировоградская улица, дом 13А  53\n",
       "201      город Москва, Кутузовский проспект, дом 57  40\n",
       "483       город Москва, проспект Вернадского, дом 6  30"
      ]
     },
     "execution_count": 72,
     "metadata": {},
     "output_type": "execute_result"
    }
   ],
   "source": [
    "tst = list(top_st['street'])                          # Список в выделенными улицами\n",
    "top_places = (rest_df.query(                          # Подзапрос по объектам,\n",
    "    'street in @tst').groupby(                        # которые расположены на улицах из топ-списка \n",
    "    'address',as_index=False).agg(                    # с группировкой по адресу и определением количества заведений\n",
    "    {'id':'count'}).sort_values(                      # и сортировкой по убыванию количества\n",
    "    by='id',ascending=False)).query('id >= 10')                                   # в запросе с количеством мест больше 10\n",
    "print('Обнаружено адресов с большой плотностью концентрации:',len(top_places))    # Печать сообщения\n",
    "top_places.head()                                                                 # Первые 5 строк таблицы "
   ]
  },
  {
   "cell_type": "markdown",
   "id": "56cfaca0",
   "metadata": {},
   "source": [
    "Если воспользоваться внешним источником данных, то можно определить по адресу название некоего объекта по этому адресу:\n",
    "* <b>Пресненская набережная, дом 2</b>: (источник - https://2gis.ru/moscow/firm/4504127911986190?m=37.540006%2C55.749219%2F16) - <b>ТЦ Афимолл-сити</b>;\n",
    "* <b>проспект Мира, дом 211, корпус 2</b>: (источник - https://2gis.ru/moscow/firm/4504127909006279?m=37.659592%2C55.844858%2F16) - <b>ТЦ Европолис</b>;\n",
    "* <b>Кировоградская улица, дом 13А</b>: (источник - https://2gis.ru/moscow/search/%D0%BA%D0%B8%D1%80%D0%BE%D0%B2%D0%BE%D0%B3%D1%80%D0%B0%D0%B4%D1%81%D0%BA%D0%B0%D1%8F%2C%2013%D0%90/firm/70000001017816199/37.605341%2C55.612549?floor=2&m=37.607089%2C55.612166%2F17.64) - <b>ТРЦ COLUMBUS</b>;\n",
    "* <b>Кутузовский проспект, дом 57</b>: (источник - https://2gis.ru/moscow/search/%D0%BA%D1%83%D1%82%D1%83%D0%B7%D0%BE%D0%B2%D1%81%D0%BA%D0%B8%D0%B9%20%D0%BF%D1%80%D0%BE%D1%81%D0%BF%D0%B5%D0%BA%D1%82%2C%2057/firm/70000001024457467/37.476929%2C55.72754?floor=2&m=37.476798%2C55.72788%2F17.64) - <b>ТРЦ Океания</b>;\n",
    "* <b>проспект Вернадского, дом 6</b>: (источник - https://2gis.ru/moscow/firm/4504127909242452?floor=2&m=37.52763%2C55.692301%2F17.64) - <b>ТЦ Капитолий</b>."
   ]
  },
  {
   "cell_type": "markdown",
   "id": "5cee2984",
   "metadata": {},
   "source": [
    "Согласно полученному результату, предположение подтвердилось."
   ]
  },
  {
   "cell_type": "markdown",
   "id": "97150414",
   "metadata": {},
   "source": [
    "### Задание 8"
   ]
  },
  {
   "cell_type": "markdown",
   "id": "58ada265",
   "metadata": {},
   "source": [
    "<i>Найдите число улиц с одним объектом общественного питания. Воспользуйтесь внешней информацией и ответьте на вопрос — в каких районах Москвы находятся эти улицы?"
   ]
  },
  {
   "cell_type": "markdown",
   "id": "c941333d",
   "metadata": {},
   "source": [
    "Теперь выделим улицы, где был расположен всего один объект."
   ]
  },
  {
   "cell_type": "code",
   "execution_count": 73,
   "id": "3c298298",
   "metadata": {},
   "outputs": [
    {
     "data": {
      "text/plain": [
       "665"
      ]
     },
     "metadata": {},
     "output_type": "display_data"
    }
   ],
   "source": [
    "bottom_st = st_grouped[st_grouped['id']==1].reset_index(drop=True)     # Срез по улицам, где всего 1 объект\n",
    "display(len(bottom_st))                                                # Просмотр длины среза"
   ]
  },
  {
   "cell_type": "markdown",
   "id": "df6471db",
   "metadata": {},
   "source": [
    "Просмотрим первые 15 строк для ознакомления."
   ]
  },
  {
   "cell_type": "code",
   "execution_count": 74,
   "id": "c7bd86ad",
   "metadata": {},
   "outputs": [
    {
     "data": {
      "text/html": [
       "<div>\n",
       "<style scoped>\n",
       "    .dataframe tbody tr th:only-of-type {\n",
       "        vertical-align: middle;\n",
       "    }\n",
       "\n",
       "    .dataframe tbody tr th {\n",
       "        vertical-align: top;\n",
       "    }\n",
       "\n",
       "    .dataframe thead th {\n",
       "        text-align: right;\n",
       "    }\n",
       "</style>\n",
       "<table border=\"1\" class=\"dataframe\">\n",
       "  <thead>\n",
       "    <tr style=\"text-align: right;\">\n",
       "      <th></th>\n",
       "      <th>street</th>\n",
       "      <th>id</th>\n",
       "    </tr>\n",
       "  </thead>\n",
       "  <tbody>\n",
       "    <tr>\n",
       "      <th>0</th>\n",
       "      <td>42-й километр Московской Кольцевой Автодороги</td>\n",
       "      <td>1</td>\n",
       "    </tr>\n",
       "    <tr>\n",
       "      <th>1</th>\n",
       "      <td>26-й километр Московской Кольцевой Автодороги</td>\n",
       "      <td>1</td>\n",
       "    </tr>\n",
       "    <tr>\n",
       "      <th>2</th>\n",
       "      <td>улица Кутузова</td>\n",
       "      <td>1</td>\n",
       "    </tr>\n",
       "    <tr>\n",
       "      <th>3</th>\n",
       "      <td>Лосевская улица</td>\n",
       "      <td>1</td>\n",
       "    </tr>\n",
       "    <tr>\n",
       "      <th>4</th>\n",
       "      <td>3-й Дорожный проезд</td>\n",
       "      <td>1</td>\n",
       "    </tr>\n",
       "    <tr>\n",
       "      <th>5</th>\n",
       "      <td>2-я Сокольническая улица</td>\n",
       "      <td>1</td>\n",
       "    </tr>\n",
       "    <tr>\n",
       "      <th>6</th>\n",
       "      <td>улица Кубинка</td>\n",
       "      <td>1</td>\n",
       "    </tr>\n",
       "    <tr>\n",
       "      <th>7</th>\n",
       "      <td>улица Горького</td>\n",
       "      <td>1</td>\n",
       "    </tr>\n",
       "    <tr>\n",
       "      <th>8</th>\n",
       "      <td>3-й Кадашёвский переулок</td>\n",
       "      <td>1</td>\n",
       "    </tr>\n",
       "    <tr>\n",
       "      <th>9</th>\n",
       "      <td>3-й Кожуховский проезд</td>\n",
       "      <td>1</td>\n",
       "    </tr>\n",
       "    <tr>\n",
       "      <th>10</th>\n",
       "      <td>Проточный переулок</td>\n",
       "      <td>1</td>\n",
       "    </tr>\n",
       "    <tr>\n",
       "      <th>11</th>\n",
       "      <td>Парковая улица</td>\n",
       "      <td>1</td>\n",
       "    </tr>\n",
       "    <tr>\n",
       "      <th>12</th>\n",
       "      <td>улица Крутицкий Вал</td>\n",
       "      <td>1</td>\n",
       "    </tr>\n",
       "    <tr>\n",
       "      <th>13</th>\n",
       "      <td>Лужнецкий проезд</td>\n",
       "      <td>1</td>\n",
       "    </tr>\n",
       "    <tr>\n",
       "      <th>14</th>\n",
       "      <td>Пестовский переулок</td>\n",
       "      <td>1</td>\n",
       "    </tr>\n",
       "  </tbody>\n",
       "</table>\n",
       "</div>"
      ],
      "text/plain": [
       "                                           street  id\n",
       "0   42-й километр Московской Кольцевой Автодороги   1\n",
       "1   26-й километр Московской Кольцевой Автодороги   1\n",
       "2                                  улица Кутузова   1\n",
       "3                                 Лосевская улица   1\n",
       "4                             3-й Дорожный проезд   1\n",
       "5                        2-я Сокольническая улица   1\n",
       "6                                   улица Кубинка   1\n",
       "7                                  улица Горького   1\n",
       "8                        3-й Кадашёвский переулок   1\n",
       "9                          3-й Кожуховский проезд   1\n",
       "10                             Проточный переулок   1\n",
       "11                                 Парковая улица   1\n",
       "12                            улица Крутицкий Вал   1\n",
       "13                               Лужнецкий проезд   1\n",
       "14                            Пестовский переулок   1"
      ]
     },
     "execution_count": 74,
     "metadata": {},
     "output_type": "execute_result"
    }
   ],
   "source": [
    "bottom_st.head(15)                                   # Первые 15 строк"
   ]
  },
  {
   "cell_type": "markdown",
   "id": "88bb4abe",
   "metadata": {},
   "source": [
    "Применим имеющуюся функцию `define_district` для определения района Москвы и заполним значения округа по Зеленограду."
   ]
  },
  {
   "cell_type": "code",
   "execution_count": 75,
   "id": "ac9b6cff",
   "metadata": {},
   "outputs": [
    {
     "data": {
      "text/plain": [
       "665"
      ]
     },
     "metadata": {},
     "output_type": "display_data"
    }
   ],
   "source": [
    "bottom_st['districts'] = bottom_st['street'].apply(\n",
    "    lambda x: define_district(x))                          # Применение функции для определения районов\n",
    "zgrad_district(bottom_st)                                  # Заполнение по Зеленограду\n",
    "display(len(bottom_st))                                    # Просмотр датафрейма"
   ]
  },
  {
   "cell_type": "markdown",
   "id": "ae89e482",
   "metadata": {},
   "source": [
    "Посмотрим получившийся датафрейм по каждой 27 строке."
   ]
  },
  {
   "cell_type": "code",
   "execution_count": 76,
   "id": "39ccd5fd",
   "metadata": {},
   "outputs": [
    {
     "data": {
      "text/html": [
       "<div>\n",
       "<style scoped>\n",
       "    .dataframe tbody tr th:only-of-type {\n",
       "        vertical-align: middle;\n",
       "    }\n",
       "\n",
       "    .dataframe tbody tr th {\n",
       "        vertical-align: top;\n",
       "    }\n",
       "\n",
       "    .dataframe thead th {\n",
       "        text-align: right;\n",
       "    }\n",
       "</style>\n",
       "<table border=\"1\" class=\"dataframe\">\n",
       "  <thead>\n",
       "    <tr style=\"text-align: right;\">\n",
       "      <th></th>\n",
       "      <th>street</th>\n",
       "      <th>id</th>\n",
       "      <th>districts</th>\n",
       "    </tr>\n",
       "  </thead>\n",
       "  <tbody>\n",
       "    <tr>\n",
       "      <th>0</th>\n",
       "      <td>42-й километр Московской Кольцевой Автодороги</td>\n",
       "      <td>1</td>\n",
       "      <td>район Тёплый Стан</td>\n",
       "    </tr>\n",
       "    <tr>\n",
       "      <th>27</th>\n",
       "      <td>Парусный проезд</td>\n",
       "      <td>1</td>\n",
       "      <td>район Южное Тушино</td>\n",
       "    </tr>\n",
       "    <tr>\n",
       "      <th>54</th>\n",
       "      <td>3-я Черепковская улица</td>\n",
       "      <td>1</td>\n",
       "      <td>район Кунцево</td>\n",
       "    </tr>\n",
       "    <tr>\n",
       "      <th>81</th>\n",
       "      <td>улица Екатерины Будановой</td>\n",
       "      <td>1</td>\n",
       "      <td>район Кунцево</td>\n",
       "    </tr>\n",
       "    <tr>\n",
       "      <th>108</th>\n",
       "      <td>Платовская улица</td>\n",
       "      <td>1</td>\n",
       "      <td>район Дорогомилово</td>\n",
       "    </tr>\n",
       "    <tr>\n",
       "      <th>135</th>\n",
       "      <td>улица Старые Кузьминки</td>\n",
       "      <td>1</td>\n",
       "      <td>Не в Москве!</td>\n",
       "    </tr>\n",
       "    <tr>\n",
       "      <th>162</th>\n",
       "      <td>Миллионная улица</td>\n",
       "      <td>1</td>\n",
       "      <td>район Богородское</td>\n",
       "    </tr>\n",
       "    <tr>\n",
       "      <th>189</th>\n",
       "      <td>1-й Кожевнический переулок</td>\n",
       "      <td>1</td>\n",
       "      <td>Даниловский район</td>\n",
       "    </tr>\n",
       "    <tr>\n",
       "      <th>216</th>\n",
       "      <td>2-й Полевой переулок</td>\n",
       "      <td>1</td>\n",
       "      <td>район Сокольники</td>\n",
       "    </tr>\n",
       "    <tr>\n",
       "      <th>243</th>\n",
       "      <td>2-я Гражданская улица</td>\n",
       "      <td>1</td>\n",
       "      <td>район Богородское</td>\n",
       "    </tr>\n",
       "    <tr>\n",
       "      <th>270</th>\n",
       "      <td>улица Пржевальского</td>\n",
       "      <td>1</td>\n",
       "      <td>район Очаково-Матвеевское</td>\n",
       "    </tr>\n",
       "    <tr>\n",
       "      <th>297</th>\n",
       "      <td>Малый Путинковский переулок</td>\n",
       "      <td>1</td>\n",
       "      <td>Тверской район</td>\n",
       "    </tr>\n",
       "    <tr>\n",
       "      <th>324</th>\n",
       "      <td>город Зеленоград, корпус 163</td>\n",
       "      <td>1</td>\n",
       "      <td>Зеленоградский административный округ</td>\n",
       "    </tr>\n",
       "    <tr>\n",
       "      <th>351</th>\n",
       "      <td>город Зеленоград, корпус 426А</td>\n",
       "      <td>1</td>\n",
       "      <td>Зеленоградский административный округ</td>\n",
       "    </tr>\n",
       "    <tr>\n",
       "      <th>378</th>\n",
       "      <td>город Зеленоград, корпус 1816</td>\n",
       "      <td>1</td>\n",
       "      <td>Зеленоградский административный округ</td>\n",
       "    </tr>\n",
       "    <tr>\n",
       "      <th>405</th>\n",
       "      <td>Волоцкой переулок</td>\n",
       "      <td>1</td>\n",
       "      <td>район Митино</td>\n",
       "    </tr>\n",
       "    <tr>\n",
       "      <th>432</th>\n",
       "      <td>Хилков переулок</td>\n",
       "      <td>1</td>\n",
       "      <td>район Хамовники</td>\n",
       "    </tr>\n",
       "    <tr>\n",
       "      <th>459</th>\n",
       "      <td>Яузский бульвар</td>\n",
       "      <td>1</td>\n",
       "      <td>Таганский район</td>\n",
       "    </tr>\n",
       "    <tr>\n",
       "      <th>486</th>\n",
       "      <td>улица Академика Петровского</td>\n",
       "      <td>1</td>\n",
       "      <td>район Якиманка; Донской район</td>\n",
       "    </tr>\n",
       "    <tr>\n",
       "      <th>513</th>\n",
       "      <td>улица 9 Мая</td>\n",
       "      <td>1</td>\n",
       "      <td>район Восточный</td>\n",
       "    </tr>\n",
       "    <tr>\n",
       "      <th>540</th>\n",
       "      <td>6-я Кожуховская улица</td>\n",
       "      <td>1</td>\n",
       "      <td>Южнопортовый район</td>\n",
       "    </tr>\n",
       "    <tr>\n",
       "      <th>567</th>\n",
       "      <td>улица Бориса Жигулёнкова</td>\n",
       "      <td>1</td>\n",
       "      <td>район Соколиная Гора</td>\n",
       "    </tr>\n",
       "    <tr>\n",
       "      <th>594</th>\n",
       "      <td>поселение Михайлово-Ярцевское</td>\n",
       "      <td>1</td>\n",
       "      <td>Не в Москве!</td>\n",
       "    </tr>\n",
       "    <tr>\n",
       "      <th>621</th>\n",
       "      <td>Большая Ширяевская улица</td>\n",
       "      <td>1</td>\n",
       "      <td>район Сокольники</td>\n",
       "    </tr>\n",
       "    <tr>\n",
       "      <th>648</th>\n",
       "      <td>Средний Кондратьевский переулок</td>\n",
       "      <td>1</td>\n",
       "      <td>Пресненский район</td>\n",
       "    </tr>\n",
       "  </tbody>\n",
       "</table>\n",
       "</div>"
      ],
      "text/plain": [
       "                                            street  id  \\\n",
       "0    42-й километр Московской Кольцевой Автодороги   1   \n",
       "27                                 Парусный проезд   1   \n",
       "54                          3-я Черепковская улица   1   \n",
       "81                       улица Екатерины Будановой   1   \n",
       "108                               Платовская улица   1   \n",
       "135                         улица Старые Кузьминки   1   \n",
       "162                               Миллионная улица   1   \n",
       "189                     1-й Кожевнический переулок   1   \n",
       "216                           2-й Полевой переулок   1   \n",
       "243                          2-я Гражданская улица   1   \n",
       "270                            улица Пржевальского   1   \n",
       "297                    Малый Путинковский переулок   1   \n",
       "324                   город Зеленоград, корпус 163   1   \n",
       "351                  город Зеленоград, корпус 426А   1   \n",
       "378                  город Зеленоград, корпус 1816   1   \n",
       "405                              Волоцкой переулок   1   \n",
       "432                                Хилков переулок   1   \n",
       "459                                Яузский бульвар   1   \n",
       "486                    улица Академика Петровского   1   \n",
       "513                                    улица 9 Мая   1   \n",
       "540                          6-я Кожуховская улица   1   \n",
       "567                       улица Бориса Жигулёнкова   1   \n",
       "594                  поселение Михайлово-Ярцевское   1   \n",
       "621                       Большая Ширяевская улица   1   \n",
       "648                Средний Кондратьевский переулок   1   \n",
       "\n",
       "                                 districts  \n",
       "0                        район Тёплый Стан  \n",
       "27                      район Южное Тушино  \n",
       "54                           район Кунцево  \n",
       "81                           район Кунцево  \n",
       "108                     район Дорогомилово  \n",
       "135                           Не в Москве!  \n",
       "162                      район Богородское  \n",
       "189                      Даниловский район  \n",
       "216                       район Сокольники  \n",
       "243                      район Богородское  \n",
       "270              район Очаково-Матвеевское  \n",
       "297                         Тверской район  \n",
       "324  Зеленоградский административный округ  \n",
       "351  Зеленоградский административный округ  \n",
       "378  Зеленоградский административный округ  \n",
       "405                           район Митино  \n",
       "432                        район Хамовники  \n",
       "459                        Таганский район  \n",
       "486          район Якиманка; Донской район  \n",
       "513                        район Восточный  \n",
       "540                     Южнопортовый район  \n",
       "567                   район Соколиная Гора  \n",
       "594                           Не в Москве!  \n",
       "621                       район Сокольники  \n",
       "648                      Пресненский район  "
      ]
     },
     "execution_count": 76,
     "metadata": {},
     "output_type": "execute_result"
    }
   ],
   "source": [
    "bottom_st[::27]                                  # Просмотр среза по каждой 27 строке"
   ]
  },
  {
   "cell_type": "markdown",
   "id": "e0e6e167",
   "metadata": {},
   "source": [
    "Из-за специфики архитектуры Зеленограда уберем ЗАО из результатов запроса."
   ]
  },
  {
   "cell_type": "code",
   "execution_count": 77,
   "id": "a1107b2f",
   "metadata": {},
   "outputs": [
    {
     "data": {
      "text/plain": [
       "575"
      ]
     },
     "metadata": {},
     "output_type": "display_data"
    }
   ],
   "source": [
    "not_zg = bottom_st.query('districts != @zgrad_area')         # Запрос по всем районам, кроме ЗАО\n",
    "display(len(not_zg))                                         # Просмотр длины массива"
   ]
  },
  {
   "cell_type": "markdown",
   "id": "a85feaee",
   "metadata": {},
   "source": [
    "После применения следует проверить датафрейм на наличие контрольной строки, которая позволит узнать, находится ли объект в Москве или нет."
   ]
  },
  {
   "cell_type": "code",
   "execution_count": 78,
   "id": "8c32c43a",
   "metadata": {},
   "outputs": [
    {
     "data": {
      "text/plain": [
       "18"
      ]
     },
     "metadata": {},
     "output_type": "display_data"
    }
   ],
   "source": [
    "not_msk = not_zg.query('\"Не в Москве!\" in districts')            # Проверка улиц на присутствие в Москве\n",
    "display(len(not_msk))                                            # Просмотр длины запроса"
   ]
  },
  {
   "cell_type": "markdown",
   "id": "4a0e9a58",
   "metadata": {},
   "source": [
    "Всего обнаружено 18 улиц, отсутствующих в справочнике. Сформируем датафрейм по той же контрольной строке."
   ]
  },
  {
   "cell_type": "code",
   "execution_count": 79,
   "id": "0368dcd6",
   "metadata": {},
   "outputs": [
    {
     "data": {
      "text/plain": [
       "557"
      ]
     },
     "metadata": {},
     "output_type": "display_data"
    }
   ],
   "source": [
    "msk_bottom = not_zg.query(\n",
    "    '\"Не в Москве!\" not in districts').reset_index(drop=True)      # Датафрейм по срезу непопулярных улиц в Москве\n",
    "display(len(msk_bottom))                                           # Просмотр длины запроса"
   ]
  },
  {
   "cell_type": "markdown",
   "id": "cea6b78c",
   "metadata": {},
   "source": [
    "Проверим на соответствие размеров двух запросов по их сумме размеру основного среза. "
   ]
  },
  {
   "cell_type": "code",
   "execution_count": 80,
   "id": "ae2c7a4a",
   "metadata": {},
   "outputs": [
    {
     "data": {
      "text/plain": [
       "575"
      ]
     },
     "metadata": {},
     "output_type": "display_data"
    }
   ],
   "source": [
    "check_size = len(not_msk) + len(msk_bottom)        # Сумма размеров двух запросов должна быть равна длине основного среза\n",
    "display(check_size)                                # Просмотр суммы размеров"
   ]
  },
  {
   "cell_type": "markdown",
   "id": "32c7c103",
   "metadata": {},
   "source": [
    "Сумма размеров соответствует размеру основного среза. Переходим к формированию списка районов, но перед этим посмотрим последние строки запроса по непопулярным улицам Москвы."
   ]
  },
  {
   "cell_type": "code",
   "execution_count": 81,
   "id": "5fb9ad5a",
   "metadata": {},
   "outputs": [
    {
     "data": {
      "text/html": [
       "<div>\n",
       "<style scoped>\n",
       "    .dataframe tbody tr th:only-of-type {\n",
       "        vertical-align: middle;\n",
       "    }\n",
       "\n",
       "    .dataframe tbody tr th {\n",
       "        vertical-align: top;\n",
       "    }\n",
       "\n",
       "    .dataframe thead th {\n",
       "        text-align: right;\n",
       "    }\n",
       "</style>\n",
       "<table border=\"1\" class=\"dataframe\">\n",
       "  <thead>\n",
       "    <tr style=\"text-align: right;\">\n",
       "      <th></th>\n",
       "      <th>street</th>\n",
       "      <th>id</th>\n",
       "      <th>districts</th>\n",
       "    </tr>\n",
       "  </thead>\n",
       "  <tbody>\n",
       "    <tr>\n",
       "      <th>547</th>\n",
       "      <td>Жуков проезд</td>\n",
       "      <td>1</td>\n",
       "      <td>район Замоскворечье; Даниловский район</td>\n",
       "    </tr>\n",
       "    <tr>\n",
       "      <th>548</th>\n",
       "      <td>Зарайская улица</td>\n",
       "      <td>1</td>\n",
       "      <td>Рязанский район</td>\n",
       "    </tr>\n",
       "    <tr>\n",
       "      <th>549</th>\n",
       "      <td>Спартаковский переулок</td>\n",
       "      <td>1</td>\n",
       "      <td>Басманный район</td>\n",
       "    </tr>\n",
       "    <tr>\n",
       "      <th>550</th>\n",
       "      <td>Союзный проспект</td>\n",
       "      <td>1</td>\n",
       "      <td>район Новогиреево</td>\n",
       "    </tr>\n",
       "    <tr>\n",
       "      <th>551</th>\n",
       "      <td>Заводской проезд</td>\n",
       "      <td>1</td>\n",
       "      <td>район Измайлово</td>\n",
       "    </tr>\n",
       "    <tr>\n",
       "      <th>552</th>\n",
       "      <td>Большая Внуковская улица</td>\n",
       "      <td>1</td>\n",
       "      <td>район Внуково</td>\n",
       "    </tr>\n",
       "    <tr>\n",
       "      <th>553</th>\n",
       "      <td>Большая Бутовская улица</td>\n",
       "      <td>1</td>\n",
       "      <td>район Южное Бутово</td>\n",
       "    </tr>\n",
       "    <tr>\n",
       "      <th>554</th>\n",
       "      <td>Сормовский проезд</td>\n",
       "      <td>1</td>\n",
       "      <td>район Выхино-Жулебино</td>\n",
       "    </tr>\n",
       "    <tr>\n",
       "      <th>555</th>\n",
       "      <td>проезд Донелайтиса</td>\n",
       "      <td>1</td>\n",
       "      <td>район Южное Тушино</td>\n",
       "    </tr>\n",
       "    <tr>\n",
       "      <th>556</th>\n",
       "      <td>проезд Досфлота</td>\n",
       "      <td>1</td>\n",
       "      <td>район Южное Тушино</td>\n",
       "    </tr>\n",
       "  </tbody>\n",
       "</table>\n",
       "</div>"
      ],
      "text/plain": [
       "                       street  id                               districts\n",
       "547              Жуков проезд   1  район Замоскворечье; Даниловский район\n",
       "548           Зарайская улица   1                         Рязанский район\n",
       "549    Спартаковский переулок   1                         Басманный район\n",
       "550          Союзный проспект   1                       район Новогиреево\n",
       "551          Заводской проезд   1                         район Измайлово\n",
       "552  Большая Внуковская улица   1                           район Внуково\n",
       "553   Большая Бутовская улица   1                      район Южное Бутово\n",
       "554         Сормовский проезд   1                   район Выхино-Жулебино\n",
       "555        проезд Донелайтиса   1                      район Южное Тушино\n",
       "556           проезд Досфлота   1                      район Южное Тушино"
      ]
     },
     "execution_count": 81,
     "metadata": {},
     "output_type": "execute_result"
    }
   ],
   "source": [
    "msk_bottom.tail(10)                 # Просмотр последних 10 строк"
   ]
  },
  {
   "cell_type": "markdown",
   "id": "5e7c4c55",
   "metadata": {},
   "source": [
    "Районы добавлены в датафрейм, можно переходить к формированию списка районов с непопулярными улицами. "
   ]
  },
  {
   "cell_type": "code",
   "execution_count": 82,
   "id": "e9ab6586",
   "metadata": {},
   "outputs": [
    {
     "data": {
      "text/plain": [
       "117"
      ]
     },
     "metadata": {},
     "output_type": "display_data"
    }
   ],
   "source": [
    "bottom_dst = list_of_districts(msk_bottom)             # Применение функции\n",
    "display(len(bottom_dst))                               # Просмотр длины списка"
   ]
  },
  {
   "cell_type": "markdown",
   "id": "f345a01c",
   "metadata": {},
   "source": [
    "Итого из всех районов Москвы в список с непопулярными улицами попали 117 районов. Поскольку ранее мы определили список районов с наибольшей плотностью расположения заведений длиной в 38 позиций, скорее всего, произошло пересечение районов с неравномерной плотностью размещения объектов по территории. Это значит, что можно выделить как список районов с неравномерным распределением, так и районы с низкой плотностью размещения. Начнем с выделения районов по наибольшей плотности размещения заведений."
   ]
  },
  {
   "cell_type": "code",
   "execution_count": 83,
   "id": "609aa0cb",
   "metadata": {},
   "outputs": [
    {
     "data": {
      "text/plain": [
       "['Академический район',\n",
       " 'район Нагатино-Садовники',\n",
       " 'район Чертаново Центральное',\n",
       " 'район Чертаново Южное',\n",
       " 'Ломоносовский район',\n",
       " 'район Проспект Вернадского',\n",
       " 'район Тропарёво-Никулино',\n",
       " 'район Орехово-Борисово Северное',\n",
       " 'район Орехово-Борисово Южное']"
      ]
     },
     "metadata": {},
     "output_type": "display_data"
    },
    {
     "data": {
      "text/plain": [
       "'Обнаружено популярных районов: 9'"
      ]
     },
     "metadata": {},
     "output_type": "display_data"
    }
   ],
   "source": [
    "high_pop = []                                             # Список районов с высокой плотностью размещения\n",
    "for dst in top_dst:                                       # Цикл по списку топов    \n",
    "    if dst not in bottom_dst:                             # Если района нет в списке районов, то\n",
    "        high_pop.append(dst)                              # добавим его в список с высокой плотностью\n",
    "display(high_pop)                                                     # Просмотр списка\n",
    "display(\"Обнаружено популярных районов: {}\".format(len(high_pop)))    # Печать сообщения с количеством районов в нем"
   ]
  },
  {
   "cell_type": "markdown",
   "id": "77c12c06",
   "metadata": {},
   "source": [
    "Теперь выделим районы с неравномерной плотностью размещения, то есть там, где улицы с очень большим количеством заведений и одновременно с улицами, где таковых на одной улице мало."
   ]
  },
  {
   "cell_type": "code",
   "execution_count": 84,
   "id": "29c20dd5",
   "metadata": {},
   "outputs": [
    {
     "data": {
      "text/plain": [
       "['Мещанский район',\n",
       " 'Алексеевский район',\n",
       " 'район Марьина Роща',\n",
       " 'Останкинский район',\n",
       " 'район Ростокино',\n",
       " 'район Свиблово',\n",
       " 'Ярославский район',\n",
       " 'район Коньково',\n",
       " 'Обручевский район',\n",
       " 'район Тёплый Стан',\n",
       " 'район Черёмушки',\n",
       " 'район Ясенево',\n",
       " 'район Аэропорт',\n",
       " 'район Беговой',\n",
       " 'район Сокол',\n",
       " 'Хорошёвский район',\n",
       " 'Пресненский район',\n",
       " 'Донской район',\n",
       " 'Нагорный район',\n",
       " 'район Чертаново Северное',\n",
       " 'район Северное Бутово',\n",
       " 'район Южное Бутово',\n",
       " 'поселение Щербинка',\n",
       " 'район Якиманка',\n",
       " 'Гагаринский район',\n",
       " 'район Раменки',\n",
       " 'район Дорогомилово',\n",
       " 'район Фили-Давыдково',\n",
       " 'район Москворечье-Сабурово']"
      ]
     },
     "metadata": {},
     "output_type": "display_data"
    },
    {
     "name": "stdout",
     "output_type": "stream",
     "text": [
      "Обнаружено районов с неравномерным распределением: 29\n"
     ]
    }
   ],
   "source": [
    "irreg_pop = []                                                  # Список районов с неравномерной плотностью размещения\n",
    "for dst in top_dst:                                             # Цикл по списку топов    \n",
    "    if dst in bottom_dst:                                       # Если район находится в списке непопулярных, то\n",
    "        irreg_pop.append(dst)                                   # добавим его в список с неравномерной плотностью\n",
    "display(irreg_pop)                                              # Просмотр списка\n",
    "print(\"Обнаружено районов с неравномерным распределением:\", \n",
    "      len(irreg_pop))                                           # Печать сообщения с количеством районов в нем"
   ]
  },
  {
   "cell_type": "markdown",
   "id": "d51ee253",
   "metadata": {},
   "source": [
    "И, наконец, список на низкой плотностью размещения заведений."
   ]
  },
  {
   "cell_type": "code",
   "execution_count": 85,
   "id": "c9638b68",
   "metadata": {},
   "outputs": [
    {
     "data": {
      "text/plain": [
       "['район Бирюлёво Восточное',\n",
       " 'Можайский район',\n",
       " 'поселение Кокошкино',\n",
       " 'район Сокольники',\n",
       " 'поселение Внуковское',\n",
       " 'Южнопортовый район',\n",
       " 'район Арбат',\n",
       " 'район Ново-Переделкино',\n",
       " 'район Хамовники',\n",
       " 'Таганский район',\n",
       " 'район Замоскворечье',\n",
       " 'Головинский район',\n",
       " 'Даниловский район',\n",
       " 'район Печатники',\n",
       " 'район Перово',\n",
       " 'район Некрасовка',\n",
       " 'район Южное Тушино',\n",
       " 'район Митино',\n",
       " 'район Лефортово',\n",
       " 'Тимирязевский район',\n",
       " 'район Западное Дегунино',\n",
       " 'район Соколиная Гора',\n",
       " 'район Щукино',\n",
       " 'Бутырский район',\n",
       " 'район Преображенское',\n",
       " 'район Филёвский Парк',\n",
       " 'Нижегородский район',\n",
       " 'район Кунцево',\n",
       " 'Савёловский район',\n",
       " 'район Капотня',\n",
       " 'район Лианозово',\n",
       " 'Молжаниновский район',\n",
       " 'район Отрадное',\n",
       " 'Рязанский район',\n",
       " 'Тверской район',\n",
       " 'район Северный',\n",
       " 'Басманный район',\n",
       " 'район Бирюлёво Западное',\n",
       " 'район Левобережный',\n",
       " 'поселение Щаповское',\n",
       " 'район Гольяново',\n",
       " 'район Выхино-Жулебино',\n",
       " 'район Кузьминки',\n",
       " 'район Богородское',\n",
       " 'Бабушкинский район',\n",
       " 'район Внуково',\n",
       " 'район Ивановское',\n",
       " 'район Косино-Ухтомский',\n",
       " 'поселение Десеновское',\n",
       " 'район Солнцево',\n",
       " 'район Хорошёво-Мнёвники',\n",
       " 'район Марьино',\n",
       " 'район Куркино',\n",
       " 'поселение Троицк',\n",
       " 'район Измайлово',\n",
       " 'поселение Рязановское',\n",
       " 'район Покровское-Стрешнево',\n",
       " 'район Люблино',\n",
       " 'район Текстильщики',\n",
       " 'район Котловка',\n",
       " 'Лосиноостровский район',\n",
       " 'поселение Новофедоровское',\n",
       " 'Войковский район',\n",
       " 'район Коптево',\n",
       " 'Красносельский район',\n",
       " 'район Строгино',\n",
       " 'район Савёлки',\n",
       " 'район Старое Крюково',\n",
       " 'поселение Московский',\n",
       " 'район Царицыно',\n",
       " 'район Восточное Измайлово',\n",
       " 'поселение Сосенское',\n",
       " 'район Северное Измайлово',\n",
       " 'район Очаково-Матвеевское',\n",
       " 'поселение Вороновское',\n",
       " 'район Матушкино',\n",
       " 'район Северное Медведково',\n",
       " 'район Южное Медведково',\n",
       " 'район Зюзино',\n",
       " 'Дмитровский район',\n",
       " 'район Новогиреево',\n",
       " 'поселение Воскресенское',\n",
       " 'поселение \"Мосрентген\"',\n",
       " 'район Марфино',\n",
       " 'район Восточный',\n",
       " 'район Крюково',\n",
       " 'Алтуфьевский район',\n",
       " 'Бескудниковский район']"
      ]
     },
     "metadata": {},
     "output_type": "display_data"
    },
    {
     "data": {
      "text/plain": [
       "'Обнаружено непопулярных районов: 88'"
      ]
     },
     "metadata": {},
     "output_type": "display_data"
    }
   ],
   "source": [
    "low_pop = []                                               # Список районов с низкой плотностью размещения\n",
    "for dst in bottom_dst:                                     # Цикл по списку непопулярных    \n",
    "    if dst not in top_dst:                                 # Если район не находится в списке популярных, то\n",
    "        low_pop.append(dst)                                # добавим его в список с низкой плотностью\n",
    "display(low_pop)                                                      # Просмотр списка\n",
    "display(\"Обнаружено непопулярных районов: {}\".format(len(low_pop)))   # Печать сообщения с количеством незатронутых районов"
   ]
  },
  {
   "cell_type": "markdown",
   "id": "28b31862",
   "metadata": {},
   "source": [
    "Чтобы выделить районы с улицами, где есть всего один объект, применим группировку с запросом по улице."
   ]
  },
  {
   "cell_type": "code",
   "execution_count": 86,
   "id": "e0e700f2",
   "metadata": {},
   "outputs": [
    {
     "data": {
      "text/html": [
       "<div>\n",
       "<style scoped>\n",
       "    .dataframe tbody tr th:only-of-type {\n",
       "        vertical-align: middle;\n",
       "    }\n",
       "\n",
       "    .dataframe tbody tr th {\n",
       "        vertical-align: top;\n",
       "    }\n",
       "\n",
       "    .dataframe thead th {\n",
       "        text-align: right;\n",
       "    }\n",
       "</style>\n",
       "<table border=\"1\" class=\"dataframe\">\n",
       "  <thead>\n",
       "    <tr style=\"text-align: right;\">\n",
       "      <th></th>\n",
       "      <th>districts</th>\n",
       "      <th>street</th>\n",
       "    </tr>\n",
       "  </thead>\n",
       "  <tbody>\n",
       "    <tr>\n",
       "      <th>119</th>\n",
       "      <td>район Северное Бутово; район Ясенево</td>\n",
       "      <td>1</td>\n",
       "    </tr>\n",
       "    <tr>\n",
       "      <th>50</th>\n",
       "      <td>поселение Рязановское</td>\n",
       "      <td>1</td>\n",
       "    </tr>\n",
       "    <tr>\n",
       "      <th>109</th>\n",
       "      <td>район Перово; район Соколиная Гора</td>\n",
       "      <td>1</td>\n",
       "    </tr>\n",
       "    <tr>\n",
       "      <th>21</th>\n",
       "      <td>Мещанский район; район Марьина Роща</td>\n",
       "      <td>1</td>\n",
       "    </tr>\n",
       "    <tr>\n",
       "      <th>146</th>\n",
       "      <td>район Якиманка; Донской район</td>\n",
       "      <td>1</td>\n",
       "    </tr>\n",
       "    <tr>\n",
       "      <th>1</th>\n",
       "      <td>Алтуфьевский район</td>\n",
       "      <td>1</td>\n",
       "    </tr>\n",
       "    <tr>\n",
       "      <th>67</th>\n",
       "      <td>район Восточное Измайлово; район Измайлово; ра...</td>\n",
       "      <td>1</td>\n",
       "    </tr>\n",
       "    <tr>\n",
       "      <th>59</th>\n",
       "      <td>район Аэропорт; район Сокол</td>\n",
       "      <td>1</td>\n",
       "    </tr>\n",
       "    <tr>\n",
       "      <th>53</th>\n",
       "      <td>поселение Щаповское</td>\n",
       "      <td>1</td>\n",
       "    </tr>\n",
       "    <tr>\n",
       "      <th>105</th>\n",
       "      <td>район Новогиреево; район Перово</td>\n",
       "      <td>1</td>\n",
       "    </tr>\n",
       "    <tr>\n",
       "      <th>9</th>\n",
       "      <td>Войковский район; Головинский район; район Коп...</td>\n",
       "      <td>1</td>\n",
       "    </tr>\n",
       "    <tr>\n",
       "      <th>90</th>\n",
       "      <td>район Куркино</td>\n",
       "      <td>1</td>\n",
       "    </tr>\n",
       "    <tr>\n",
       "      <th>23</th>\n",
       "      <td>Можайский район; район Очаково-Матвеевское</td>\n",
       "      <td>1</td>\n",
       "    </tr>\n",
       "  </tbody>\n",
       "</table>\n",
       "</div>"
      ],
      "text/plain": [
       "                                             districts  street\n",
       "119               район Северное Бутово; район Ясенево       1\n",
       "50                               поселение Рязановское       1\n",
       "109                 район Перово; район Соколиная Гора       1\n",
       "21                 Мещанский район; район Марьина Роща       1\n",
       "146                      район Якиманка; Донской район       1\n",
       "1                                   Алтуфьевский район       1\n",
       "67   район Восточное Измайлово; район Измайлово; ра...       1\n",
       "59                         район Аэропорт; район Сокол       1\n",
       "53                                 поселение Щаповское       1\n",
       "105                    район Новогиреево; район Перово       1\n",
       "9    Войковский район; Головинский район; район Коп...       1\n",
       "90                                       район Куркино       1\n",
       "23          Можайский район; район Очаково-Матвеевское       1"
      ]
     },
     "execution_count": 86,
     "metadata": {},
     "output_type": "execute_result"
    }
   ],
   "source": [
    "bottom_dst = (msk_bottom.groupby('districts',as_index=False).agg(         # Группировка по районам,\n",
    "    {'street':'count'}).sort_values(                                      # где есть улицы всего с одним объектом\n",
    "    by='street',ascending=False)).query('street == 1')                    \n",
    "bottom_dst[::5]                                                  # Просмотр каждой 5 строки"
   ]
  },
  {
   "cell_type": "markdown",
   "id": "cd7e3f10",
   "metadata": {},
   "source": [
    "Поскольку в таблицу попали улицы с пересечениями районов, сформируем столбец с выделением наименований районов в список, затем определим его длину и выделим те, где нет пересечений (то есть всего одна улица с одним объектом). "
   ]
  },
  {
   "cell_type": "code",
   "execution_count": 87,
   "id": "2daaa6c2",
   "metadata": {},
   "outputs": [
    {
     "data": {
      "text/html": [
       "<div>\n",
       "<style scoped>\n",
       "    .dataframe tbody tr th:only-of-type {\n",
       "        vertical-align: middle;\n",
       "    }\n",
       "\n",
       "    .dataframe tbody tr th {\n",
       "        vertical-align: top;\n",
       "    }\n",
       "\n",
       "    .dataframe thead th {\n",
       "        text-align: right;\n",
       "    }\n",
       "</style>\n",
       "<table border=\"1\" class=\"dataframe\">\n",
       "  <thead>\n",
       "    <tr style=\"text-align: right;\">\n",
       "      <th></th>\n",
       "      <th>districts</th>\n",
       "      <th>street</th>\n",
       "      <th>district_listed</th>\n",
       "      <th>count_dst</th>\n",
       "    </tr>\n",
       "  </thead>\n",
       "  <tbody>\n",
       "    <tr>\n",
       "      <th>119</th>\n",
       "      <td>район Северное Бутово; район Ясенево</td>\n",
       "      <td>1</td>\n",
       "      <td>[район Северное Бутово, район Ясенево]</td>\n",
       "      <td>2</td>\n",
       "    </tr>\n",
       "    <tr>\n",
       "      <th>109</th>\n",
       "      <td>район Перово; район Соколиная Гора</td>\n",
       "      <td>1</td>\n",
       "      <td>[район Перово, район Соколиная Гора]</td>\n",
       "      <td>2</td>\n",
       "    </tr>\n",
       "    <tr>\n",
       "      <th>146</th>\n",
       "      <td>район Якиманка; Донской район</td>\n",
       "      <td>1</td>\n",
       "      <td>[район Якиманка, Донской район]</td>\n",
       "      <td>2</td>\n",
       "    </tr>\n",
       "    <tr>\n",
       "      <th>67</th>\n",
       "      <td>район Восточное Измайлово; район Измайлово; ра...</td>\n",
       "      <td>1</td>\n",
       "      <td>[район Восточное Измайлово, район Измайлово, р...</td>\n",
       "      <td>3</td>\n",
       "    </tr>\n",
       "    <tr>\n",
       "      <th>53</th>\n",
       "      <td>поселение Щаповское</td>\n",
       "      <td>1</td>\n",
       "      <td>[поселение Щаповское]</td>\n",
       "      <td>1</td>\n",
       "    </tr>\n",
       "    <tr>\n",
       "      <th>9</th>\n",
       "      <td>Войковский район; Головинский район; район Коп...</td>\n",
       "      <td>1</td>\n",
       "      <td>[Войковский район, Головинский район, район Ко...</td>\n",
       "      <td>3</td>\n",
       "    </tr>\n",
       "    <tr>\n",
       "      <th>23</th>\n",
       "      <td>Можайский район; район Очаково-Матвеевское</td>\n",
       "      <td>1</td>\n",
       "      <td>[Можайский район, район Очаково-Матвеевское]</td>\n",
       "      <td>2</td>\n",
       "    </tr>\n",
       "  </tbody>\n",
       "</table>\n",
       "</div>"
      ],
      "text/plain": [
       "                                             districts  street  \\\n",
       "119               район Северное Бутово; район Ясенево       1   \n",
       "109                 район Перово; район Соколиная Гора       1   \n",
       "146                      район Якиманка; Донской район       1   \n",
       "67   район Восточное Измайлово; район Измайлово; ра...       1   \n",
       "53                                 поселение Щаповское       1   \n",
       "9    Войковский район; Головинский район; район Коп...       1   \n",
       "23          Можайский район; район Очаково-Матвеевское       1   \n",
       "\n",
       "                                       district_listed  count_dst  \n",
       "119             [район Северное Бутово, район Ясенево]          2  \n",
       "109               [район Перово, район Соколиная Гора]          2  \n",
       "146                    [район Якиманка, Донской район]          2  \n",
       "67   [район Восточное Измайлово, район Измайлово, р...          3  \n",
       "53                               [поселение Щаповское]          1  \n",
       "9    [Войковский район, Головинский район, район Ко...          3  \n",
       "23        [Можайский район, район Очаково-Матвеевское]          2  "
      ]
     },
     "execution_count": 87,
     "metadata": {},
     "output_type": "execute_result"
    }
   ],
   "source": [
    "bottom_dst['district_listed'] = bottom_dst['districts'].apply(\n",
    "    lambda x: x.split('; '))                                      # Новый столбец со списком районов\n",
    "bottom_dst['count_dst'] = bottom_dst['district_listed'].apply(\n",
    "    lambda x: len(x))                                             # И еще один с количеством районов в предыдущем столбце\n",
    "bottom_dst[::10]                                                  # Просмотр каждой 10-й строки"
   ]
  },
  {
   "cell_type": "markdown",
   "id": "7f502eb3",
   "metadata": {},
   "source": [
    "А теперь выделим список оставшихся районов."
   ]
  },
  {
   "cell_type": "code",
   "execution_count": 88,
   "id": "0706bbb8",
   "metadata": {},
   "outputs": [
    {
     "data": {
      "text/plain": [
       "'Обнаружено районов с улицами, где всего один объект: 31'"
      ]
     },
     "metadata": {},
     "output_type": "display_data"
    },
    {
     "data": {
      "text/plain": [
       "['поселение Рязановское',\n",
       " 'район Северное Измайлово',\n",
       " 'район Старое Крюково',\n",
       " 'район Тёплый Стан',\n",
       " 'район Филёвский Парк',\n",
       " 'район Чертаново Северное',\n",
       " 'район Перово',\n",
       " 'поселение Вороновское',\n",
       " 'Алтуфьевский район',\n",
       " 'поселение \"Мосрентген\"',\n",
       " 'район Восточный',\n",
       " 'район Восточное Измайлово',\n",
       " 'район Очаково-Матвеевское',\n",
       " 'поселение Воскресенское',\n",
       " 'поселение Кокошкино',\n",
       " 'поселение Московский',\n",
       " 'поселение Щербинка',\n",
       " 'поселение Щаповское',\n",
       " 'район Ивановское',\n",
       " 'район Капотня',\n",
       " 'район Коньково',\n",
       " 'район Москворечье-Сабурово',\n",
       " 'район Марьино',\n",
       " 'Войковский район',\n",
       " 'район Марфино',\n",
       " 'район Лианозово',\n",
       " 'Гагаринский район',\n",
       " 'район Левобережный',\n",
       " 'район Куркино',\n",
       " 'район Крюково',\n",
       " 'Молжаниновский район']"
      ]
     },
     "metadata": {},
     "output_type": "display_data"
    }
   ],
   "source": [
    "low_pop_dst = list(bottom_dst[bottom_dst['count_dst'] == 1]['districts'])           # Список районов\n",
    "display('Обнаружено районов с улицами, где всего один объект: {}'.format(\n",
    "                                                                  len(low_pop_dst)))      # Печать сообщения\n",
    "display(low_pop_dst)                                                                      # Просмотр списка"
   ]
  },
  {
   "cell_type": "markdown",
   "id": "86167493",
   "metadata": {},
   "source": [
    "Предположим, что в этих районах находятся заведения, которые не являются самыми популярными по причине расположения среди малонаселенных улиц или специфических заведений для питания каких-либо категорий лиц (например, школьный буфет). Выделим улицы по районам и для исследования выберем каждую шестую строку с улицей."
   ]
  },
  {
   "cell_type": "code",
   "execution_count": 89,
   "id": "289f41b8",
   "metadata": {},
   "outputs": [
    {
     "data": {
      "text/plain": [
       "['42-й километр Московской Кольцевой Автодороги',\n",
       " '3-я Подрезковская улица',\n",
       " 'Ландышевая улица',\n",
       " '14-я Парковая улица',\n",
       " 'Институтский проезд',\n",
       " 'Солнечная аллея']"
      ]
     },
     "metadata": {},
     "output_type": "display_data"
    }
   ],
   "source": [
    "bottom_strt = msk_bottom.query('districts in @low_pop_dst')      # Запрос по адресам в районе\n",
    "sel_bottom = list(bottom_strt['street'][::6])                    # Срез улиц по каждой 6-й строке\n",
    "display(sel_bottom)                                              # Просмотр результата"
   ]
  },
  {
   "cell_type": "markdown",
   "id": "8aab7a6a",
   "metadata": {},
   "source": [
    "Извлечем из основой базы по выбранному списку улиц информацию по объектам питания."
   ]
  },
  {
   "cell_type": "code",
   "execution_count": 90,
   "id": "5cd5ca49",
   "metadata": {},
   "outputs": [
    {
     "data": {
      "text/html": [
       "<div>\n",
       "<style scoped>\n",
       "    .dataframe tbody tr th:only-of-type {\n",
       "        vertical-align: middle;\n",
       "    }\n",
       "\n",
       "    .dataframe tbody tr th {\n",
       "        vertical-align: top;\n",
       "    }\n",
       "\n",
       "    .dataframe thead th {\n",
       "        text-align: right;\n",
       "    }\n",
       "</style>\n",
       "<table border=\"1\" class=\"dataframe\">\n",
       "  <thead>\n",
       "    <tr style=\"text-align: right;\">\n",
       "      <th></th>\n",
       "      <th>id</th>\n",
       "      <th>object_name</th>\n",
       "      <th>chain</th>\n",
       "      <th>object_type</th>\n",
       "      <th>address</th>\n",
       "      <th>number</th>\n",
       "      <th>street</th>\n",
       "    </tr>\n",
       "  </thead>\n",
       "  <tbody>\n",
       "    <tr>\n",
       "      <th>2997</th>\n",
       "      <td>83284</td>\n",
       "      <td>Кафе «Восточная сказка»</td>\n",
       "      <td>нет</td>\n",
       "      <td>кафе</td>\n",
       "      <td>город Москва, 3-я Подрезковская улица, дом 14,...</td>\n",
       "      <td>60</td>\n",
       "      <td>3-я Подрезковская улица</td>\n",
       "    </tr>\n",
       "    <tr>\n",
       "      <th>3338</th>\n",
       "      <td>29234</td>\n",
       "      <td>Столовая при колледже</td>\n",
       "      <td>нет</td>\n",
       "      <td>столовая</td>\n",
       "      <td>город Москва, 14-я Парковая улица, дом 4Б</td>\n",
       "      <td>100</td>\n",
       "      <td>14-я Парковая улица</td>\n",
       "    </tr>\n",
       "    <tr>\n",
       "      <th>6119</th>\n",
       "      <td>25516</td>\n",
       "      <td>Ресторан «БОНИ МАРИЯ»</td>\n",
       "      <td>нет</td>\n",
       "      <td>ресторан</td>\n",
       "      <td>город Москва, 42-й километр Московской Кольцев...</td>\n",
       "      <td>170</td>\n",
       "      <td>42-й километр Московской Кольцевой Автодороги</td>\n",
       "    </tr>\n",
       "    <tr>\n",
       "      <th>6792</th>\n",
       "      <td>23706</td>\n",
       "      <td>Столовая ГБОУ Школа № 1985</td>\n",
       "      <td>нет</td>\n",
       "      <td>столовая</td>\n",
       "      <td>город Москва, Ландышевая улица, дом 8</td>\n",
       "      <td>192</td>\n",
       "      <td>Ландышевая улица</td>\n",
       "    </tr>\n",
       "    <tr>\n",
       "      <th>7227</th>\n",
       "      <td>22342</td>\n",
       "      <td>ГРИН ХАУС</td>\n",
       "      <td>нет</td>\n",
       "      <td>кафе</td>\n",
       "      <td>город Москва, город Зеленоград, Солнечная алле...</td>\n",
       "      <td>70</td>\n",
       "      <td>Солнечная аллея</td>\n",
       "    </tr>\n",
       "    <tr>\n",
       "      <th>8579</th>\n",
       "      <td>79870</td>\n",
       "      <td>СТОЛОВАЯ</td>\n",
       "      <td>нет</td>\n",
       "      <td>столовая</td>\n",
       "      <td>город Москва, поселение \"Мосрентген\", посёлок ...</td>\n",
       "      <td>40</td>\n",
       "      <td>Институтский проезд</td>\n",
       "    </tr>\n",
       "  </tbody>\n",
       "</table>\n",
       "</div>"
      ],
      "text/plain": [
       "         id                 object_name chain object_type  \\\n",
       "2997  83284     Кафе «Восточная сказка»   нет        кафе   \n",
       "3338  29234       Столовая при колледже   нет    столовая   \n",
       "6119  25516       Ресторан «БОНИ МАРИЯ»   нет    ресторан   \n",
       "6792  23706  Столовая ГБОУ Школа № 1985   нет    столовая   \n",
       "7227  22342                   ГРИН ХАУС   нет        кафе   \n",
       "8579  79870                    СТОЛОВАЯ   нет    столовая   \n",
       "\n",
       "                                                address  number  \\\n",
       "2997  город Москва, 3-я Подрезковская улица, дом 14,...      60   \n",
       "3338          город Москва, 14-я Парковая улица, дом 4Б     100   \n",
       "6119  город Москва, 42-й километр Московской Кольцев...     170   \n",
       "6792              город Москва, Ландышевая улица, дом 8     192   \n",
       "7227  город Москва, город Зеленоград, Солнечная алле...      70   \n",
       "8579  город Москва, поселение \"Мосрентген\", посёлок ...      40   \n",
       "\n",
       "                                             street  \n",
       "2997                        3-я Подрезковская улица  \n",
       "3338                            14-я Парковая улица  \n",
       "6119  42-й километр Московской Кольцевой Автодороги  \n",
       "6792                               Ландышевая улица  \n",
       "7227                                Солнечная аллея  \n",
       "8579                            Институтский проезд  "
      ]
     },
     "execution_count": 90,
     "metadata": {},
     "output_type": "execute_result"
    }
   ],
   "source": [
    "rest_df.query('street in @sel_bottom')                           # Запрос по основному датафрейму"
   ]
  },
  {
   "cell_type": "markdown",
   "id": "96576bce",
   "metadata": {},
   "source": [
    "Если обратиться к карте, то это действительно небольшие кафе и столовые в местах, где бывает не так уж и много посетителей. Например, Грин Хаус в Зеленограде - https://2gis.ru/zelenograd/geo/4504235282871814/37.203505%2C55.983522?m=37.207767%2C55.982952%2F16.03 примыкает к Московскому институту электронной техники и жилых домов поблизости практически нет."
   ]
  },
  {
   "cell_type": "markdown",
   "id": "85d2cf87",
   "metadata": {},
   "source": [
    "Для проверки уровня участия среди районов определим те из них, которые не попали в область исследования."
   ]
  },
  {
   "cell_type": "code",
   "execution_count": 91,
   "id": "6128ce91",
   "metadata": {},
   "outputs": [
    {
     "data": {
      "text/plain": [
       "{'поселение Киевский',\n",
       " 'поселение Кленовское',\n",
       " 'поселение Краснопахорское',\n",
       " 'поселение Марушкинское',\n",
       " 'поселение Михайлово-Ярцевское',\n",
       " 'поселение Первомайское',\n",
       " 'поселение Роговское',\n",
       " 'поселение Филимонковское',\n",
       " 'район Бибирево',\n",
       " 'район Братеево',\n",
       " 'район Вешняки',\n",
       " 'район Восточное Дегунино',\n",
       " 'район Зябликово',\n",
       " 'район Крылатское',\n",
       " 'район Метрогородок',\n",
       " 'район Нагатинский Затон',\n",
       " 'район Новокосино',\n",
       " 'район Северное Тушино',\n",
       " 'район Силино',\n",
       " 'район Ховрино'}"
      ]
     },
     "metadata": {},
     "output_type": "display_data"
    },
    {
     "name": "stdout",
     "output_type": "stream",
     "text": [
      "В исследовании не участвовало ТЕ: 20\n"
     ]
    }
   ],
   "source": [
    "total = high_pop + irreg_pop + low_pop                       # Общий список из 3 разных списков\n",
    "normal = total_dst + total_stl                               # Общий список из районов и поселений\n",
    "abn = set(normal) - set(total)                               # Cписок для записи незатронутых районов\n",
    "display(abn)                                                 # Просмотр списка незатронутых районов \n",
    "print(\"В исследовании не участвовало ТЕ:\", len(abn))         # Печать сообщения с количеством незатронутых районов"
   ]
  },
  {
   "cell_type": "markdown",
   "id": "2d7a51d7",
   "metadata": {},
   "source": [
    "Согласно проанализированным данным, из 125 районов и 21 поселения Москвы в исследовании не участвовало 20 территориальных единиц."
   ]
  },
  {
   "cell_type": "markdown",
   "id": "4c8a1dcb",
   "metadata": {},
   "source": [
    "## Подготовка презентации"
   ]
  },
  {
   "cell_type": "markdown",
   "id": "99cdb560",
   "metadata": {},
   "source": [
    "Выводы из аналитической части перенесены в презентацию по ссылке: https://disk.yandex.ru/d/iEpznOqt-YazcQ"
   ]
  },
  {
   "cell_type": "code",
   "execution_count": null,
   "id": "40603103",
   "metadata": {},
   "outputs": [],
   "source": []
  }
 ],
 "metadata": {
  "kernelspec": {
   "display_name": "Python 3 (ipykernel)",
   "language": "python",
   "name": "python3"
  },
  "language_info": {
   "codemirror_mode": {
    "name": "ipython",
    "version": 3
   },
   "file_extension": ".py",
   "mimetype": "text/x-python",
   "name": "python",
   "nbconvert_exporter": "python",
   "pygments_lexer": "ipython3",
   "version": "3.9.7"
  }
 },
 "nbformat": 4,
 "nbformat_minor": 5
}
